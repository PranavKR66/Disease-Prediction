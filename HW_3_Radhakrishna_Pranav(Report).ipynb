{
 "cells": [
  {
   "cell_type": "markdown",
   "metadata": {},
   "source": [
    "<h1><center>IST707 Data Analytics</center></h1>\n",
    "<h2><center>HW3: NBC, KNN, SVM, and Ensemble Learning</center></h2>\n",
    "<h3><center>Pranav Kottoli Radhakrishna, April 5th 2020</center></h3>"
   ]
  },
  {
   "cell_type": "markdown",
   "metadata": {},
   "source": [
    "## Introduction\n",
    "\n",
    "**The purpose of this assignment is to predict whether a patient has a disease based on biological information about the patient such as age and height. We will exlore and process the data in order to prepare it to be used to train machine learning algorithms. This is a binary classification problem. Therefore we will use a number of classification algorithms to make the prediction. We have a training dataset to train the machine learning algorithms and a testing dataset in order to test the predictions made by the algorithms.**"
   ]
  },
  {
   "cell_type": "markdown",
   "metadata": {},
   "source": [
    "## Executive Summary\n",
    "\n",
    "**We start the asignment by performing feature engineering by adding a new attribute(Body Mass Index). We proceed by performing Exploratory Data analysis where we look at missing values, outliers, correlation and patterns in the data through a combination of visualization and statistical analysis. This is followed by data preparation where we handle outliers and other anomalies that are present in the data. We also scale and one hot encode the data in order to prepare it for our machine learning algorithms**\n",
    "\n",
    "**Next, we model our data using different classification algorithms and decision tree based ensemble learning techniques. We use K Nearest Neighbors,Naive Bayes, Random Forest, Gradient Boosting, Linear SVM and Non Linear SVM. We then apply majority voting to these algorithms to see if the combination of algorithms can provide better results.**\n",
    "\n",
    "**Finally, we make predictions on the test dataset and export the outcomes to a csv file**"
   ]
  },
  {
   "cell_type": "markdown",
   "metadata": {},
   "source": [
    "## Import Libraries"
   ]
  },
  {
   "cell_type": "code",
   "execution_count": 1,
   "metadata": {},
   "outputs": [],
   "source": [
    "import numpy as np\n",
    "import pandas as pd\n",
    "import matplotlib.pyplot as plt\n",
    "import seaborn as sns\n",
    "import missingno as mn\n",
    "from sklearn.model_selection import train_test_split,GridSearchCV\n",
    "from sklearn.neighbors import KNeighborsClassifier\n",
    "from sklearn.metrics import classification_report,confusion_matrix, accuracy_score, recall_score, roc_auc_score, roc_curve\n",
    "from sklearn.preprocessing import MinMaxScaler, StandardScaler, RobustScaler\n",
    "from sklearn.naive_bayes import GaussianNB, BernoulliNB, MultinomialNB\n",
    "from sklearn.ensemble import RandomForestClassifier, GradientBoostingClassifier\n",
    "from sklearn.svm import SVC\n",
    "from sklearn import svm\n",
    "%matplotlib inline"
   ]
  },
  {
   "cell_type": "code",
   "execution_count": 2,
   "metadata": {},
   "outputs": [],
   "source": [
    "plt.style.use('seaborn-bright')"
   ]
  },
  {
   "cell_type": "markdown",
   "metadata": {},
   "source": [
    "## Import the Data"
   ]
  },
  {
   "cell_type": "code",
   "execution_count": 3,
   "metadata": {},
   "outputs": [],
   "source": [
    "df = pd.read_csv(\"Disease Prediction Training(1).csv\")"
   ]
  },
  {
   "cell_type": "code",
   "execution_count": 4,
   "metadata": {},
   "outputs": [],
   "source": [
    "df_testing = pd.read_csv(\"Disease Prediction Testing(1).csv\")"
   ]
  },
  {
   "cell_type": "markdown",
   "metadata": {},
   "source": [
    "# Data Preparation"
   ]
  },
  {
   "cell_type": "markdown",
   "metadata": {},
   "source": [
    "**Let's start of by adding the attribute body mass index(BMI) to the dataset. BMI can be calculated from height and weight using the formula:**\n",
    "\n",
    "$$ w / h^2$$\n",
    "\n",
    "**Where w is in kilograms and h is in metres. We can see further down that the new attribute has a relatively strong correlation with the target variable**"
   ]
  },
  {
   "cell_type": "code",
   "execution_count": 5,
   "metadata": {},
   "outputs": [],
   "source": [
    "df['BMI'] = df['Weight']/((df['Height']/100)**2)"
   ]
  },
  {
   "cell_type": "code",
   "execution_count": 6,
   "metadata": {},
   "outputs": [],
   "source": [
    "df_testing['BMI'] = df_testing['Weight']/((df_testing['Height']/100)**2)"
   ]
  },
  {
   "cell_type": "markdown",
   "metadata": {},
   "source": [
    "## Exploratory Data Analysis"
   ]
  },
  {
   "cell_type": "code",
   "execution_count": 7,
   "metadata": {},
   "outputs": [
    {
     "data": {
      "text/html": [
       "<div>\n",
       "<style scoped>\n",
       "    .dataframe tbody tr th:only-of-type {\n",
       "        vertical-align: middle;\n",
       "    }\n",
       "\n",
       "    .dataframe tbody tr th {\n",
       "        vertical-align: top;\n",
       "    }\n",
       "\n",
       "    .dataframe thead th {\n",
       "        text-align: right;\n",
       "    }\n",
       "</style>\n",
       "<table border=\"1\" class=\"dataframe\">\n",
       "  <thead>\n",
       "    <tr style=\"text-align: right;\">\n",
       "      <th></th>\n",
       "      <th>Age</th>\n",
       "      <th>Gender</th>\n",
       "      <th>Height</th>\n",
       "      <th>Weight</th>\n",
       "      <th>High Blood Pressure</th>\n",
       "      <th>Low Blood Pressure</th>\n",
       "      <th>Cholesterol</th>\n",
       "      <th>Glucose</th>\n",
       "      <th>Smoke</th>\n",
       "      <th>Alcohol</th>\n",
       "      <th>Exercise</th>\n",
       "      <th>Disease</th>\n",
       "      <th>BMI</th>\n",
       "    </tr>\n",
       "  </thead>\n",
       "  <tbody>\n",
       "    <tr>\n",
       "      <td>0</td>\n",
       "      <td>59</td>\n",
       "      <td>female</td>\n",
       "      <td>167</td>\n",
       "      <td>88.0</td>\n",
       "      <td>130</td>\n",
       "      <td>68</td>\n",
       "      <td>normal</td>\n",
       "      <td>normal</td>\n",
       "      <td>0</td>\n",
       "      <td>0</td>\n",
       "      <td>1</td>\n",
       "      <td>0</td>\n",
       "      <td>31.553659</td>\n",
       "    </tr>\n",
       "    <tr>\n",
       "      <td>1</td>\n",
       "      <td>64</td>\n",
       "      <td>female</td>\n",
       "      <td>150</td>\n",
       "      <td>71.0</td>\n",
       "      <td>140</td>\n",
       "      <td>100</td>\n",
       "      <td>normal</td>\n",
       "      <td>normal</td>\n",
       "      <td>0</td>\n",
       "      <td>0</td>\n",
       "      <td>0</td>\n",
       "      <td>1</td>\n",
       "      <td>31.555556</td>\n",
       "    </tr>\n",
       "    <tr>\n",
       "      <td>2</td>\n",
       "      <td>41</td>\n",
       "      <td>female</td>\n",
       "      <td>166</td>\n",
       "      <td>83.0</td>\n",
       "      <td>100</td>\n",
       "      <td>70</td>\n",
       "      <td>normal</td>\n",
       "      <td>normal</td>\n",
       "      <td>0</td>\n",
       "      <td>1</td>\n",
       "      <td>1</td>\n",
       "      <td>0</td>\n",
       "      <td>30.120482</td>\n",
       "    </tr>\n",
       "    <tr>\n",
       "      <td>3</td>\n",
       "      <td>50</td>\n",
       "      <td>male</td>\n",
       "      <td>172</td>\n",
       "      <td>110.0</td>\n",
       "      <td>130</td>\n",
       "      <td>80</td>\n",
       "      <td>normal</td>\n",
       "      <td>normal</td>\n",
       "      <td>1</td>\n",
       "      <td>0</td>\n",
       "      <td>1</td>\n",
       "      <td>0</td>\n",
       "      <td>37.182261</td>\n",
       "    </tr>\n",
       "    <tr>\n",
       "      <td>4</td>\n",
       "      <td>39</td>\n",
       "      <td>female</td>\n",
       "      <td>162</td>\n",
       "      <td>61.0</td>\n",
       "      <td>110</td>\n",
       "      <td>80</td>\n",
       "      <td>high</td>\n",
       "      <td>high</td>\n",
       "      <td>0</td>\n",
       "      <td>0</td>\n",
       "      <td>1</td>\n",
       "      <td>0</td>\n",
       "      <td>23.243408</td>\n",
       "    </tr>\n",
       "  </tbody>\n",
       "</table>\n",
       "</div>"
      ],
      "text/plain": [
       "   Age  Gender  Height  Weight  High Blood Pressure  Low Blood Pressure  \\\n",
       "0   59  female     167    88.0                  130                  68   \n",
       "1   64  female     150    71.0                  140                 100   \n",
       "2   41  female     166    83.0                  100                  70   \n",
       "3   50    male     172   110.0                  130                  80   \n",
       "4   39  female     162    61.0                  110                  80   \n",
       "\n",
       "  Cholesterol Glucose  Smoke  Alcohol  Exercise  Disease        BMI  \n",
       "0      normal  normal      0        0         1        0  31.553659  \n",
       "1      normal  normal      0        0         0        1  31.555556  \n",
       "2      normal  normal      0        1         1        0  30.120482  \n",
       "3      normal  normal      1        0         1        0  37.182261  \n",
       "4        high    high      0        0         1        0  23.243408  "
      ]
     },
     "execution_count": 7,
     "metadata": {},
     "output_type": "execute_result"
    }
   ],
   "source": [
    "df.head()"
   ]
  },
  {
   "cell_type": "code",
   "execution_count": 8,
   "metadata": {},
   "outputs": [
    {
     "data": {
      "text/html": [
       "<div>\n",
       "<style scoped>\n",
       "    .dataframe tbody tr th:only-of-type {\n",
       "        vertical-align: middle;\n",
       "    }\n",
       "\n",
       "    .dataframe tbody tr th {\n",
       "        vertical-align: top;\n",
       "    }\n",
       "\n",
       "    .dataframe thead th {\n",
       "        text-align: right;\n",
       "    }\n",
       "</style>\n",
       "<table border=\"1\" class=\"dataframe\">\n",
       "  <thead>\n",
       "    <tr style=\"text-align: right;\">\n",
       "      <th></th>\n",
       "      <th>Age</th>\n",
       "      <th>Height</th>\n",
       "      <th>Weight</th>\n",
       "      <th>High Blood Pressure</th>\n",
       "      <th>Low Blood Pressure</th>\n",
       "      <th>Smoke</th>\n",
       "      <th>Alcohol</th>\n",
       "      <th>Exercise</th>\n",
       "      <th>Disease</th>\n",
       "      <th>BMI</th>\n",
       "    </tr>\n",
       "  </thead>\n",
       "  <tbody>\n",
       "    <tr>\n",
       "      <td>count</td>\n",
       "      <td>49000.000000</td>\n",
       "      <td>49000.000000</td>\n",
       "      <td>49000.000000</td>\n",
       "      <td>49000.000000</td>\n",
       "      <td>49000.000000</td>\n",
       "      <td>49000.000000</td>\n",
       "      <td>49000.000000</td>\n",
       "      <td>49000.000000</td>\n",
       "      <td>49000.000000</td>\n",
       "      <td>49000.000000</td>\n",
       "    </tr>\n",
       "    <tr>\n",
       "      <td>mean</td>\n",
       "      <td>52.853306</td>\n",
       "      <td>164.366878</td>\n",
       "      <td>74.190527</td>\n",
       "      <td>128.698939</td>\n",
       "      <td>96.917367</td>\n",
       "      <td>0.088265</td>\n",
       "      <td>0.054245</td>\n",
       "      <td>0.803204</td>\n",
       "      <td>0.499959</td>\n",
       "      <td>27.550049</td>\n",
       "    </tr>\n",
       "    <tr>\n",
       "      <td>std</td>\n",
       "      <td>6.763065</td>\n",
       "      <td>8.216637</td>\n",
       "      <td>14.329934</td>\n",
       "      <td>147.624582</td>\n",
       "      <td>200.368069</td>\n",
       "      <td>0.283683</td>\n",
       "      <td>0.226503</td>\n",
       "      <td>0.397581</td>\n",
       "      <td>0.500005</td>\n",
       "      <td>6.067360</td>\n",
       "    </tr>\n",
       "    <tr>\n",
       "      <td>min</td>\n",
       "      <td>29.000000</td>\n",
       "      <td>55.000000</td>\n",
       "      <td>10.000000</td>\n",
       "      <td>-150.000000</td>\n",
       "      <td>0.000000</td>\n",
       "      <td>0.000000</td>\n",
       "      <td>0.000000</td>\n",
       "      <td>0.000000</td>\n",
       "      <td>0.000000</td>\n",
       "      <td>3.471784</td>\n",
       "    </tr>\n",
       "    <tr>\n",
       "      <td>25%</td>\n",
       "      <td>48.000000</td>\n",
       "      <td>159.000000</td>\n",
       "      <td>65.000000</td>\n",
       "      <td>120.000000</td>\n",
       "      <td>80.000000</td>\n",
       "      <td>0.000000</td>\n",
       "      <td>0.000000</td>\n",
       "      <td>1.000000</td>\n",
       "      <td>0.000000</td>\n",
       "      <td>23.875115</td>\n",
       "    </tr>\n",
       "    <tr>\n",
       "      <td>50%</td>\n",
       "      <td>53.000000</td>\n",
       "      <td>165.000000</td>\n",
       "      <td>72.000000</td>\n",
       "      <td>120.000000</td>\n",
       "      <td>80.000000</td>\n",
       "      <td>0.000000</td>\n",
       "      <td>0.000000</td>\n",
       "      <td>1.000000</td>\n",
       "      <td>0.000000</td>\n",
       "      <td>26.397977</td>\n",
       "    </tr>\n",
       "    <tr>\n",
       "      <td>75%</td>\n",
       "      <td>58.000000</td>\n",
       "      <td>170.000000</td>\n",
       "      <td>82.000000</td>\n",
       "      <td>140.000000</td>\n",
       "      <td>90.000000</td>\n",
       "      <td>0.000000</td>\n",
       "      <td>0.000000</td>\n",
       "      <td>1.000000</td>\n",
       "      <td>1.000000</td>\n",
       "      <td>30.163746</td>\n",
       "    </tr>\n",
       "    <tr>\n",
       "      <td>max</td>\n",
       "      <td>64.000000</td>\n",
       "      <td>207.000000</td>\n",
       "      <td>200.000000</td>\n",
       "      <td>14020.000000</td>\n",
       "      <td>11000.000000</td>\n",
       "      <td>1.000000</td>\n",
       "      <td>1.000000</td>\n",
       "      <td>1.000000</td>\n",
       "      <td>1.000000</td>\n",
       "      <td>298.666667</td>\n",
       "    </tr>\n",
       "  </tbody>\n",
       "</table>\n",
       "</div>"
      ],
      "text/plain": [
       "                Age        Height        Weight  High Blood Pressure  \\\n",
       "count  49000.000000  49000.000000  49000.000000         49000.000000   \n",
       "mean      52.853306    164.366878     74.190527           128.698939   \n",
       "std        6.763065      8.216637     14.329934           147.624582   \n",
       "min       29.000000     55.000000     10.000000          -150.000000   \n",
       "25%       48.000000    159.000000     65.000000           120.000000   \n",
       "50%       53.000000    165.000000     72.000000           120.000000   \n",
       "75%       58.000000    170.000000     82.000000           140.000000   \n",
       "max       64.000000    207.000000    200.000000         14020.000000   \n",
       "\n",
       "       Low Blood Pressure         Smoke       Alcohol      Exercise  \\\n",
       "count        49000.000000  49000.000000  49000.000000  49000.000000   \n",
       "mean            96.917367      0.088265      0.054245      0.803204   \n",
       "std            200.368069      0.283683      0.226503      0.397581   \n",
       "min              0.000000      0.000000      0.000000      0.000000   \n",
       "25%             80.000000      0.000000      0.000000      1.000000   \n",
       "50%             80.000000      0.000000      0.000000      1.000000   \n",
       "75%             90.000000      0.000000      0.000000      1.000000   \n",
       "max          11000.000000      1.000000      1.000000      1.000000   \n",
       "\n",
       "            Disease           BMI  \n",
       "count  49000.000000  49000.000000  \n",
       "mean       0.499959     27.550049  \n",
       "std        0.500005      6.067360  \n",
       "min        0.000000      3.471784  \n",
       "25%        0.000000     23.875115  \n",
       "50%        0.000000     26.397977  \n",
       "75%        1.000000     30.163746  \n",
       "max        1.000000    298.666667  "
      ]
     },
     "execution_count": 8,
     "metadata": {},
     "output_type": "execute_result"
    }
   ],
   "source": [
    "df.describe()"
   ]
  },
  {
   "cell_type": "code",
   "execution_count": 9,
   "metadata": {},
   "outputs": [
    {
     "data": {
      "text/html": [
       "<div>\n",
       "<style scoped>\n",
       "    .dataframe tbody tr th:only-of-type {\n",
       "        vertical-align: middle;\n",
       "    }\n",
       "\n",
       "    .dataframe tbody tr th {\n",
       "        vertical-align: top;\n",
       "    }\n",
       "\n",
       "    .dataframe thead th {\n",
       "        text-align: right;\n",
       "    }\n",
       "</style>\n",
       "<table border=\"1\" class=\"dataframe\">\n",
       "  <thead>\n",
       "    <tr style=\"text-align: right;\">\n",
       "      <th></th>\n",
       "      <th>Age</th>\n",
       "      <th>Height</th>\n",
       "      <th>Weight</th>\n",
       "      <th>High Blood Pressure</th>\n",
       "      <th>Low Blood Pressure</th>\n",
       "      <th>Smoke</th>\n",
       "      <th>Alcohol</th>\n",
       "      <th>Exercise</th>\n",
       "      <th>Disease</th>\n",
       "      <th>BMI</th>\n",
       "    </tr>\n",
       "  </thead>\n",
       "  <tbody>\n",
       "    <tr>\n",
       "      <td>Age</td>\n",
       "      <td>1.000000</td>\n",
       "      <td>-0.077621</td>\n",
       "      <td>0.054611</td>\n",
       "      <td>0.024186</td>\n",
       "      <td>0.015983</td>\n",
       "      <td>-0.050065</td>\n",
       "      <td>-0.028419</td>\n",
       "      <td>-0.011579</td>\n",
       "      <td>0.239784</td>\n",
       "      <td>0.086350</td>\n",
       "    </tr>\n",
       "    <tr>\n",
       "      <td>Height</td>\n",
       "      <td>-0.077621</td>\n",
       "      <td>1.000000</td>\n",
       "      <td>0.291676</td>\n",
       "      <td>0.002917</td>\n",
       "      <td>0.005524</td>\n",
       "      <td>0.186391</td>\n",
       "      <td>0.093549</td>\n",
       "      <td>-0.007061</td>\n",
       "      <td>-0.011022</td>\n",
       "      <td>-0.296359</td>\n",
       "    </tr>\n",
       "    <tr>\n",
       "      <td>Weight</td>\n",
       "      <td>0.054611</td>\n",
       "      <td>0.291676</td>\n",
       "      <td>1.000000</td>\n",
       "      <td>0.031973</td>\n",
       "      <td>0.041933</td>\n",
       "      <td>0.063138</td>\n",
       "      <td>0.061883</td>\n",
       "      <td>-0.017145</td>\n",
       "      <td>0.181836</td>\n",
       "      <td>0.756235</td>\n",
       "    </tr>\n",
       "    <tr>\n",
       "      <td>High Blood Pressure</td>\n",
       "      <td>0.024186</td>\n",
       "      <td>0.002917</td>\n",
       "      <td>0.031973</td>\n",
       "      <td>1.000000</td>\n",
       "      <td>0.016065</td>\n",
       "      <td>-0.000820</td>\n",
       "      <td>0.001555</td>\n",
       "      <td>0.002153</td>\n",
       "      <td>0.053667</td>\n",
       "      <td>0.027014</td>\n",
       "    </tr>\n",
       "    <tr>\n",
       "      <td>Low Blood Pressure</td>\n",
       "      <td>0.015983</td>\n",
       "      <td>0.005524</td>\n",
       "      <td>0.041933</td>\n",
       "      <td>0.016065</td>\n",
       "      <td>1.000000</td>\n",
       "      <td>0.005267</td>\n",
       "      <td>0.012807</td>\n",
       "      <td>0.002568</td>\n",
       "      <td>0.060944</td>\n",
       "      <td>0.033772</td>\n",
       "    </tr>\n",
       "    <tr>\n",
       "      <td>Smoke</td>\n",
       "      <td>-0.050065</td>\n",
       "      <td>0.186391</td>\n",
       "      <td>0.063138</td>\n",
       "      <td>-0.000820</td>\n",
       "      <td>0.005267</td>\n",
       "      <td>1.000000</td>\n",
       "      <td>0.337435</td>\n",
       "      <td>0.026082</td>\n",
       "      <td>-0.014579</td>\n",
       "      <td>-0.031568</td>\n",
       "    </tr>\n",
       "    <tr>\n",
       "      <td>Alcohol</td>\n",
       "      <td>-0.028419</td>\n",
       "      <td>0.093549</td>\n",
       "      <td>0.061883</td>\n",
       "      <td>0.001555</td>\n",
       "      <td>0.012807</td>\n",
       "      <td>0.337435</td>\n",
       "      <td>1.000000</td>\n",
       "      <td>0.026081</td>\n",
       "      <td>-0.004486</td>\n",
       "      <td>0.008615</td>\n",
       "    </tr>\n",
       "    <tr>\n",
       "      <td>Exercise</td>\n",
       "      <td>-0.011579</td>\n",
       "      <td>-0.007061</td>\n",
       "      <td>-0.017145</td>\n",
       "      <td>0.002153</td>\n",
       "      <td>0.002568</td>\n",
       "      <td>0.026082</td>\n",
       "      <td>0.026081</td>\n",
       "      <td>1.000000</td>\n",
       "      <td>-0.035202</td>\n",
       "      <td>-0.014548</td>\n",
       "    </tr>\n",
       "    <tr>\n",
       "      <td>Disease</td>\n",
       "      <td>0.239784</td>\n",
       "      <td>-0.011022</td>\n",
       "      <td>0.181836</td>\n",
       "      <td>0.053667</td>\n",
       "      <td>0.060944</td>\n",
       "      <td>-0.014579</td>\n",
       "      <td>-0.004486</td>\n",
       "      <td>-0.035202</td>\n",
       "      <td>1.000000</td>\n",
       "      <td>0.165530</td>\n",
       "    </tr>\n",
       "    <tr>\n",
       "      <td>BMI</td>\n",
       "      <td>0.086350</td>\n",
       "      <td>-0.296359</td>\n",
       "      <td>0.756235</td>\n",
       "      <td>0.027014</td>\n",
       "      <td>0.033772</td>\n",
       "      <td>-0.031568</td>\n",
       "      <td>0.008615</td>\n",
       "      <td>-0.014548</td>\n",
       "      <td>0.165530</td>\n",
       "      <td>1.000000</td>\n",
       "    </tr>\n",
       "  </tbody>\n",
       "</table>\n",
       "</div>"
      ],
      "text/plain": [
       "                          Age    Height    Weight  High Blood Pressure  \\\n",
       "Age                  1.000000 -0.077621  0.054611             0.024186   \n",
       "Height              -0.077621  1.000000  0.291676             0.002917   \n",
       "Weight               0.054611  0.291676  1.000000             0.031973   \n",
       "High Blood Pressure  0.024186  0.002917  0.031973             1.000000   \n",
       "Low Blood Pressure   0.015983  0.005524  0.041933             0.016065   \n",
       "Smoke               -0.050065  0.186391  0.063138            -0.000820   \n",
       "Alcohol             -0.028419  0.093549  0.061883             0.001555   \n",
       "Exercise            -0.011579 -0.007061 -0.017145             0.002153   \n",
       "Disease              0.239784 -0.011022  0.181836             0.053667   \n",
       "BMI                  0.086350 -0.296359  0.756235             0.027014   \n",
       "\n",
       "                     Low Blood Pressure     Smoke   Alcohol  Exercise  \\\n",
       "Age                            0.015983 -0.050065 -0.028419 -0.011579   \n",
       "Height                         0.005524  0.186391  0.093549 -0.007061   \n",
       "Weight                         0.041933  0.063138  0.061883 -0.017145   \n",
       "High Blood Pressure            0.016065 -0.000820  0.001555  0.002153   \n",
       "Low Blood Pressure             1.000000  0.005267  0.012807  0.002568   \n",
       "Smoke                          0.005267  1.000000  0.337435  0.026082   \n",
       "Alcohol                        0.012807  0.337435  1.000000  0.026081   \n",
       "Exercise                       0.002568  0.026082  0.026081  1.000000   \n",
       "Disease                        0.060944 -0.014579 -0.004486 -0.035202   \n",
       "BMI                            0.033772 -0.031568  0.008615 -0.014548   \n",
       "\n",
       "                      Disease       BMI  \n",
       "Age                  0.239784  0.086350  \n",
       "Height              -0.011022 -0.296359  \n",
       "Weight               0.181836  0.756235  \n",
       "High Blood Pressure  0.053667  0.027014  \n",
       "Low Blood Pressure   0.060944  0.033772  \n",
       "Smoke               -0.014579 -0.031568  \n",
       "Alcohol             -0.004486  0.008615  \n",
       "Exercise            -0.035202 -0.014548  \n",
       "Disease              1.000000  0.165530  \n",
       "BMI                  0.165530  1.000000  "
      ]
     },
     "execution_count": 9,
     "metadata": {},
     "output_type": "execute_result"
    }
   ],
   "source": [
    "df.corr()"
   ]
  },
  {
   "cell_type": "code",
   "execution_count": 10,
   "metadata": {},
   "outputs": [
    {
     "data": {
      "text/plain": [
       "(49000, 13)"
      ]
     },
     "execution_count": 10,
     "metadata": {},
     "output_type": "execute_result"
    }
   ],
   "source": [
    "df.shape"
   ]
  },
  {
   "cell_type": "markdown",
   "metadata": {},
   "source": [
    "### Search for missing values\n",
    "\n",
    "**The dataset contains no missing values**"
   ]
  },
  {
   "cell_type": "code",
   "execution_count": 11,
   "metadata": {},
   "outputs": [
    {
     "data": {
      "image/png": "[encoded data removed]",
      "text/plain": [
       "<Figure size 1800x720 with 2 Axes>"
      ]
     },
     "metadata": {
      "needs_background": "light"
     },
     "output_type": "display_data"
    }
   ],
   "source": [
    "mn.matrix(df)\n",
    "plt.show()"
   ]
  },
  {
   "cell_type": "code",
   "execution_count": 12,
   "metadata": {},
   "outputs": [
    {
     "data": {
      "text/plain": [
       "0"
      ]
     },
     "execution_count": 12,
     "metadata": {},
     "output_type": "execute_result"
    }
   ],
   "source": [
    "df.isna().sum().sum()"
   ]
  },
  {
   "cell_type": "markdown",
   "metadata": {},
   "source": [
    "### Let's Visualize the data"
   ]
  },
  {
   "cell_type": "code",
   "execution_count": 13,
   "metadata": {},
   "outputs": [],
   "source": [
    "def plot_dist_grid(row,col,cols):\n",
    "    \n",
    "    fig, axes = plt.subplots(nrows=row, ncols=col, figsize=(12,10))\n",
    "    i = 0\n",
    "    for ax in axes.flatten():\n",
    "        sns.distplot(df[cols[i]],ax= ax,kde = False)\n",
    "        i += 1\n",
    "    \n",
    "    # Display the figure object    \n",
    "    fig\n",
    "    plt.tight_layout()"
   ]
  },
  {
   "cell_type": "code",
   "execution_count": 14,
   "metadata": {},
   "outputs": [],
   "source": [
    "def plot_count_grid(row,col,cols):\n",
    "    \n",
    "    fig, axes = plt.subplots(nrows=row, ncols=col, figsize=(12,10))\n",
    "    i = 0\n",
    "    for ax in axes.flatten():\n",
    "        sns.countplot(x = cols[i],ax= ax,data = df)\n",
    "        i += 1\n",
    "    \n",
    "    # Display the figure object    \n",
    "    fig\n",
    "    plt.tight_layout()"
   ]
  },
  {
   "cell_type": "code",
   "execution_count": 15,
   "metadata": {},
   "outputs": [
    {
     "data": {
      "image/png": "[encoded data removed]",
      "text/plain": [
       "<Figure size 864x720 with 6 Axes>"
      ]
     },
     "metadata": {
      "needs_background": "light"
     },
     "output_type": "display_data"
    }
   ],
   "source": [
    "plot_dist_grid(3,2,['Age','Height','Weight','BMI','High Blood Pressure','Low Blood Pressure'])"
   ]
  },
  {
   "cell_type": "code",
   "execution_count": 16,
   "metadata": {},
   "outputs": [
    {
     "data": {
      "image/png": "[encoded data removed]",
      "text/plain": [
       "<Figure size 864x720 with 6 Axes>"
      ]
     },
     "metadata": {
      "needs_background": "light"
     },
     "output_type": "display_data"
    }
   ],
   "source": [
    "plot_count_grid(3,2,['Gender','Cholesterol','Glucose','Smoke','Alcohol','Exercise'])"
   ]
  },
  {
   "cell_type": "code",
   "execution_count": 17,
   "metadata": {},
   "outputs": [
    {
     "data": {
      "text/plain": [
       "<matplotlib.axes._subplots.AxesSubplot at 0x11615311588>"
      ]
     },
     "execution_count": 17,
     "metadata": {},
     "output_type": "execute_result"
    },
    {
     "data": {
      "image/png": "[encoded data removed]",
      "text/plain": [
       "<Figure size 432x288 with 1 Axes>"
      ]
     },
     "metadata": {
      "needs_background": "light"
     },
     "output_type": "display_data"
    }
   ],
   "source": [
    "sns.countplot('Disease',data = df)"
   ]
  },
  {
   "cell_type": "markdown",
   "metadata": {},
   "source": [
    "### Handling Outliers\n",
    "\n",
    "**Some attributes like Low Blood Pressure, High Blood Pressure and BMI contain outliers. We deal with this by winsorizing these attributes. The value to which the outliers are winsorized is based on domain knowledge**"
   ]
  },
  {
   "cell_type": "code",
   "execution_count": 18,
   "metadata": {},
   "outputs": [],
   "source": [
    "def winsorize(data,column,upper,lower):\n",
    "    for j, val in enumerate(column):\n",
    "        Q1 = np.quantile(data[val],0.25)\n",
    "        Q3 = np.quantile(data[val],0.75)\n",
    "        IQR = Q3-Q1\n",
    "\n",
    "        upper_bound = Q3 + (1.5 * IQR)\n",
    "        lower_bound = Q1 - (1.5 * IQR)\n",
    "\n",
    "        high_outliers = data[val][data[val] > upper_bound]\n",
    "        low_outliers  = data[val][data[val] < lower_bound]\n",
    "\n",
    "        upper_value = np.quantile(data[val],upper[j])\n",
    "        lower_value = np.quantile(data[val],lower[j])\n",
    "\n",
    "        for i in high_outliers.index:\n",
    "            data.at[i,val] = upper_value\n",
    "\n",
    "        for i in low_outliers.index:\n",
    "            data.at[i,val] = lower_value\n",
    "    \n",
    "    return data"
   ]
  },
  {
   "cell_type": "code",
   "execution_count": 19,
   "metadata": {},
   "outputs": [],
   "source": [
    "df = winsorize(df,['Low Blood Pressure','High Blood Pressure','BMI'],[0.986,0.998,0.97],[0.01,0.01,0.001])"
   ]
  },
  {
   "cell_type": "code",
   "execution_count": 20,
   "metadata": {},
   "outputs": [],
   "source": [
    "df_testing = winsorize(df_testing,['Low Blood Pressure','High Blood Pressure','BMI'],[0.9855,0.998,0.97],[0.01,0.01,0.001])"
   ]
  },
  {
   "cell_type": "markdown",
   "metadata": {},
   "source": [
    "**We find that the value of low blood pressure is higher than high blood pressure in some of the rows. We handle this by reversing the values**"
   ]
  },
  {
   "cell_type": "code",
   "execution_count": 21,
   "metadata": {},
   "outputs": [],
   "source": [
    "ind = df[df['Low Blood Pressure'] > df['High Blood Pressure']].index\n",
    "high = df['High Blood Pressure'].iloc[ind]\n",
    "low  = df['Low Blood Pressure'].iloc[ind]\n",
    "for i in ind:\n",
    "    df.at[i,'High Blood Pressure'] = df['Low Blood Pressure'].iloc[i]\n",
    "    df.at[i,'Low Blood Pressure']  = df['High Blood Pressure'].iloc[i]"
   ]
  },
  {
   "cell_type": "code",
   "execution_count": 22,
   "metadata": {},
   "outputs": [],
   "source": [
    "ind = df_testing[df_testing['Low Blood Pressure'] > df_testing['High Blood Pressure']].index\n",
    "high = df_testing['High Blood Pressure'].iloc[ind]\n",
    "low  = df_testing['Low Blood Pressure'].iloc[ind]\n",
    "for i in ind:\n",
    "    df_testing.at[i,'High Blood Pressure'] = df_testing['Low Blood Pressure'].iloc[i]\n",
    "    df_testing.at[i,'Low Blood Pressure']  = df_testing['High Blood Pressure'].iloc[i]"
   ]
  },
  {
   "cell_type": "markdown",
   "metadata": {},
   "source": [
    "### Handle Duplicates\n",
    "\n",
    "**The dataset contains some duplicate values. These can be dropped**"
   ]
  },
  {
   "cell_type": "code",
   "execution_count": 23,
   "metadata": {},
   "outputs": [
    {
     "data": {
      "text/html": [
       "<div>\n",
       "<style scoped>\n",
       "    .dataframe tbody tr th:only-of-type {\n",
       "        vertical-align: middle;\n",
       "    }\n",
       "\n",
       "    .dataframe tbody tr th {\n",
       "        vertical-align: top;\n",
       "    }\n",
       "\n",
       "    .dataframe thead th {\n",
       "        text-align: right;\n",
       "    }\n",
       "</style>\n",
       "<table border=\"1\" class=\"dataframe\">\n",
       "  <thead>\n",
       "    <tr style=\"text-align: right;\">\n",
       "      <th></th>\n",
       "      <th>Age</th>\n",
       "      <th>Gender</th>\n",
       "      <th>Height</th>\n",
       "      <th>Weight</th>\n",
       "      <th>High Blood Pressure</th>\n",
       "      <th>Low Blood Pressure</th>\n",
       "      <th>Cholesterol</th>\n",
       "      <th>Glucose</th>\n",
       "      <th>Smoke</th>\n",
       "      <th>Alcohol</th>\n",
       "      <th>Exercise</th>\n",
       "      <th>Disease</th>\n",
       "      <th>BMI</th>\n",
       "    </tr>\n",
       "  </thead>\n",
       "  <tbody>\n",
       "    <tr>\n",
       "      <td>1278</td>\n",
       "      <td>40</td>\n",
       "      <td>female</td>\n",
       "      <td>156</td>\n",
       "      <td>65.0</td>\n",
       "      <td>110</td>\n",
       "      <td>80</td>\n",
       "      <td>normal</td>\n",
       "      <td>normal</td>\n",
       "      <td>0</td>\n",
       "      <td>0</td>\n",
       "      <td>1</td>\n",
       "      <td>0</td>\n",
       "      <td>26.709402</td>\n",
       "    </tr>\n",
       "    <tr>\n",
       "      <td>1581</td>\n",
       "      <td>56</td>\n",
       "      <td>female</td>\n",
       "      <td>160</td>\n",
       "      <td>60.0</td>\n",
       "      <td>120</td>\n",
       "      <td>80</td>\n",
       "      <td>normal</td>\n",
       "      <td>normal</td>\n",
       "      <td>0</td>\n",
       "      <td>0</td>\n",
       "      <td>1</td>\n",
       "      <td>1</td>\n",
       "      <td>23.437500</td>\n",
       "    </tr>\n",
       "    <tr>\n",
       "      <td>1901</td>\n",
       "      <td>54</td>\n",
       "      <td>female</td>\n",
       "      <td>170</td>\n",
       "      <td>80.0</td>\n",
       "      <td>120</td>\n",
       "      <td>80</td>\n",
       "      <td>normal</td>\n",
       "      <td>normal</td>\n",
       "      <td>0</td>\n",
       "      <td>0</td>\n",
       "      <td>1</td>\n",
       "      <td>0</td>\n",
       "      <td>27.681661</td>\n",
       "    </tr>\n",
       "    <tr>\n",
       "      <td>2412</td>\n",
       "      <td>41</td>\n",
       "      <td>female</td>\n",
       "      <td>162</td>\n",
       "      <td>65.0</td>\n",
       "      <td>110</td>\n",
       "      <td>70</td>\n",
       "      <td>normal</td>\n",
       "      <td>normal</td>\n",
       "      <td>0</td>\n",
       "      <td>0</td>\n",
       "      <td>1</td>\n",
       "      <td>0</td>\n",
       "      <td>24.767566</td>\n",
       "    </tr>\n",
       "    <tr>\n",
       "      <td>3027</td>\n",
       "      <td>56</td>\n",
       "      <td>female</td>\n",
       "      <td>169</td>\n",
       "      <td>70.0</td>\n",
       "      <td>120</td>\n",
       "      <td>80</td>\n",
       "      <td>normal</td>\n",
       "      <td>normal</td>\n",
       "      <td>0</td>\n",
       "      <td>0</td>\n",
       "      <td>1</td>\n",
       "      <td>0</td>\n",
       "      <td>24.508946</td>\n",
       "    </tr>\n",
       "  </tbody>\n",
       "</table>\n",
       "</div>"
      ],
      "text/plain": [
       "      Age  Gender  Height  Weight  High Blood Pressure  Low Blood Pressure  \\\n",
       "1278   40  female     156    65.0                  110                  80   \n",
       "1581   56  female     160    60.0                  120                  80   \n",
       "1901   54  female     170    80.0                  120                  80   \n",
       "2412   41  female     162    65.0                  110                  70   \n",
       "3027   56  female     169    70.0                  120                  80   \n",
       "\n",
       "     Cholesterol Glucose  Smoke  Alcohol  Exercise  Disease        BMI  \n",
       "1278      normal  normal      0        0         1        0  26.709402  \n",
       "1581      normal  normal      0        0         1        1  23.437500  \n",
       "1901      normal  normal      0        0         1        0  27.681661  \n",
       "2412      normal  normal      0        0         1        0  24.767566  \n",
       "3027      normal  normal      0        0         1        0  24.508946  "
      ]
     },
     "execution_count": 23,
     "metadata": {},
     "output_type": "execute_result"
    }
   ],
   "source": [
    "df[df.duplicated()].head()"
   ]
  },
  {
   "cell_type": "code",
   "execution_count": 24,
   "metadata": {},
   "outputs": [],
   "source": [
    "df.drop_duplicates(inplace=True)"
   ]
  },
  {
   "cell_type": "code",
   "execution_count": 25,
   "metadata": {},
   "outputs": [],
   "source": [
    "df_testing.drop_duplicates(inplace=True)"
   ]
  },
  {
   "cell_type": "markdown",
   "metadata": {},
   "source": [
    "### One hot encoding\n",
    "\n",
    "**Certain algorithms like K Nearest Neighbors cannot have categorical variables. In order to deal with this we create dummy variables**"
   ]
  },
  {
   "cell_type": "code",
   "execution_count": 26,
   "metadata": {},
   "outputs": [],
   "source": [
    "def create_dummies(data,col_list):\n",
    "    \n",
    "    for col_name in col_list:\n",
    "        \n",
    "        drop_first = False\n",
    "        if len(data[col_name].value_counts().index) == 2:\n",
    "            drop_first = True\n",
    "            \n",
    "        tempdf = pd.get_dummies(data[col_name],drop_first = drop_first)\n",
    "        \n",
    "        if not drop_first:\n",
    "            tempdf.columns = [col_name +'_' + str(col) for col in tempdf.columns]\n",
    "        else:\n",
    "            tempdf.columns = [col_name]\n",
    "            \n",
    "        data = data.drop(col_name,axis = 1).join(tempdf)\n",
    "        \n",
    "    return data"
   ]
  },
  {
   "cell_type": "code",
   "execution_count": 27,
   "metadata": {},
   "outputs": [],
   "source": [
    "df_one_hot = create_dummies(df,['Gender','Glucose','Cholesterol'])"
   ]
  },
  {
   "cell_type": "code",
   "execution_count": 28,
   "metadata": {},
   "outputs": [],
   "source": [
    "df_test_one_hot = create_dummies(df_testing,['Gender','Glucose','Cholesterol'])"
   ]
  },
  {
   "cell_type": "markdown",
   "metadata": {},
   "source": [
    "### Let's scale the data\n",
    "\n",
    "**Since K Nearest Neighbors and Support Vector Machines are both distance based algorithms, we have to scale the data**"
   ]
  },
  {
   "cell_type": "code",
   "execution_count": 29,
   "metadata": {},
   "outputs": [],
   "source": [
    "min_max_scaler = MinMaxScaler()\n",
    "np_scaled = min_max_scaler.fit_transform(df_one_hot)\n",
    "df_normalized = pd.DataFrame(np_scaled, columns=df_one_hot.columns, index=df_one_hot.index)\n",
    "\n",
    "standard_scaler = StandardScaler()\n",
    "np_scaled = standard_scaler.fit_transform(df_one_hot.drop('Disease',axis = 1))\n",
    "\n",
    "df_standardized = pd.DataFrame(np_scaled, columns=df_one_hot.drop('Disease',axis = 1).columns, index=df_one_hot.drop('Disease',axis = 1).index)\n",
    "df_standardized['Disease'] = df_one_hot['Disease']"
   ]
  },
  {
   "cell_type": "code",
   "execution_count": 30,
   "metadata": {},
   "outputs": [],
   "source": [
    "min_max_scaler = MinMaxScaler()\n",
    "np_scaled = min_max_scaler.fit_transform(df_test_one_hot.drop('ID',axis = 1))\n",
    "df_test_normalized = pd.DataFrame(np_scaled, columns=df_test_one_hot.drop('ID',axis = 1).columns, index=df_test_one_hot.drop('ID',axis = 1).index)\n",
    "df_test_normalized['ID'] = df_test_one_hot['ID']\n",
    "\n",
    "standard_scaler = StandardScaler()\n",
    "np_scaled = standard_scaler.fit_transform(df_test_one_hot.drop('ID',axis = 1))\n",
    "\n",
    "df_test_standardized = pd.DataFrame(np_scaled, columns=df_test_one_hot.drop('ID',axis = 1).columns, index=df_test_one_hot.drop('ID',axis = 1).index)\n",
    "df_test_standardized['ID'] = df_test_one_hot['ID']"
   ]
  },
  {
   "cell_type": "markdown",
   "metadata": {},
   "source": [
    "# Data Modeling\n",
    "\n",
    "**The evaluation metric to be optimized are recall and accuracy. It's important to mininimize False Negatives, since it's better to predict that the patient has the disease and have that be false than to predict that they don't and have someone go undiagnosed**"
   ]
  },
  {
   "cell_type": "markdown",
   "metadata": {},
   "source": [
    "**Let's create a function to plot an ROC and calculate the AUC**"
   ]
  },
  {
   "cell_type": "code",
   "execution_count": 31,
   "metadata": {},
   "outputs": [],
   "source": [
    "def generate_roc(model,y_test,model_name):\n",
    "    # generate a no skill prediction (majority class)\n",
    "    ns_probs = [0 for _ in range(len(y_test))]\n",
    "\n",
    "    # predict probabilities\n",
    "    lr_probs = model.predict_proba(X_test)\n",
    "    # keep probabilities for the positive outcome only\n",
    "    lr_probs = lr_probs[:, 1]\n",
    "    # calculate scores\n",
    "    ns_auc = roc_auc_score(y_test, ns_probs)\n",
    "    lr_auc = roc_auc_score(y_test, lr_probs)\n",
    "    # summarize scores\n",
    "    print('No Skill: ROC AUC=%.3f' % (ns_auc))\n",
    "    print('{}: ROC AUC=%.3f'.format(model_name) % (lr_auc))\n",
    "    # calculate roc curves\n",
    "    ns_fpr, ns_tpr, _ = roc_curve(y_test, ns_probs)\n",
    "    lr_fpr, lr_tpr, _ = roc_curve(y_test, lr_probs)\n",
    "    # plot the roc curve for the model\n",
    "    plt.figure(figsize=(16,8))\n",
    "    plt.plot(ns_fpr, ns_tpr, linestyle='--', label='No Skill')\n",
    "    plt.plot(lr_fpr, lr_tpr, marker='.', label=model_name)\n",
    "    # axis labels\n",
    "    plt.xlabel('False Positive Rate')\n",
    "    plt.ylabel('True Positive Rate')\n",
    "    # show the legend\n",
    "    plt.legend()\n",
    "    # show the plot\n",
    "    plt.show()"
   ]
  },
  {
   "cell_type": "markdown",
   "metadata": {},
   "source": [
    "## K Nearest Neighbor (KNN)\n",
    "\n",
    "**The baseline model for K Nearest Neighbor has an accuracy of 0.69 and a recall of 0.70**"
   ]
  },
  {
   "cell_type": "code",
   "execution_count": 32,
   "metadata": {},
   "outputs": [],
   "source": [
    "X = df_normalized.drop('Disease',axis = 1)\n",
    "y = df_normalized['Disease']"
   ]
  },
  {
   "cell_type": "code",
   "execution_count": 33,
   "metadata": {},
   "outputs": [],
   "source": [
    "X_train, X_test, y_train, y_test = train_test_split(X, y, test_size=0.30, random_state=42)"
   ]
  },
  {
   "cell_type": "code",
   "execution_count": 34,
   "metadata": {},
   "outputs": [
    {
     "data": {
      "text/plain": [
       "KNeighborsClassifier(algorithm='auto', leaf_size=30, metric='minkowski',\n",
       "                     metric_params=None, n_jobs=None, n_neighbors=5, p=2,\n",
       "                     weights='uniform')"
      ]
     },
     "execution_count": 34,
     "metadata": {},
     "output_type": "execute_result"
    }
   ],
   "source": [
    "neigh = KNeighborsClassifier()\n",
    "neigh.fit(X_train,y_train)"
   ]
  },
  {
   "cell_type": "code",
   "execution_count": 35,
   "metadata": {},
   "outputs": [],
   "source": [
    "pred = neigh.predict(X_test)"
   ]
  },
  {
   "cell_type": "code",
   "execution_count": 36,
   "metadata": {},
   "outputs": [
    {
     "name": "stdout",
     "output_type": "stream",
     "text": [
      "              precision    recall  f1-score   support\n",
      "\n",
      "         0.0       0.69      0.69      0.69      6992\n",
      "         1.0       0.70      0.70      0.70      7183\n",
      "\n",
      "    accuracy                           0.69     14175\n",
      "   macro avg       0.69      0.69      0.69     14175\n",
      "weighted avg       0.69      0.69      0.69     14175\n",
      "\n",
      "Accuracy Score:  0.6931922398589065\n",
      "Recall Score:  0.6988723374634553\n"
     ]
    },
    {
     "data": {
      "text/html": [
       "<div>\n",
       "<style scoped>\n",
       "    .dataframe tbody tr th:only-of-type {\n",
       "        vertical-align: middle;\n",
       "    }\n",
       "\n",
       "    .dataframe tbody tr th {\n",
       "        vertical-align: top;\n",
       "    }\n",
       "\n",
       "    .dataframe thead th {\n",
       "        text-align: right;\n",
       "    }\n",
       "</style>\n",
       "<table border=\"1\" class=\"dataframe\">\n",
       "  <thead>\n",
       "    <tr style=\"text-align: right;\">\n",
       "      <th>Predicted</th>\n",
       "      <th>0.0</th>\n",
       "      <th>1.0</th>\n",
       "      <th>All</th>\n",
       "    </tr>\n",
       "    <tr>\n",
       "      <th>True</th>\n",
       "      <th></th>\n",
       "      <th></th>\n",
       "      <th></th>\n",
       "    </tr>\n",
       "  </thead>\n",
       "  <tbody>\n",
       "    <tr>\n",
       "      <td>0.0</td>\n",
       "      <td>4806</td>\n",
       "      <td>2186</td>\n",
       "      <td>6992</td>\n",
       "    </tr>\n",
       "    <tr>\n",
       "      <td>1.0</td>\n",
       "      <td>2163</td>\n",
       "      <td>5020</td>\n",
       "      <td>7183</td>\n",
       "    </tr>\n",
       "    <tr>\n",
       "      <td>All</td>\n",
       "      <td>6969</td>\n",
       "      <td>7206</td>\n",
       "      <td>14175</td>\n",
       "    </tr>\n",
       "  </tbody>\n",
       "</table>\n",
       "</div>"
      ],
      "text/plain": [
       "Predicted   0.0   1.0    All\n",
       "True                        \n",
       "0.0        4806  2186   6992\n",
       "1.0        2163  5020   7183\n",
       "All        6969  7206  14175"
      ]
     },
     "execution_count": 36,
     "metadata": {},
     "output_type": "execute_result"
    }
   ],
   "source": [
    "print(classification_report(y_test,pred))\n",
    "print(\"Accuracy Score: \",accuracy_score(y_test,pred))\n",
    "print(\"Recall Score: \",recall_score(y_test,pred))\n",
    "pd.crosstab(y_test, pred, rownames=['True'], colnames=['Predicted'], margins=True)"
   ]
  },
  {
   "cell_type": "markdown",
   "metadata": {},
   "source": [
    "## Optimization\n",
    "\n",
    "**The following grid search returns the hyperparameters which provide the best results with a recall of 0.71 and an accuracy of 0.73**\n",
    "\n",
    "**The hyperparameters tuned are**\n",
    "- **n_neighbors: The numberof nearest neighbors to use when making a classification**\n",
    "- **weights: Determines the weight assigned to each of the neighbors**\n",
    "- **algorithm: Determines the algorithm to be used to compute the nearest neighbors**\n",
    "- **p: The degree of the minckowski distance function**"
   ]
  },
  {
   "cell_type": "code",
   "execution_count": 347,
   "metadata": {},
   "outputs": [
    {
     "name": "stdout",
     "output_type": "stream",
     "text": [
      "Fitting 6 folds for each of 144 candidates, totalling 864 fits\n"
     ]
    },
    {
     "name": "stderr",
     "output_type": "stream",
     "text": [
      "[Parallel(n_jobs=2)]: Using backend LokyBackend with 2 concurrent workers.\n",
      "[Parallel(n_jobs=2)]: Done  46 tasks      | elapsed:  6.9min\n",
      "[Parallel(n_jobs=2)]: Done 196 tasks      | elapsed: 27.0min\n",
      "[Parallel(n_jobs=2)]: Done 446 tasks      | elapsed: 46.6min\n",
      "[Parallel(n_jobs=2)]: Done 796 tasks      | elapsed: 66.4min\n",
      "[Parallel(n_jobs=2)]: Done 864 out of 864 | elapsed: 70.4min finished\n"
     ]
    },
    {
     "data": {
      "text/plain": [
       "GridSearchCV(cv=6, error_score='raise-deprecating',\n",
       "             estimator=KNeighborsClassifier(algorithm='auto', leaf_size=30,\n",
       "                                            metric='minkowski',\n",
       "                                            metric_params=None, n_jobs=None,\n",
       "                                            n_neighbors=5, p=2,\n",
       "                                            weights='uniform'),\n",
       "             iid='warn', n_jobs=2,\n",
       "             param_grid={'algorithm': ['ball_tree', 'kd_tree', 'brute'],\n",
       "                         'n_neighbors': [16, 17, 18, 19, 20, 21, 22, 23, 24, 25,\n",
       "                                         26, 27],\n",
       "                         'p': [1, 2], 'weights': ['uniform', 'distance']},\n",
       "             pre_dispatch='2*n_jobs', refit=True, return_train_score=False,\n",
       "             scoring='accuracy', verbose=1)"
      ]
     },
     "execution_count": 347,
     "metadata": {},
     "output_type": "execute_result"
    }
   ],
   "source": [
    "param_grid = {'n_neighbors': list(range(16,28)),\n",
    "              'weights': ['uniform','distance'],\n",
    "              'algorithm': ['ball_tree', 'kd_tree', 'brute'],\n",
    "              'p': [1,2]}\n",
    "gs = GridSearchCV(KNeighborsClassifier(), param_grid, scoring='accuracy',cv = 6,n_jobs = 2,verbose = 1)\n",
    "gs.fit(X_train, y_train)"
   ]
  },
  {
   "cell_type": "code",
   "execution_count": 348,
   "metadata": {},
   "outputs": [
    {
     "name": "stdout",
     "output_type": "stream",
     "text": [
      "0.7254810495626822\n"
     ]
    }
   ],
   "source": [
    "print(gs.best_score_)"
   ]
  },
  {
   "cell_type": "code",
   "execution_count": 349,
   "metadata": {},
   "outputs": [
    {
     "name": "stdout",
     "output_type": "stream",
     "text": [
      "algorithm: brute\n",
      "n_neighbors: 27\n",
      "p: 1\n",
      "weights: uniform\n"
     ]
    }
   ],
   "source": [
    "for hps, values in gs.best_params_.items():\n",
    "    print(f\"{hps}: {values}\")"
   ]
  },
  {
   "cell_type": "code",
   "execution_count": 37,
   "metadata": {},
   "outputs": [
    {
     "data": {
      "text/plain": [
       "KNeighborsClassifier(algorithm='brute', leaf_size=30, metric='minkowski',\n",
       "                     metric_params=None, n_jobs=None, n_neighbors=27, p=1,\n",
       "                     weights='uniform')"
      ]
     },
     "execution_count": 37,
     "metadata": {},
     "output_type": "execute_result"
    }
   ],
   "source": [
    "neigh = KNeighborsClassifier(algorithm = 'brute',n_neighbors = 27,p = 1,weights = 'uniform')\n",
    "neigh.fit(X_train,y_train)"
   ]
  },
  {
   "cell_type": "code",
   "execution_count": 38,
   "metadata": {},
   "outputs": [],
   "source": [
    "pred = neigh.predict(X_test)\n",
    "neigh_pred = pred"
   ]
  },
  {
   "cell_type": "code",
   "execution_count": 39,
   "metadata": {},
   "outputs": [
    {
     "name": "stdout",
     "output_type": "stream",
     "text": [
      "              precision    recall  f1-score   support\n",
      "\n",
      "         0.0       0.72      0.75      0.73      6992\n",
      "         1.0       0.75      0.71      0.73      7183\n",
      "\n",
      "    accuracy                           0.73     14175\n",
      "   macro avg       0.73      0.73      0.73     14175\n",
      "weighted avg       0.73      0.73      0.73     14175\n",
      "\n",
      "Accuracy Score:  0.7300176366843033\n",
      "Recall Score:  0.7086175692607546\n"
     ]
    },
    {
     "data": {
      "text/html": [
       "<div>\n",
       "<style scoped>\n",
       "    .dataframe tbody tr th:only-of-type {\n",
       "        vertical-align: middle;\n",
       "    }\n",
       "\n",
       "    .dataframe tbody tr th {\n",
       "        vertical-align: top;\n",
       "    }\n",
       "\n",
       "    .dataframe thead th {\n",
       "        text-align: right;\n",
       "    }\n",
       "</style>\n",
       "<table border=\"1\" class=\"dataframe\">\n",
       "  <thead>\n",
       "    <tr style=\"text-align: right;\">\n",
       "      <th>Predicted</th>\n",
       "      <th>0.0</th>\n",
       "      <th>1.0</th>\n",
       "      <th>All</th>\n",
       "    </tr>\n",
       "    <tr>\n",
       "      <th>True</th>\n",
       "      <th></th>\n",
       "      <th></th>\n",
       "      <th></th>\n",
       "    </tr>\n",
       "  </thead>\n",
       "  <tbody>\n",
       "    <tr>\n",
       "      <td>0.0</td>\n",
       "      <td>5258</td>\n",
       "      <td>1734</td>\n",
       "      <td>6992</td>\n",
       "    </tr>\n",
       "    <tr>\n",
       "      <td>1.0</td>\n",
       "      <td>2093</td>\n",
       "      <td>5090</td>\n",
       "      <td>7183</td>\n",
       "    </tr>\n",
       "    <tr>\n",
       "      <td>All</td>\n",
       "      <td>7351</td>\n",
       "      <td>6824</td>\n",
       "      <td>14175</td>\n",
       "    </tr>\n",
       "  </tbody>\n",
       "</table>\n",
       "</div>"
      ],
      "text/plain": [
       "Predicted   0.0   1.0    All\n",
       "True                        \n",
       "0.0        5258  1734   6992\n",
       "1.0        2093  5090   7183\n",
       "All        7351  6824  14175"
      ]
     },
     "execution_count": 39,
     "metadata": {},
     "output_type": "execute_result"
    }
   ],
   "source": [
    "print(classification_report(y_test,pred))\n",
    "print(\"Accuracy Score: \",accuracy_score(y_test,pred))\n",
    "print(\"Recall Score: \",recall_score(y_test,pred))\n",
    "pd.crosstab(y_test, pred, rownames=['True'], colnames=['Predicted'], margins=True)"
   ]
  },
  {
   "cell_type": "markdown",
   "metadata": {},
   "source": [
    "### ROC Curve\n",
    "**The ROC Curve can be seen below, it has an AUC value of 0.789**"
   ]
  },
  {
   "cell_type": "code",
   "execution_count": 40,
   "metadata": {},
   "outputs": [
    {
     "name": "stdout",
     "output_type": "stream",
     "text": [
      "No Skill: ROC AUC=0.500\n",
      "KNN: ROC AUC=0.789\n"
     ]
    },
    {
     "data": {
      "image/png": "[encoded data removed]",
      "text/plain": [
       "<Figure size 1152x576 with 1 Axes>"
      ]
     },
     "metadata": {
      "needs_background": "light"
     },
     "output_type": "display_data"
    }
   ],
   "source": [
    "generate_roc(neigh,y_test,'KNN')"
   ]
  },
  {
   "cell_type": "markdown",
   "metadata": {},
   "source": [
    "### Best model table\n",
    "\n",
    "**Due to a higher accuracy score, we choose the grid search results as the best model**"
   ]
  },
  {
   "cell_type": "code",
   "execution_count": 124,
   "metadata": {},
   "outputs": [
    {
     "data": {
      "text/html": [
       "<div>\n",
       "<style scoped>\n",
       "    .dataframe tbody tr th:only-of-type {\n",
       "        vertical-align: middle;\n",
       "    }\n",
       "\n",
       "    .dataframe tbody tr th {\n",
       "        vertical-align: top;\n",
       "    }\n",
       "\n",
       "    .dataframe thead th {\n",
       "        text-align: right;\n",
       "    }\n",
       "</style>\n",
       "<table border=\"1\" class=\"dataframe\">\n",
       "  <thead>\n",
       "    <tr style=\"text-align: right;\">\n",
       "      <th></th>\n",
       "      <th>Model</th>\n",
       "      <th>n_neighbors</th>\n",
       "      <th>weights</th>\n",
       "      <th>algorithm</th>\n",
       "      <th>p</th>\n",
       "      <th>Recall</th>\n",
       "      <th>Precision</th>\n",
       "      <th>Accuracy</th>\n",
       "    </tr>\n",
       "  </thead>\n",
       "  <tbody>\n",
       "    <tr>\n",
       "      <td>0</td>\n",
       "      <td>Baseline</td>\n",
       "      <td>5</td>\n",
       "      <td>uniform</td>\n",
       "      <td>auto</td>\n",
       "      <td>2</td>\n",
       "      <td>0.698872</td>\n",
       "      <td>0.70</td>\n",
       "      <td>0.708618</td>\n",
       "    </tr>\n",
       "    <tr>\n",
       "      <td>1</td>\n",
       "      <td>Grid Search results</td>\n",
       "      <td>27</td>\n",
       "      <td>uniform</td>\n",
       "      <td>brute</td>\n",
       "      <td>1</td>\n",
       "      <td>0.693192</td>\n",
       "      <td>0.75</td>\n",
       "      <td>0.730018</td>\n",
       "    </tr>\n",
       "  </tbody>\n",
       "</table>\n",
       "</div>"
      ],
      "text/plain": [
       "                 Model  n_neighbors  weights algorithm  p    Recall  \\\n",
       "0             Baseline            5  uniform      auto  2  0.698872   \n",
       "1  Grid Search results           27  uniform     brute  1  0.693192   \n",
       "\n",
       "   Precision  Accuracy  \n",
       "0       0.70  0.708618  \n",
       "1       0.75  0.730018  "
      ]
     },
     "execution_count": 124,
     "metadata": {},
     "output_type": "execute_result"
    }
   ],
   "source": [
    "Model_comparison_KNN = {'Model':['Baseline','Grid Search results'],\n",
    "        'n_neighbors' :[5,27],            \n",
    "        'weights':['uniform','uniform'],\n",
    "        'algorithm':['auto','brute'],\n",
    "        'p': [2,1],\n",
    "        'Recall': [0.6988723374634553,0.6931922398589065],\n",
    "        'Precision': [0.70,0.75],\n",
    "        'Accuracy': [0.7086175692607546,0.7300176366843033]\n",
    "       }\n",
    "pd.DataFrame(Model_comparison_KNN)"
   ]
  },
  {
   "cell_type": "markdown",
   "metadata": {},
   "source": [
    "## Naive Bayes\n",
    "\n",
    "**We ran this algorithm for three distributions, namely Gaussian,Multinomial and Bernoulli. The results of Bernoulli were extremely poor and have been omitted from the report**"
   ]
  },
  {
   "cell_type": "code",
   "execution_count": 41,
   "metadata": {},
   "outputs": [],
   "source": [
    "X = df_one_hot.drop('Disease',axis = 1)\n",
    "y = df_one_hot['Disease']"
   ]
  },
  {
   "cell_type": "code",
   "execution_count": 42,
   "metadata": {},
   "outputs": [],
   "source": [
    "X_train, X_test, y_train, y_test = train_test_split(X, y, test_size=0.30, random_state=42)"
   ]
  },
  {
   "cell_type": "markdown",
   "metadata": {},
   "source": [
    "### Gaussian\n",
    "\n",
    "**The baseline model for gaussian naive bayes returns a recall of 0.56 and an accuracy of 0.68**"
   ]
  },
  {
   "cell_type": "code",
   "execution_count": 43,
   "metadata": {},
   "outputs": [
    {
     "data": {
      "text/plain": [
       "GaussianNB(priors=None, var_smoothing=1e-09)"
      ]
     },
     "execution_count": 43,
     "metadata": {},
     "output_type": "execute_result"
    }
   ],
   "source": [
    "gnb = GaussianNB()\n",
    "gnb.fit(X_train, y_train)"
   ]
  },
  {
   "cell_type": "code",
   "execution_count": 44,
   "metadata": {},
   "outputs": [],
   "source": [
    "pred = gnb.predict(X_test)\n",
    "gnb_pred = pred"
   ]
  },
  {
   "cell_type": "code",
   "execution_count": 45,
   "metadata": {},
   "outputs": [
    {
     "name": "stdout",
     "output_type": "stream",
     "text": [
      "              precision    recall  f1-score   support\n",
      "\n",
      "           0       0.64      0.80      0.71      6992\n",
      "           1       0.74      0.56      0.64      7183\n",
      "\n",
      "    accuracy                           0.68     14175\n",
      "   macro avg       0.69      0.68      0.67     14175\n",
      "weighted avg       0.69      0.68      0.67     14175\n",
      "\n",
      "Accuracy Score:  0.676331569664903\n",
      "Recall Score:  0.555895865237366\n"
     ]
    },
    {
     "data": {
      "text/html": [
       "<div>\n",
       "<style scoped>\n",
       "    .dataframe tbody tr th:only-of-type {\n",
       "        vertical-align: middle;\n",
       "    }\n",
       "\n",
       "    .dataframe tbody tr th {\n",
       "        vertical-align: top;\n",
       "    }\n",
       "\n",
       "    .dataframe thead th {\n",
       "        text-align: right;\n",
       "    }\n",
       "</style>\n",
       "<table border=\"1\" class=\"dataframe\">\n",
       "  <thead>\n",
       "    <tr style=\"text-align: right;\">\n",
       "      <th>Predicted</th>\n",
       "      <th>0</th>\n",
       "      <th>1</th>\n",
       "      <th>All</th>\n",
       "    </tr>\n",
       "    <tr>\n",
       "      <th>True</th>\n",
       "      <th></th>\n",
       "      <th></th>\n",
       "      <th></th>\n",
       "    </tr>\n",
       "  </thead>\n",
       "  <tbody>\n",
       "    <tr>\n",
       "      <td>0</td>\n",
       "      <td>5594</td>\n",
       "      <td>1398</td>\n",
       "      <td>6992</td>\n",
       "    </tr>\n",
       "    <tr>\n",
       "      <td>1</td>\n",
       "      <td>3190</td>\n",
       "      <td>3993</td>\n",
       "      <td>7183</td>\n",
       "    </tr>\n",
       "    <tr>\n",
       "      <td>All</td>\n",
       "      <td>8784</td>\n",
       "      <td>5391</td>\n",
       "      <td>14175</td>\n",
       "    </tr>\n",
       "  </tbody>\n",
       "</table>\n",
       "</div>"
      ],
      "text/plain": [
       "Predicted     0     1    All\n",
       "True                        \n",
       "0          5594  1398   6992\n",
       "1          3190  3993   7183\n",
       "All        8784  5391  14175"
      ]
     },
     "execution_count": 45,
     "metadata": {},
     "output_type": "execute_result"
    }
   ],
   "source": [
    "print(classification_report(y_test,pred))\n",
    "print(\"Accuracy Score: \",accuracy_score(y_test,pred))\n",
    "print(\"Recall Score: \",recall_score(y_test,pred))\n",
    "pd.crosstab(y_test, pred, rownames=['True'], colnames=['Predicted'], margins=True)"
   ]
  },
  {
   "cell_type": "markdown",
   "metadata": {},
   "source": [
    "### Multinomial\n",
    "\n",
    "**The baseline model for multinomial naive bayes returns a recall of 0.65 and an accuracy of 0.71**"
   ]
  },
  {
   "cell_type": "code",
   "execution_count": 46,
   "metadata": {},
   "outputs": [
    {
     "data": {
      "text/plain": [
       "MultinomialNB(alpha=1.0, class_prior=None, fit_prior=True)"
      ]
     },
     "execution_count": 46,
     "metadata": {},
     "output_type": "execute_result"
    }
   ],
   "source": [
    "mnb = MultinomialNB()\n",
    "mnb.fit(X_train, y_train)"
   ]
  },
  {
   "cell_type": "code",
   "execution_count": 47,
   "metadata": {},
   "outputs": [],
   "source": [
    "pred = mnb.predict(X_test)"
   ]
  },
  {
   "cell_type": "code",
   "execution_count": 48,
   "metadata": {},
   "outputs": [
    {
     "name": "stdout",
     "output_type": "stream",
     "text": [
      "              precision    recall  f1-score   support\n",
      "\n",
      "           0       0.68      0.77      0.73      6992\n",
      "           1       0.75      0.65      0.70      7183\n",
      "\n",
      "    accuracy                           0.71     14175\n",
      "   macro avg       0.72      0.71      0.71     14175\n",
      "weighted avg       0.72      0.71      0.71     14175\n",
      "\n",
      "Accuracy Score:  0.7127336860670194\n",
      "Recall Score:  0.6536266184045664\n"
     ]
    },
    {
     "data": {
      "text/html": [
       "<div>\n",
       "<style scoped>\n",
       "    .dataframe tbody tr th:only-of-type {\n",
       "        vertical-align: middle;\n",
       "    }\n",
       "\n",
       "    .dataframe tbody tr th {\n",
       "        vertical-align: top;\n",
       "    }\n",
       "\n",
       "    .dataframe thead th {\n",
       "        text-align: right;\n",
       "    }\n",
       "</style>\n",
       "<table border=\"1\" class=\"dataframe\">\n",
       "  <thead>\n",
       "    <tr style=\"text-align: right;\">\n",
       "      <th>Predicted</th>\n",
       "      <th>0</th>\n",
       "      <th>1</th>\n",
       "      <th>All</th>\n",
       "    </tr>\n",
       "    <tr>\n",
       "      <th>True</th>\n",
       "      <th></th>\n",
       "      <th></th>\n",
       "      <th></th>\n",
       "    </tr>\n",
       "  </thead>\n",
       "  <tbody>\n",
       "    <tr>\n",
       "      <td>0</td>\n",
       "      <td>5408</td>\n",
       "      <td>1584</td>\n",
       "      <td>6992</td>\n",
       "    </tr>\n",
       "    <tr>\n",
       "      <td>1</td>\n",
       "      <td>2488</td>\n",
       "      <td>4695</td>\n",
       "      <td>7183</td>\n",
       "    </tr>\n",
       "    <tr>\n",
       "      <td>All</td>\n",
       "      <td>7896</td>\n",
       "      <td>6279</td>\n",
       "      <td>14175</td>\n",
       "    </tr>\n",
       "  </tbody>\n",
       "</table>\n",
       "</div>"
      ],
      "text/plain": [
       "Predicted     0     1    All\n",
       "True                        \n",
       "0          5408  1584   6992\n",
       "1          2488  4695   7183\n",
       "All        7896  6279  14175"
      ]
     },
     "execution_count": 48,
     "metadata": {},
     "output_type": "execute_result"
    }
   ],
   "source": [
    "print(classification_report(y_test,pred))\n",
    "print(\"Accuracy Score: \",accuracy_score(y_test,pred))\n",
    "print(\"Recall Score: \",recall_score(y_test,pred))\n",
    "pd.crosstab(y_test, pred, rownames=['True'], colnames=['Predicted'], margins=True)"
   ]
  },
  {
   "cell_type": "markdown",
   "metadata": {},
   "source": [
    "## Optimization\n",
    "\n",
    "**We will use Multinomial Naive Bayes for optimization since it has the best performance**\n",
    "\n",
    "**The following grid search returns the hyperparameters which provide the best results with a recall of 0.65 and an accuracy of 0.71**\n",
    "\n",
    "**The hyperparameters tuned are**\n",
    "- **alpha: The value to be used for smoothing**\n",
    "- **fit_prior: Whether to learn class prior probabilities or not.**"
   ]
  },
  {
   "cell_type": "code",
   "execution_count": 49,
   "metadata": {},
   "outputs": [
    {
     "data": {
      "text/plain": [
       "GridSearchCV(cv=10, error_score='raise-deprecating',\n",
       "             estimator=MultinomialNB(alpha=1.0, class_prior=None,\n",
       "                                     fit_prior=True),\n",
       "             iid='warn', n_jobs=None,\n",
       "             param_grid={'alpha': [1, 2, 3, 4, 5, 6, 7, 8],\n",
       "                         'fit_prior': [True, False]},\n",
       "             pre_dispatch='2*n_jobs', refit=True, return_train_score=False,\n",
       "             scoring='accuracy', verbose=0)"
      ]
     },
     "execution_count": 49,
     "metadata": {},
     "output_type": "execute_result"
    }
   ],
   "source": [
    "param_grid = {'alpha': list(range(1,9)),\n",
    "              'fit_prior': [True,False]}\n",
    "\n",
    "gs = GridSearchCV(MultinomialNB(), param_grid, scoring='accuracy',cv = 10)\n",
    "gs.fit(X_train, y_train)"
   ]
  },
  {
   "cell_type": "code",
   "execution_count": 50,
   "metadata": {},
   "outputs": [
    {
     "name": "stdout",
     "output_type": "stream",
     "text": [
      "0.7061651498200949\n"
     ]
    }
   ],
   "source": [
    "print(gs.best_score_)"
   ]
  },
  {
   "cell_type": "code",
   "execution_count": 51,
   "metadata": {},
   "outputs": [
    {
     "name": "stdout",
     "output_type": "stream",
     "text": [
      "alpha: 5\n",
      "fit_prior: True\n"
     ]
    }
   ],
   "source": [
    "for hps, values in gs.best_params_.items():\n",
    "    print(f\"{hps}: {values}\")"
   ]
  },
  {
   "cell_type": "code",
   "execution_count": 52,
   "metadata": {},
   "outputs": [],
   "source": [
    "mnb = MultinomialNB(alpha=2.0,fit_prior= True)\n",
    "mnb.fit(X_train, y_train)\n",
    "pred = mnb.predict(X_test)\n",
    "mnb_pred = pred"
   ]
  },
  {
   "cell_type": "code",
   "execution_count": 53,
   "metadata": {},
   "outputs": [
    {
     "name": "stdout",
     "output_type": "stream",
     "text": [
      "              precision    recall  f1-score   support\n",
      "\n",
      "           0       0.68      0.77      0.73      6992\n",
      "           1       0.75      0.65      0.70      7183\n",
      "\n",
      "    accuracy                           0.71     14175\n",
      "   macro avg       0.72      0.71      0.71     14175\n",
      "weighted avg       0.72      0.71      0.71     14175\n",
      "\n",
      "Accuracy Score:  0.7128042328042328\n",
      "Recall Score:  0.6536266184045664\n"
     ]
    },
    {
     "data": {
      "text/html": [
       "<div>\n",
       "<style scoped>\n",
       "    .dataframe tbody tr th:only-of-type {\n",
       "        vertical-align: middle;\n",
       "    }\n",
       "\n",
       "    .dataframe tbody tr th {\n",
       "        vertical-align: top;\n",
       "    }\n",
       "\n",
       "    .dataframe thead th {\n",
       "        text-align: right;\n",
       "    }\n",
       "</style>\n",
       "<table border=\"1\" class=\"dataframe\">\n",
       "  <thead>\n",
       "    <tr style=\"text-align: right;\">\n",
       "      <th>Predicted</th>\n",
       "      <th>0</th>\n",
       "      <th>1</th>\n",
       "      <th>All</th>\n",
       "    </tr>\n",
       "    <tr>\n",
       "      <th>True</th>\n",
       "      <th></th>\n",
       "      <th></th>\n",
       "      <th></th>\n",
       "    </tr>\n",
       "  </thead>\n",
       "  <tbody>\n",
       "    <tr>\n",
       "      <td>0</td>\n",
       "      <td>5409</td>\n",
       "      <td>1583</td>\n",
       "      <td>6992</td>\n",
       "    </tr>\n",
       "    <tr>\n",
       "      <td>1</td>\n",
       "      <td>2488</td>\n",
       "      <td>4695</td>\n",
       "      <td>7183</td>\n",
       "    </tr>\n",
       "    <tr>\n",
       "      <td>All</td>\n",
       "      <td>7897</td>\n",
       "      <td>6278</td>\n",
       "      <td>14175</td>\n",
       "    </tr>\n",
       "  </tbody>\n",
       "</table>\n",
       "</div>"
      ],
      "text/plain": [
       "Predicted     0     1    All\n",
       "True                        \n",
       "0          5409  1583   6992\n",
       "1          2488  4695   7183\n",
       "All        7897  6278  14175"
      ]
     },
     "execution_count": 53,
     "metadata": {},
     "output_type": "execute_result"
    }
   ],
   "source": [
    "print(classification_report(y_test,pred))\n",
    "print(\"Accuracy Score: \",accuracy_score(y_test,pred))\n",
    "print(\"Recall Score: \",recall_score(y_test,pred))\n",
    "pd.crosstab(y_test, pred, rownames=['True'], colnames=['Predicted'], margins=True)"
   ]
  },
  {
   "cell_type": "markdown",
   "metadata": {},
   "source": [
    "### ROC Curve\n",
    "**The ROC Curve can be seen below, it has an AUC value of 0.764**"
   ]
  },
  {
   "cell_type": "code",
   "execution_count": 54,
   "metadata": {},
   "outputs": [
    {
     "name": "stdout",
     "output_type": "stream",
     "text": [
      "No Skill: ROC AUC=0.500\n",
      "Naive Bayes: ROC AUC=0.764\n"
     ]
    },
    {
     "data": {
      "image/png": "[encoded data removed]",
      "text/plain": [
       "<Figure size 1152x576 with 1 Axes>"
      ]
     },
     "metadata": {
      "needs_background": "light"
     },
     "output_type": "display_data"
    }
   ],
   "source": [
    "generate_roc(mnb,y_test,'Naive Bayes')"
   ]
  },
  {
   "cell_type": "markdown",
   "metadata": {},
   "source": [
    "### Best model table\n",
    "\n",
    "**Due to a higher accuracy score, we choose the grid search results as the best model**"
   ]
  },
  {
   "cell_type": "code",
   "execution_count": 122,
   "metadata": {},
   "outputs": [
    {
     "data": {
      "text/html": [
       "<div>\n",
       "<style scoped>\n",
       "    .dataframe tbody tr th:only-of-type {\n",
       "        vertical-align: middle;\n",
       "    }\n",
       "\n",
       "    .dataframe tbody tr th {\n",
       "        vertical-align: top;\n",
       "    }\n",
       "\n",
       "    .dataframe thead th {\n",
       "        text-align: right;\n",
       "    }\n",
       "</style>\n",
       "<table border=\"1\" class=\"dataframe\">\n",
       "  <thead>\n",
       "    <tr style=\"text-align: right;\">\n",
       "      <th></th>\n",
       "      <th>Model</th>\n",
       "      <th>Distribution</th>\n",
       "      <th>alpha</th>\n",
       "      <th>fit_prior</th>\n",
       "      <th>Recall</th>\n",
       "      <th>Precision</th>\n",
       "      <th>Accuracy</th>\n",
       "    </tr>\n",
       "  </thead>\n",
       "  <tbody>\n",
       "    <tr>\n",
       "      <td>0</td>\n",
       "      <td>Gaussian</td>\n",
       "      <td>Gaussian</td>\n",
       "      <td>N/A</td>\n",
       "      <td>N/A</td>\n",
       "      <td>0.555896</td>\n",
       "      <td>0.74</td>\n",
       "      <td>0.676332</td>\n",
       "    </tr>\n",
       "    <tr>\n",
       "      <td>1</td>\n",
       "      <td>Multinomial</td>\n",
       "      <td>Multinomial</td>\n",
       "      <td>1</td>\n",
       "      <td>True</td>\n",
       "      <td>0.661701</td>\n",
       "      <td>0.75</td>\n",
       "      <td>0.712734</td>\n",
       "    </tr>\n",
       "    <tr>\n",
       "      <td>2</td>\n",
       "      <td>Grid Search results</td>\n",
       "      <td>Multinomial</td>\n",
       "      <td>2</td>\n",
       "      <td>True</td>\n",
       "      <td>0.653627</td>\n",
       "      <td>0.75</td>\n",
       "      <td>0.712804</td>\n",
       "    </tr>\n",
       "  </tbody>\n",
       "</table>\n",
       "</div>"
      ],
      "text/plain": [
       "                 Model Distribution alpha fit_prior    Recall  Precision  \\\n",
       "0             Gaussian     Gaussian   N/A       N/A  0.555896       0.74   \n",
       "1          Multinomial  Multinomial     1      True  0.661701       0.75   \n",
       "2  Grid Search results  Multinomial     2      True  0.653627       0.75   \n",
       "\n",
       "   Accuracy  \n",
       "0  0.676332  \n",
       "1  0.712734  \n",
       "2  0.712804  "
      ]
     },
     "execution_count": 122,
     "metadata": {},
     "output_type": "execute_result"
    }
   ],
   "source": [
    "Model_comparison_NB = {'Model':['Gaussian','Multinomial','Grid Search results'],\n",
    "        'Distribution' :['Gaussian','Multinomial','Multinomial'],            \n",
    "        'alpha':['N/A',1.0,2.0],\n",
    "        'fit_prior':['N/A',True,True],\n",
    "        'Recall': [0.555895865237366,0.6617012390366143,0.6536266184045664],\n",
    "        'Precision': [0.74,0.75,0.75],\n",
    "        'Accuracy': [0.676331569664903,0.7127336860670194,0.7128042328042328]\n",
    "       }\n",
    "pd.DataFrame(Model_comparison_NB)"
   ]
  },
  {
   "cell_type": "markdown",
   "metadata": {},
   "source": [
    "## Random Forests\n",
    "\n",
    "**The baseline model for random forests returns a recall of 0.66 and an accuracy of 0.69**"
   ]
  },
  {
   "cell_type": "code",
   "execution_count": 55,
   "metadata": {},
   "outputs": [],
   "source": [
    "X = df_one_hot.drop('Disease',axis = 1)\n",
    "y = df_one_hot['Disease']"
   ]
  },
  {
   "cell_type": "code",
   "execution_count": 56,
   "metadata": {},
   "outputs": [],
   "source": [
    "X_train, X_test, y_train, y_test = train_test_split(X, y, test_size=0.30, random_state=42)"
   ]
  },
  {
   "cell_type": "code",
   "execution_count": 57,
   "metadata": {},
   "outputs": [
    {
     "name": "stderr",
     "output_type": "stream",
     "text": [
      "C:\\Users\\Pranav\\Anaconda3\\lib\\site-packages\\sklearn\\ensemble\\forest.py:245: FutureWarning: The default value of n_estimators will change from 10 in version 0.20 to 100 in 0.22.\n",
      "  \"10 in version 0.20 to 100 in 0.22.\", FutureWarning)\n"
     ]
    },
    {
     "data": {
      "text/plain": [
       "RandomForestClassifier(bootstrap=True, class_weight=None, criterion='gini',\n",
       "                       max_depth=None, max_features='auto', max_leaf_nodes=None,\n",
       "                       min_impurity_decrease=0.0, min_impurity_split=None,\n",
       "                       min_samples_leaf=1, min_samples_split=2,\n",
       "                       min_weight_fraction_leaf=0.0, n_estimators=10,\n",
       "                       n_jobs=None, oob_score=False, random_state=16, verbose=0,\n",
       "                       warm_start=False)"
      ]
     },
     "execution_count": 57,
     "metadata": {},
     "output_type": "execute_result"
    }
   ],
   "source": [
    "rfc = RandomForestClassifier(random_state=16)\n",
    "rfc.fit(X_train, y_train)"
   ]
  },
  {
   "cell_type": "code",
   "execution_count": 58,
   "metadata": {},
   "outputs": [],
   "source": [
    "pred = rfc.predict(X_test)"
   ]
  },
  {
   "cell_type": "code",
   "execution_count": 59,
   "metadata": {},
   "outputs": [
    {
     "name": "stdout",
     "output_type": "stream",
     "text": [
      "              precision    recall  f1-score   support\n",
      "\n",
      "           0       0.67      0.72      0.69      6992\n",
      "           1       0.70      0.66      0.68      7183\n",
      "\n",
      "    accuracy                           0.69     14175\n",
      "   macro avg       0.69      0.69      0.69     14175\n",
      "weighted avg       0.69      0.69      0.69     14175\n",
      "\n",
      "Accuracy Score:  0.6881128747795414\n",
      "Recall Score:  0.6617012390366143\n"
     ]
    },
    {
     "data": {
      "text/html": [
       "<div>\n",
       "<style scoped>\n",
       "    .dataframe tbody tr th:only-of-type {\n",
       "        vertical-align: middle;\n",
       "    }\n",
       "\n",
       "    .dataframe tbody tr th {\n",
       "        vertical-align: top;\n",
       "    }\n",
       "\n",
       "    .dataframe thead th {\n",
       "        text-align: right;\n",
       "    }\n",
       "</style>\n",
       "<table border=\"1\" class=\"dataframe\">\n",
       "  <thead>\n",
       "    <tr style=\"text-align: right;\">\n",
       "      <th>Predicted</th>\n",
       "      <th>0</th>\n",
       "      <th>1</th>\n",
       "      <th>All</th>\n",
       "    </tr>\n",
       "    <tr>\n",
       "      <th>True</th>\n",
       "      <th></th>\n",
       "      <th></th>\n",
       "      <th></th>\n",
       "    </tr>\n",
       "  </thead>\n",
       "  <tbody>\n",
       "    <tr>\n",
       "      <td>0</td>\n",
       "      <td>5001</td>\n",
       "      <td>1991</td>\n",
       "      <td>6992</td>\n",
       "    </tr>\n",
       "    <tr>\n",
       "      <td>1</td>\n",
       "      <td>2430</td>\n",
       "      <td>4753</td>\n",
       "      <td>7183</td>\n",
       "    </tr>\n",
       "    <tr>\n",
       "      <td>All</td>\n",
       "      <td>7431</td>\n",
       "      <td>6744</td>\n",
       "      <td>14175</td>\n",
       "    </tr>\n",
       "  </tbody>\n",
       "</table>\n",
       "</div>"
      ],
      "text/plain": [
       "Predicted     0     1    All\n",
       "True                        \n",
       "0          5001  1991   6992\n",
       "1          2430  4753   7183\n",
       "All        7431  6744  14175"
      ]
     },
     "execution_count": 59,
     "metadata": {},
     "output_type": "execute_result"
    }
   ],
   "source": [
    "print(classification_report(y_test,pred))\n",
    "print(\"Accuracy Score: \",accuracy_score(y_test,pred))\n",
    "print(\"Recall Score: \",recall_score(y_test,pred))\n",
    "pd.crosstab(y_test, pred, rownames=['True'], colnames=['Predicted'], margins=True)"
   ]
  },
  {
   "cell_type": "markdown",
   "metadata": {},
   "source": [
    "## Optimization\n",
    "\n",
    "**The following grid search returns the hyperparameters which provide the best results with a recall of 0.70 and an accuracy of 0.74**\n",
    "\n",
    "**The hyperparameters tuned are**\n",
    "- **n_estimators: The number of trees in the forest**\n",
    "- **max_depth: Maximum number of levels that each decision tree can have**\n",
    "- **min_samples_split: The minimum number of samples required to split an internal node in each decision tree**\n",
    "- **criterion: The method used to measure the quality of a split**\n",
    "- **min_samples_leaf: The minimum number of samples required to be at a leaf node.**\n",
    "- **class_weight: Weights given to the class labels**\n",
    "\n",
    "**Note: As grid search on random forest takes a long time to run, I have run grid search iteratively. Therefore, the parameters in the grid below are not a comprehensive list of all parameters tuned using grid search**"
   ]
  },
  {
   "cell_type": "code",
   "execution_count": 60,
   "metadata": {},
   "outputs": [
    {
     "name": "stdout",
     "output_type": "stream",
     "text": [
      "Fitting 6 folds for each of 6 candidates, totalling 36 fits\n"
     ]
    },
    {
     "name": "stderr",
     "output_type": "stream",
     "text": [
      "[Parallel(n_jobs=1)]: Using backend SequentialBackend with 1 concurrent workers.\n",
      "[Parallel(n_jobs=1)]: Done  36 out of  36 | elapsed:  1.3min finished\n"
     ]
    },
    {
     "data": {
      "text/plain": [
       "GridSearchCV(cv=6, error_score='raise-deprecating',\n",
       "             estimator=RandomForestClassifier(bootstrap=True, class_weight=None,\n",
       "                                              criterion='gini', max_depth=None,\n",
       "                                              max_features='auto',\n",
       "                                              max_leaf_nodes=None,\n",
       "                                              min_impurity_decrease=0.0,\n",
       "                                              min_impurity_split=None,\n",
       "                                              min_samples_leaf=1,\n",
       "                                              min_samples_split=2,\n",
       "                                              min_weight_fraction_leaf=0.0,\n",
       "                                              n_estimators='warn', n_jobs=None,\n",
       "                                              oob_score=False, random_state=42,\n",
       "                                              verbose=0, warm_start=False),\n",
       "             iid='warn', n_jobs=None,\n",
       "             param_grid={'class_weight': ['balanced', 'balanced_subsample',\n",
       "                                          None],\n",
       "                         'criterion': ['gini', 'entropy'], 'max_depth': [10],\n",
       "                         'min_samples_leaf': [4], 'min_samples_split': [8],\n",
       "                         'n_estimators': [100]},\n",
       "             pre_dispatch='2*n_jobs', refit=True, return_train_score=False,\n",
       "             scoring='accuracy', verbose=1)"
      ]
     },
     "execution_count": 60,
     "metadata": {},
     "output_type": "execute_result"
    }
   ],
   "source": [
    "param_grid = {'n_estimators': [100],\n",
    "              'max_depth': [10],\n",
    "              'min_samples_split' :[8],\n",
    "              'criterion': ['gini', 'entropy'],\n",
    "              'min_samples_leaf': [4],\n",
    "              'class_weight': ['balanced','balanced_subsample',None]\n",
    "             }\n",
    "gs = GridSearchCV(RandomForestClassifier(random_state=42), param_grid, scoring='accuracy',cv = 6,verbose=1)\n",
    "gs.fit(X_train, y_train)"
   ]
  },
  {
   "cell_type": "code",
   "execution_count": 61,
   "metadata": {},
   "outputs": [
    {
     "name": "stdout",
     "output_type": "stream",
     "text": [
      "0.7320472893296647\n"
     ]
    }
   ],
   "source": [
    "print(gs.best_score_)"
   ]
  },
  {
   "cell_type": "code",
   "execution_count": 62,
   "metadata": {},
   "outputs": [
    {
     "name": "stdout",
     "output_type": "stream",
     "text": [
      "class_weight: None\n",
      "criterion: entropy\n",
      "max_depth: 10\n",
      "min_samples_leaf: 4\n",
      "min_samples_split: 8\n",
      "n_estimators: 100\n"
     ]
    }
   ],
   "source": [
    "for hps, values in gs.best_params_.items():\n",
    "    print(f\"{hps}: {values}\")"
   ]
  },
  {
   "cell_type": "code",
   "execution_count": 63,
   "metadata": {},
   "outputs": [
    {
     "data": {
      "text/plain": [
       "RandomForestClassifier(bootstrap=True, class_weight=None, criterion='gini',\n",
       "                       max_depth=10, max_features='auto', max_leaf_nodes=None,\n",
       "                       min_impurity_decrease=0.0, min_impurity_split=None,\n",
       "                       min_samples_leaf=4, min_samples_split=8,\n",
       "                       min_weight_fraction_leaf=0.0, n_estimators=100,\n",
       "                       n_jobs=None, oob_score=False, random_state=42, verbose=0,\n",
       "                       warm_start=False)"
      ]
     },
     "execution_count": 63,
     "metadata": {},
     "output_type": "execute_result"
    }
   ],
   "source": [
    "rfc = RandomForestClassifier(n_estimators = 100,max_depth = 10,min_samples_split = 8,criterion='gini',\n",
    "                             min_samples_leaf= 4,random_state=42)\n",
    "rfc.fit(X_train, y_train)"
   ]
  },
  {
   "cell_type": "code",
   "execution_count": 64,
   "metadata": {},
   "outputs": [],
   "source": [
    "pred = rfc.predict(X_test)\n",
    "rf_pred = pred"
   ]
  },
  {
   "cell_type": "code",
   "execution_count": 65,
   "metadata": {},
   "outputs": [
    {
     "name": "stdout",
     "output_type": "stream",
     "text": [
      "              precision    recall  f1-score   support\n",
      "\n",
      "           0       0.72      0.78      0.75      6992\n",
      "           1       0.76      0.70      0.73      7183\n",
      "\n",
      "    accuracy                           0.74     14175\n",
      "   macro avg       0.74      0.74      0.74     14175\n",
      "weighted avg       0.74      0.74      0.74     14175\n",
      "\n",
      "Accuracy Score:  0.7387654320987654\n",
      "Recall Score:  0.7004037310316024\n"
     ]
    },
    {
     "data": {
      "text/html": [
       "<div>\n",
       "<style scoped>\n",
       "    .dataframe tbody tr th:only-of-type {\n",
       "        vertical-align: middle;\n",
       "    }\n",
       "\n",
       "    .dataframe tbody tr th {\n",
       "        vertical-align: top;\n",
       "    }\n",
       "\n",
       "    .dataframe thead th {\n",
       "        text-align: right;\n",
       "    }\n",
       "</style>\n",
       "<table border=\"1\" class=\"dataframe\">\n",
       "  <thead>\n",
       "    <tr style=\"text-align: right;\">\n",
       "      <th>Predicted</th>\n",
       "      <th>0</th>\n",
       "      <th>1</th>\n",
       "      <th>All</th>\n",
       "    </tr>\n",
       "    <tr>\n",
       "      <th>True</th>\n",
       "      <th></th>\n",
       "      <th></th>\n",
       "      <th></th>\n",
       "    </tr>\n",
       "  </thead>\n",
       "  <tbody>\n",
       "    <tr>\n",
       "      <td>0</td>\n",
       "      <td>5441</td>\n",
       "      <td>1551</td>\n",
       "      <td>6992</td>\n",
       "    </tr>\n",
       "    <tr>\n",
       "      <td>1</td>\n",
       "      <td>2152</td>\n",
       "      <td>5031</td>\n",
       "      <td>7183</td>\n",
       "    </tr>\n",
       "    <tr>\n",
       "      <td>All</td>\n",
       "      <td>7593</td>\n",
       "      <td>6582</td>\n",
       "      <td>14175</td>\n",
       "    </tr>\n",
       "  </tbody>\n",
       "</table>\n",
       "</div>"
      ],
      "text/plain": [
       "Predicted     0     1    All\n",
       "True                        \n",
       "0          5441  1551   6992\n",
       "1          2152  5031   7183\n",
       "All        7593  6582  14175"
      ]
     },
     "execution_count": 65,
     "metadata": {},
     "output_type": "execute_result"
    }
   ],
   "source": [
    "print(classification_report(y_test,pred))\n",
    "print(\"Accuracy Score: \",accuracy_score(y_test,pred))\n",
    "print(\"Recall Score: \",recall_score(y_test,pred))\n",
    "pd.crosstab(y_test, pred, rownames=['True'], colnames=['Predicted'], margins=True)"
   ]
  },
  {
   "cell_type": "code",
   "execution_count": 66,
   "metadata": {},
   "outputs": [],
   "source": [
    "importances = rfc.feature_importances_\n",
    "features = X_train.columns\n",
    "indices = np.argsort(importances)"
   ]
  },
  {
   "cell_type": "markdown",
   "metadata": {},
   "source": [
    "**The importance of the features can be seen below**"
   ]
  },
  {
   "cell_type": "code",
   "execution_count": 67,
   "metadata": {},
   "outputs": [
    {
     "data": {
      "image/png": "[encoded data removed]",
      "text/plain": [
       "<Figure size 720x576 with 1 Axes>"
      ]
     },
     "metadata": {
      "needs_background": "light"
     },
     "output_type": "display_data"
    }
   ],
   "source": [
    "plt.figure(figsize = (10,8))\n",
    "plt.title('Feature Importances')\n",
    "plt.barh(range(len(indices)), importances[indices], color='b', align='center')\n",
    "plt.yticks(range(len(indices)), [features[i] for i in indices])\n",
    "plt.xlabel('Relative Importance')\n",
    "plt.show()"
   ]
  },
  {
   "cell_type": "markdown",
   "metadata": {},
   "source": [
    "### ROC Curve\n",
    "**The ROC Curve can be seen below, it has an AUC value of 0.805**"
   ]
  },
  {
   "cell_type": "code",
   "execution_count": 68,
   "metadata": {},
   "outputs": [
    {
     "name": "stdout",
     "output_type": "stream",
     "text": [
      "No Skill: ROC AUC=0.500\n",
      "Random Forest: ROC AUC=0.805\n"
     ]
    },
    {
     "data": {
      "image/png": "[encoded data removed]",
      "text/plain": [
       "<Figure size 1152x576 with 1 Axes>"
      ]
     },
     "metadata": {
      "needs_background": "light"
     },
     "output_type": "display_data"
    }
   ],
   "source": [
    "generate_roc(rfc,y_test,'Random Forest')"
   ]
  },
  {
   "cell_type": "markdown",
   "metadata": {},
   "source": [
    "### Best model table\n",
    "\n",
    "**Due to a higher recall and accuracy value, we choose the grid search results as the best model**"
   ]
  },
  {
   "cell_type": "code",
   "execution_count": 120,
   "metadata": {},
   "outputs": [
    {
     "data": {
      "text/html": [
       "<div>\n",
       "<style scoped>\n",
       "    .dataframe tbody tr th:only-of-type {\n",
       "        vertical-align: middle;\n",
       "    }\n",
       "\n",
       "    .dataframe tbody tr th {\n",
       "        vertical-align: top;\n",
       "    }\n",
       "\n",
       "    .dataframe thead th {\n",
       "        text-align: right;\n",
       "    }\n",
       "</style>\n",
       "<table border=\"1\" class=\"dataframe\">\n",
       "  <thead>\n",
       "    <tr style=\"text-align: right;\">\n",
       "      <th></th>\n",
       "      <th>Model</th>\n",
       "      <th>n_estimators</th>\n",
       "      <th>max_depth</th>\n",
       "      <th>min_samples_split</th>\n",
       "      <th>criterion</th>\n",
       "      <th>min_samples_leaf</th>\n",
       "      <th>Recall</th>\n",
       "      <th>Precision</th>\n",
       "      <th>Accuracy</th>\n",
       "    </tr>\n",
       "  </thead>\n",
       "  <tbody>\n",
       "    <tr>\n",
       "      <td>0</td>\n",
       "      <td>Baseline</td>\n",
       "      <td>warn</td>\n",
       "      <td>NaN</td>\n",
       "      <td>2</td>\n",
       "      <td>gini</td>\n",
       "      <td>1</td>\n",
       "      <td>0.661701</td>\n",
       "      <td>0.70</td>\n",
       "      <td>0.737496</td>\n",
       "    </tr>\n",
       "    <tr>\n",
       "      <td>1</td>\n",
       "      <td>Grid Search results</td>\n",
       "      <td>100</td>\n",
       "      <td>10.0</td>\n",
       "      <td>8</td>\n",
       "      <td>gini</td>\n",
       "      <td>4</td>\n",
       "      <td>0.688113</td>\n",
       "      <td>0.76</td>\n",
       "      <td>0.738765</td>\n",
       "    </tr>\n",
       "  </tbody>\n",
       "</table>\n",
       "</div>"
      ],
      "text/plain": [
       "                 Model n_estimators  max_depth  min_samples_split criterion  \\\n",
       "0             Baseline         warn        NaN                  2      gini   \n",
       "1  Grid Search results          100       10.0                  8      gini   \n",
       "\n",
       "   min_samples_leaf    Recall  Precision  Accuracy  \n",
       "0                 1  0.661701       0.70  0.737496  \n",
       "1                 4  0.688113       0.76  0.738765  "
      ]
     },
     "execution_count": 120,
     "metadata": {},
     "output_type": "execute_result"
    }
   ],
   "source": [
    "Model_comparison_RF = {'Model':['Baseline','Grid Search results'],\n",
    "        'n_estimators' :['warn',100],            \n",
    "        'max_depth':[None,10],\n",
    "        'min_samples_split':[2,8],\n",
    "        'criterion': ['gini','gini'],\n",
    "        'min_samples_leaf': [1,4],\n",
    "        'Recall': [0.6617012390366143,0.6881128747795414],\n",
    "        'Precision': [0.70,0.76],\n",
    "        'Accuracy': [0.7374955908289241,0.7387654320987654]\n",
    "       }\n",
    "pd.DataFrame(Model_comparison_RF)"
   ]
  },
  {
   "cell_type": "markdown",
   "metadata": {},
   "source": [
    "## Gradient Boosting\n",
    "\n",
    "**The baseline model for gradient boosting returns a recall of 0.71 and an accuracy of 0.74**"
   ]
  },
  {
   "cell_type": "code",
   "execution_count": 69,
   "metadata": {},
   "outputs": [],
   "source": [
    "X = df_one_hot.drop('Disease',axis = 1)\n",
    "y = df_one_hot['Disease']"
   ]
  },
  {
   "cell_type": "code",
   "execution_count": 70,
   "metadata": {},
   "outputs": [],
   "source": [
    "X_train, X_test, y_train, y_test = train_test_split(X, y, test_size=0.30, random_state=42)"
   ]
  },
  {
   "cell_type": "code",
   "execution_count": 71,
   "metadata": {},
   "outputs": [
    {
     "data": {
      "text/plain": [
       "GradientBoostingClassifier(criterion='friedman_mse', init=None,\n",
       "                           learning_rate=0.1, loss='deviance', max_depth=3,\n",
       "                           max_features=None, max_leaf_nodes=None,\n",
       "                           min_impurity_decrease=0.0, min_impurity_split=None,\n",
       "                           min_samples_leaf=1, min_samples_split=2,\n",
       "                           min_weight_fraction_leaf=0.0, n_estimators=100,\n",
       "                           n_iter_no_change=None, presort='auto',\n",
       "                           random_state=None, subsample=1.0, tol=0.0001,\n",
       "                           validation_fraction=0.1, verbose=0,\n",
       "                           warm_start=False)"
      ]
     },
     "execution_count": 71,
     "metadata": {},
     "output_type": "execute_result"
    }
   ],
   "source": [
    "gbm = GradientBoostingClassifier()\n",
    "gbm.fit(X_train, y_train)"
   ]
  },
  {
   "cell_type": "code",
   "execution_count": 72,
   "metadata": {},
   "outputs": [],
   "source": [
    "pred = gbm.predict(X_test)"
   ]
  },
  {
   "cell_type": "code",
   "execution_count": 73,
   "metadata": {},
   "outputs": [
    {
     "name": "stdout",
     "output_type": "stream",
     "text": [
      "              precision    recall  f1-score   support\n",
      "\n",
      "           0       0.72      0.76      0.74      6992\n",
      "           1       0.75      0.71      0.73      7183\n",
      "\n",
      "    accuracy                           0.74     14175\n",
      "   macro avg       0.74      0.74      0.74     14175\n",
      "weighted avg       0.74      0.74      0.74     14175\n",
      "\n",
      "Accuracy Score:  0.7374955908289241\n",
      "Recall Score:  0.7136294027565084\n"
     ]
    },
    {
     "data": {
      "text/html": [
       "<div>\n",
       "<style scoped>\n",
       "    .dataframe tbody tr th:only-of-type {\n",
       "        vertical-align: middle;\n",
       "    }\n",
       "\n",
       "    .dataframe tbody tr th {\n",
       "        vertical-align: top;\n",
       "    }\n",
       "\n",
       "    .dataframe thead th {\n",
       "        text-align: right;\n",
       "    }\n",
       "</style>\n",
       "<table border=\"1\" class=\"dataframe\">\n",
       "  <thead>\n",
       "    <tr style=\"text-align: right;\">\n",
       "      <th>Predicted</th>\n",
       "      <th>0</th>\n",
       "      <th>1</th>\n",
       "      <th>All</th>\n",
       "    </tr>\n",
       "    <tr>\n",
       "      <th>True</th>\n",
       "      <th></th>\n",
       "      <th></th>\n",
       "      <th></th>\n",
       "    </tr>\n",
       "  </thead>\n",
       "  <tbody>\n",
       "    <tr>\n",
       "      <td>0</td>\n",
       "      <td>5328</td>\n",
       "      <td>1664</td>\n",
       "      <td>6992</td>\n",
       "    </tr>\n",
       "    <tr>\n",
       "      <td>1</td>\n",
       "      <td>2057</td>\n",
       "      <td>5126</td>\n",
       "      <td>7183</td>\n",
       "    </tr>\n",
       "    <tr>\n",
       "      <td>All</td>\n",
       "      <td>7385</td>\n",
       "      <td>6790</td>\n",
       "      <td>14175</td>\n",
       "    </tr>\n",
       "  </tbody>\n",
       "</table>\n",
       "</div>"
      ],
      "text/plain": [
       "Predicted     0     1    All\n",
       "True                        \n",
       "0          5328  1664   6992\n",
       "1          2057  5126   7183\n",
       "All        7385  6790  14175"
      ]
     },
     "execution_count": 73,
     "metadata": {},
     "output_type": "execute_result"
    }
   ],
   "source": [
    "print(classification_report(y_test,pred))\n",
    "print(\"Accuracy Score: \",accuracy_score(y_test,pred))\n",
    "print(\"Recall Score: \",recall_score(y_test,pred))\n",
    "pd.crosstab(y_test, pred, rownames=['True'], colnames=['Predicted'], margins=True)"
   ]
  },
  {
   "cell_type": "markdown",
   "metadata": {},
   "source": [
    "## Optimization\n",
    "\n",
    "**The following grid search returns the hyperparameters which provide the best results with a recall of 0.72 and an accuracy of 0.74**\n",
    "\n",
    "**The hyperparameters tuned are**\n",
    "- **n_estimators: The number of trees in the forest**\n",
    "- **max_depth: Maximum number of levels that each decision tree can have**\n",
    "- **min_samples_split: The minimum number of samples required to split an internal node in each decision tree**\n",
    "- **max_features: The number of features to consider when looking for the best split**\n",
    "- **subsample: The fraction of samples to be used for fitting the individual base learners**\n",
    "- **learning_rate: The value by which to shrink the contribution of each tree**\n",
    "\n",
    "**Note: As grid search on random forest takes a long time to run, I have run grid search iteratively. Therefore, the parameters in the grid below are not a comprehensive list of all parameters tuned using grid search**"
   ]
  },
  {
   "cell_type": "code",
   "execution_count": 127,
   "metadata": {},
   "outputs": [],
   "source": [
    "param_grid = {'n_estimators': [100],\n",
    "              'max_depth': [3],\n",
    "              'min_samples_split' : [7],\n",
    "              'max_features':list(range(7,20,2)),\n",
    "              'subsample':[0.6,0.7,0.75,0.8,0.85,0.9],\n",
    "              'learning_rate': [0.05,0.1,0.15,0.2]\n",
    "            }\n",
    "\n",
    "gs = GridSearchCV(GradientBoostingClassifier(), param_grid, scoring='accuracy',cv = 6,verbose=1,n_jobs = 4)\n",
    "gs.fit(X_train, y_train)"
   ]
  },
  {
   "cell_type": "code",
   "execution_count": null,
   "metadata": {},
   "outputs": [],
   "source": [
    "print(gs.best_score_)"
   ]
  },
  {
   "cell_type": "code",
   "execution_count": null,
   "metadata": {},
   "outputs": [],
   "source": [
    "for hps, values in gs.best_params_.items():\n",
    "    print(f\"{hps}: {values}\")"
   ]
  },
  {
   "cell_type": "code",
   "execution_count": 74,
   "metadata": {},
   "outputs": [
    {
     "data": {
      "text/plain": [
       "GradientBoostingClassifier(criterion='friedman_mse', init=None,\n",
       "                           learning_rate=0.2, loss='deviance', max_depth=3,\n",
       "                           max_features=15, max_leaf_nodes=None,\n",
       "                           min_impurity_decrease=0.0, min_impurity_split=None,\n",
       "                           min_samples_leaf=1, min_samples_split=7,\n",
       "                           min_weight_fraction_leaf=0.0, n_estimators=100,\n",
       "                           n_iter_no_change=None, presort='auto',\n",
       "                           random_state=42, subsample=0.9, tol=0.0001,\n",
       "                           validation_fraction=0.1, verbose=0,\n",
       "                           warm_start=False)"
      ]
     },
     "execution_count": 74,
     "metadata": {},
     "output_type": "execute_result"
    }
   ],
   "source": [
    "gbm = GradientBoostingClassifier(n_estimators = 100,loss = 'deviance', learning_rate = 0.2,\n",
    "                                 max_depth = 3, min_samples_split = 7,max_features=15, subsample=0.9,random_state=42)\n",
    "gbm.fit(X_train, y_train)"
   ]
  },
  {
   "cell_type": "code",
   "execution_count": 75,
   "metadata": {},
   "outputs": [],
   "source": [
    "pred = gbm.predict(X_test)\n",
    "gbm_pred = pred"
   ]
  },
  {
   "cell_type": "code",
   "execution_count": 76,
   "metadata": {},
   "outputs": [
    {
     "name": "stdout",
     "output_type": "stream",
     "text": [
      "              precision    recall  f1-score   support\n",
      "\n",
      "           0       0.72      0.76      0.74      6992\n",
      "           1       0.75      0.72      0.73      7183\n",
      "\n",
      "    accuracy                           0.74     14175\n",
      "   macro avg       0.74      0.74      0.74     14175\n",
      "weighted avg       0.74      0.74      0.74     14175\n",
      "\n",
      "Accuracy Score:  0.73657848324515\n",
      "Recall Score:  0.7173882778783238\n"
     ]
    },
    {
     "data": {
      "text/html": [
       "<div>\n",
       "<style scoped>\n",
       "    .dataframe tbody tr th:only-of-type {\n",
       "        vertical-align: middle;\n",
       "    }\n",
       "\n",
       "    .dataframe tbody tr th {\n",
       "        vertical-align: top;\n",
       "    }\n",
       "\n",
       "    .dataframe thead th {\n",
       "        text-align: right;\n",
       "    }\n",
       "</style>\n",
       "<table border=\"1\" class=\"dataframe\">\n",
       "  <thead>\n",
       "    <tr style=\"text-align: right;\">\n",
       "      <th>Predicted</th>\n",
       "      <th>0</th>\n",
       "      <th>1</th>\n",
       "      <th>All</th>\n",
       "    </tr>\n",
       "    <tr>\n",
       "      <th>True</th>\n",
       "      <th></th>\n",
       "      <th></th>\n",
       "      <th></th>\n",
       "    </tr>\n",
       "  </thead>\n",
       "  <tbody>\n",
       "    <tr>\n",
       "      <td>0</td>\n",
       "      <td>5288</td>\n",
       "      <td>1704</td>\n",
       "      <td>6992</td>\n",
       "    </tr>\n",
       "    <tr>\n",
       "      <td>1</td>\n",
       "      <td>2030</td>\n",
       "      <td>5153</td>\n",
       "      <td>7183</td>\n",
       "    </tr>\n",
       "    <tr>\n",
       "      <td>All</td>\n",
       "      <td>7318</td>\n",
       "      <td>6857</td>\n",
       "      <td>14175</td>\n",
       "    </tr>\n",
       "  </tbody>\n",
       "</table>\n",
       "</div>"
      ],
      "text/plain": [
       "Predicted     0     1    All\n",
       "True                        \n",
       "0          5288  1704   6992\n",
       "1          2030  5153   7183\n",
       "All        7318  6857  14175"
      ]
     },
     "execution_count": 76,
     "metadata": {},
     "output_type": "execute_result"
    }
   ],
   "source": [
    "print(classification_report(y_test,pred))\n",
    "print(\"Accuracy Score: \",accuracy_score(y_test,pred))\n",
    "print(\"Recall Score: \",recall_score(y_test,pred))\n",
    "pd.crosstab(y_test, pred, rownames=['True'], colnames=['Predicted'], margins=True)"
   ]
  },
  {
   "cell_type": "code",
   "execution_count": 77,
   "metadata": {},
   "outputs": [],
   "source": [
    "importances = gbm.feature_importances_\n",
    "features = X_train.columns\n",
    "indices = np.argsort(importances)"
   ]
  },
  {
   "cell_type": "markdown",
   "metadata": {},
   "source": [
    "**The importance of the features can be seen below**"
   ]
  },
  {
   "cell_type": "code",
   "execution_count": 78,
   "metadata": {},
   "outputs": [
    {
     "data": {
      "image/png": "[encoded data removed]",
      "text/plain": [
       "<Figure size 720x576 with 1 Axes>"
      ]
     },
     "metadata": {
      "needs_background": "light"
     },
     "output_type": "display_data"
    }
   ],
   "source": [
    "plt.figure(figsize = (10,8))\n",
    "plt.title('Feature Importances')\n",
    "plt.barh(range(len(indices)), importances[indices], color='b', align='center')\n",
    "plt.yticks(range(len(indices)), [features[i] for i in indices])\n",
    "plt.xlabel('Relative Importance')\n",
    "plt.show()"
   ]
  },
  {
   "cell_type": "markdown",
   "metadata": {},
   "source": [
    "### ROC Curve\n",
    "**The ROC Curve can be seen below, it has an AUC value of 0.806**"
   ]
  },
  {
   "cell_type": "code",
   "execution_count": 79,
   "metadata": {},
   "outputs": [
    {
     "name": "stdout",
     "output_type": "stream",
     "text": [
      "No Skill: ROC AUC=0.500\n",
      "Gradient Boosting: ROC AUC=0.806\n"
     ]
    },
    {
     "data": {
      "image/png": "[encoded data removed]",
      "text/plain": [
       "<Figure size 1152x576 with 1 Axes>"
      ]
     },
     "metadata": {
      "needs_background": "light"
     },
     "output_type": "display_data"
    }
   ],
   "source": [
    "generate_roc(gbm,y_test,\"Gradient Boosting\")"
   ]
  },
  {
   "cell_type": "markdown",
   "metadata": {},
   "source": [
    "### Best model table\n",
    "\n",
    "**Due to a higher recall value, we choose the grid search results as the best model**"
   ]
  },
  {
   "cell_type": "code",
   "execution_count": 116,
   "metadata": {},
   "outputs": [
    {
     "data": {
      "text/html": [
       "<div>\n",
       "<style scoped>\n",
       "    .dataframe tbody tr th:only-of-type {\n",
       "        vertical-align: middle;\n",
       "    }\n",
       "\n",
       "    .dataframe tbody tr th {\n",
       "        vertical-align: top;\n",
       "    }\n",
       "\n",
       "    .dataframe thead th {\n",
       "        text-align: right;\n",
       "    }\n",
       "</style>\n",
       "<table border=\"1\" class=\"dataframe\">\n",
       "  <thead>\n",
       "    <tr style=\"text-align: right;\">\n",
       "      <th></th>\n",
       "      <th>Model</th>\n",
       "      <th>n_estimators</th>\n",
       "      <th>loss</th>\n",
       "      <th>learning_rate</th>\n",
       "      <th>max_depth</th>\n",
       "      <th>min_samples_split</th>\n",
       "      <th>max_features</th>\n",
       "      <th>subsample</th>\n",
       "      <th>Recall</th>\n",
       "      <th>Precision</th>\n",
       "      <th>Accuracy</th>\n",
       "    </tr>\n",
       "  </thead>\n",
       "  <tbody>\n",
       "    <tr>\n",
       "      <td>0</td>\n",
       "      <td>Baseline</td>\n",
       "      <td>100</td>\n",
       "      <td>deviance</td>\n",
       "      <td>0.1</td>\n",
       "      <td>3</td>\n",
       "      <td>2</td>\n",
       "      <td>None</td>\n",
       "      <td>1.0</td>\n",
       "      <td>0.713629</td>\n",
       "      <td>0.75</td>\n",
       "      <td>0.737496</td>\n",
       "    </tr>\n",
       "    <tr>\n",
       "      <td>1</td>\n",
       "      <td>Grid Search results</td>\n",
       "      <td>100</td>\n",
       "      <td>deviance</td>\n",
       "      <td>0.2</td>\n",
       "      <td>3</td>\n",
       "      <td>7</td>\n",
       "      <td>15</td>\n",
       "      <td>0.9</td>\n",
       "      <td>0.717388</td>\n",
       "      <td>0.75</td>\n",
       "      <td>0.736578</td>\n",
       "    </tr>\n",
       "  </tbody>\n",
       "</table>\n",
       "</div>"
      ],
      "text/plain": [
       "                 Model  n_estimators      loss  learning_rate  max_depth  \\\n",
       "0             Baseline           100  deviance            0.1          3   \n",
       "1  Grid Search results           100  deviance            0.2          3   \n",
       "\n",
       "   min_samples_split max_features  subsample    Recall  Precision  Accuracy  \n",
       "0                  2         None        1.0  0.713629       0.75  0.737496  \n",
       "1                  7           15        0.9  0.717388       0.75  0.736578  "
      ]
     },
     "execution_count": 116,
     "metadata": {},
     "output_type": "execute_result"
    }
   ],
   "source": [
    "Model_comparison_GBM = {'Model':['Baseline','Grid Search results'],\n",
    "        'n_estimators' :[100,100],            \n",
    "        'loss':['deviance','deviance'],                              \n",
    "        'learning_rate':[0.1,0.2],\n",
    "        'max_depth':[3,3],\n",
    "        'min_samples_split':[2,7],\n",
    "        'max_features': ['None',15],\n",
    "        'subsample': [1.0,0.9],\n",
    "        'Recall': [0.7136294027565084,0.7173882778783238],\n",
    "        'Precision': [0.75,0.75],\n",
    "        'Accuracy': [0.7374955908289241,0.73657848324515]\n",
    "       }\n",
    "pd.DataFrame(Model_comparison_GBM)"
   ]
  },
  {
   "cell_type": "markdown",
   "metadata": {},
   "source": [
    "## Support Vector Machines\n",
    "\n",
    "**We will run both linear and non linear support vector machines**"
   ]
  },
  {
   "cell_type": "markdown",
   "metadata": {},
   "source": [
    "## Linear\n",
    "\n",
    "**The baseline model for linear support vector machines returns a recall of 0.69 and an accuracy of 0.73**"
   ]
  },
  {
   "cell_type": "code",
   "execution_count": 80,
   "metadata": {},
   "outputs": [],
   "source": [
    "X = df_standardized.drop('Disease',axis = 1)\n",
    "y = df_standardized['Disease']"
   ]
  },
  {
   "cell_type": "code",
   "execution_count": 81,
   "metadata": {},
   "outputs": [],
   "source": [
    "X_train, X_test, y_train, y_test = train_test_split(X, y, test_size=0.30, random_state=42)"
   ]
  },
  {
   "cell_type": "code",
   "execution_count": 82,
   "metadata": {},
   "outputs": [
    {
     "name": "stderr",
     "output_type": "stream",
     "text": [
      "C:\\Users\\Pranav\\Anaconda3\\lib\\site-packages\\sklearn\\svm\\base.py:929: ConvergenceWarning: Liblinear failed to converge, increase the number of iterations.\n",
      "  \"the number of iterations.\", ConvergenceWarning)\n"
     ]
    },
    {
     "data": {
      "text/plain": [
       "LinearSVC(C=1.0, class_weight=None, dual=True, fit_intercept=True,\n",
       "          intercept_scaling=1, loss='squared_hinge', max_iter=1000,\n",
       "          multi_class='ovr', penalty='l2', random_state=None, tol=0.0001,\n",
       "          verbose=0)"
      ]
     },
     "execution_count": 82,
     "metadata": {},
     "output_type": "execute_result"
    }
   ],
   "source": [
    "lin_clf = svm.LinearSVC()\n",
    "lin_clf.fit(X_train, y_train)"
   ]
  },
  {
   "cell_type": "code",
   "execution_count": 83,
   "metadata": {},
   "outputs": [],
   "source": [
    "pred = lin_clf.predict(X_test)"
   ]
  },
  {
   "cell_type": "code",
   "execution_count": 84,
   "metadata": {},
   "outputs": [
    {
     "name": "stdout",
     "output_type": "stream",
     "text": [
      "              precision    recall  f1-score   support\n",
      "\n",
      "           0       0.71      0.77      0.74      6992\n",
      "           1       0.76      0.69      0.72      7183\n",
      "\n",
      "    accuracy                           0.73     14175\n",
      "   macro avg       0.73      0.73      0.73     14175\n",
      "weighted avg       0.73      0.73      0.73     14175\n",
      "\n",
      "Accuracy Score:  0.7307936507936508\n",
      "Recall Score:  0.6878741472922177\n"
     ]
    },
    {
     "data": {
      "text/html": [
       "<div>\n",
       "<style scoped>\n",
       "    .dataframe tbody tr th:only-of-type {\n",
       "        vertical-align: middle;\n",
       "    }\n",
       "\n",
       "    .dataframe tbody tr th {\n",
       "        vertical-align: top;\n",
       "    }\n",
       "\n",
       "    .dataframe thead th {\n",
       "        text-align: right;\n",
       "    }\n",
       "</style>\n",
       "<table border=\"1\" class=\"dataframe\">\n",
       "  <thead>\n",
       "    <tr style=\"text-align: right;\">\n",
       "      <th>Predicted</th>\n",
       "      <th>0</th>\n",
       "      <th>1</th>\n",
       "      <th>All</th>\n",
       "    </tr>\n",
       "    <tr>\n",
       "      <th>True</th>\n",
       "      <th></th>\n",
       "      <th></th>\n",
       "      <th></th>\n",
       "    </tr>\n",
       "  </thead>\n",
       "  <tbody>\n",
       "    <tr>\n",
       "      <td>0</td>\n",
       "      <td>5418</td>\n",
       "      <td>1574</td>\n",
       "      <td>6992</td>\n",
       "    </tr>\n",
       "    <tr>\n",
       "      <td>1</td>\n",
       "      <td>2242</td>\n",
       "      <td>4941</td>\n",
       "      <td>7183</td>\n",
       "    </tr>\n",
       "    <tr>\n",
       "      <td>All</td>\n",
       "      <td>7660</td>\n",
       "      <td>6515</td>\n",
       "      <td>14175</td>\n",
       "    </tr>\n",
       "  </tbody>\n",
       "</table>\n",
       "</div>"
      ],
      "text/plain": [
       "Predicted     0     1    All\n",
       "True                        \n",
       "0          5418  1574   6992\n",
       "1          2242  4941   7183\n",
       "All        7660  6515  14175"
      ]
     },
     "execution_count": 84,
     "metadata": {},
     "output_type": "execute_result"
    }
   ],
   "source": [
    "print(classification_report(y_test,pred))\n",
    "print(\"Accuracy Score: \",accuracy_score(y_test,pred))\n",
    "print(\"Recall Score: \",recall_score(y_test,pred))\n",
    "pd.crosstab(y_test, pred, rownames=['True'], colnames=['Predicted'], margins=True)"
   ]
  },
  {
   "cell_type": "markdown",
   "metadata": {},
   "source": [
    "### Optimization\n",
    "\n",
    "**The following grid search returns the hyperparameters which provide the best results with a recall of 0.69 and an accuracy of 0.73**\n",
    "\n",
    "**The hyperparameters tuned are**\n",
    "- **C: The cost parameter of the support vector machine**\n",
    "- **loss: The loss function to be used**\n",
    "- **penalty: Determines whether to use l1 or l2 norm**\n",
    "- **dual: Select the algorithm to either solve the dual or primal optimization problem**\n",
    "- **max_iter: The maximum number of iterations to be run**\n",
    "\n",
    "**Note 1: As grid search on random forest takes a long time to run, I have run grid search iteratively. Therefore, the parameters in the grid below are not a comprehensive list of all parameters tuned using grid search**\n",
    "\n",
    "**Note 2: As LinearSVC() does not have a predict_proba function, we will not be plotting an ROC curve for this model**"
   ]
  },
  {
   "cell_type": "code",
   "execution_count": 152,
   "metadata": {},
   "outputs": [],
   "source": [
    "param_grid = {'C': [0.1,0.15,0.2,0.25,0.3,0.35,0.4,0.45,0.5,0.6,0.7,0.8,0.9,1],\n",
    "              'loss': ['squared_hinge'],\n",
    "              'penalty': ['l1'],\n",
    "              'dual': [False],\n",
    "              'max_iter':list(range(1000,2001,200))\n",
    "             }\n",
    "\n",
    "gs = GridSearchCV(svm.LinearSVC(), param_grid, scoring='accuracy',cv = 6,verbose = 1)\n",
    "gs.fit(X_train, y_train)"
   ]
  },
  {
   "cell_type": "code",
   "execution_count": 380,
   "metadata": {},
   "outputs": [
    {
     "name": "stdout",
     "output_type": "stream",
     "text": [
      "0.7265443110694524\n"
     ]
    }
   ],
   "source": [
    "print(gs.best_score_)"
   ]
  },
  {
   "cell_type": "code",
   "execution_count": 381,
   "metadata": {},
   "outputs": [
    {
     "name": "stdout",
     "output_type": "stream",
     "text": [
      "C: 0.3\n",
      "dual: False\n",
      "loss: squared_hinge\n",
      "max_iter: 2000\n",
      "penalty: l1\n"
     ]
    }
   ],
   "source": [
    "for hps, values in gs.best_params_.items():\n",
    "    print(f\"{hps}: {values}\")"
   ]
  },
  {
   "cell_type": "code",
   "execution_count": 85,
   "metadata": {},
   "outputs": [
    {
     "name": "stderr",
     "output_type": "stream",
     "text": [
      "C:\\Users\\Pranav\\Anaconda3\\lib\\site-packages\\sklearn\\svm\\base.py:929: ConvergenceWarning: Liblinear failed to converge, increase the number of iterations.\n",
      "  \"the number of iterations.\", ConvergenceWarning)\n"
     ]
    },
    {
     "data": {
      "text/plain": [
       "LinearSVC(C=0.3, class_weight=None, dual=False, fit_intercept=True,\n",
       "          intercept_scaling=1, loss='squared_hinge', max_iter=2000,\n",
       "          multi_class='ovr', penalty='l1', random_state=42, tol=0.0001,\n",
       "          verbose=0)"
      ]
     },
     "execution_count": 85,
     "metadata": {},
     "output_type": "execute_result"
    }
   ],
   "source": [
    "lin_clf = svm.LinearSVC(C = 0.3,dual = False,loss = 'squared_hinge',penalty = 'l1',max_iter= 2000,random_state=42)\n",
    "lin_clf.fit(X_train, y_train)"
   ]
  },
  {
   "cell_type": "code",
   "execution_count": 86,
   "metadata": {},
   "outputs": [],
   "source": [
    "pred = lin_clf.predict(X_test)\n",
    "lin_clf_pred = pred"
   ]
  },
  {
   "cell_type": "code",
   "execution_count": 87,
   "metadata": {},
   "outputs": [
    {
     "name": "stdout",
     "output_type": "stream",
     "text": [
      "              precision    recall  f1-score   support\n",
      "\n",
      "           0       0.71      0.77      0.74      6992\n",
      "           1       0.76      0.69      0.72      7183\n",
      "\n",
      "    accuracy                           0.73     14175\n",
      "   macro avg       0.73      0.73      0.73     14175\n",
      "weighted avg       0.73      0.73      0.73     14175\n",
      "\n",
      "Accuracy Score:  0.7307936507936508\n",
      "Recall Score:  0.688013364889322\n"
     ]
    },
    {
     "data": {
      "text/html": [
       "<div>\n",
       "<style scoped>\n",
       "    .dataframe tbody tr th:only-of-type {\n",
       "        vertical-align: middle;\n",
       "    }\n",
       "\n",
       "    .dataframe tbody tr th {\n",
       "        vertical-align: top;\n",
       "    }\n",
       "\n",
       "    .dataframe thead th {\n",
       "        text-align: right;\n",
       "    }\n",
       "</style>\n",
       "<table border=\"1\" class=\"dataframe\">\n",
       "  <thead>\n",
       "    <tr style=\"text-align: right;\">\n",
       "      <th>Predicted</th>\n",
       "      <th>0</th>\n",
       "      <th>1</th>\n",
       "      <th>All</th>\n",
       "    </tr>\n",
       "    <tr>\n",
       "      <th>True</th>\n",
       "      <th></th>\n",
       "      <th></th>\n",
       "      <th></th>\n",
       "    </tr>\n",
       "  </thead>\n",
       "  <tbody>\n",
       "    <tr>\n",
       "      <td>0</td>\n",
       "      <td>5417</td>\n",
       "      <td>1575</td>\n",
       "      <td>6992</td>\n",
       "    </tr>\n",
       "    <tr>\n",
       "      <td>1</td>\n",
       "      <td>2241</td>\n",
       "      <td>4942</td>\n",
       "      <td>7183</td>\n",
       "    </tr>\n",
       "    <tr>\n",
       "      <td>All</td>\n",
       "      <td>7658</td>\n",
       "      <td>6517</td>\n",
       "      <td>14175</td>\n",
       "    </tr>\n",
       "  </tbody>\n",
       "</table>\n",
       "</div>"
      ],
      "text/plain": [
       "Predicted     0     1    All\n",
       "True                        \n",
       "0          5417  1575   6992\n",
       "1          2241  4942   7183\n",
       "All        7658  6517  14175"
      ]
     },
     "execution_count": 87,
     "metadata": {},
     "output_type": "execute_result"
    }
   ],
   "source": [
    "print(classification_report(y_test,pred))\n",
    "print(\"Accuracy Score: \",accuracy_score(y_test,pred))\n",
    "print(\"Recall Score: \",recall_score(y_test,pred))\n",
    "pd.crosstab(y_test, pred, rownames=['True'], colnames=['Predicted'], margins=True)"
   ]
  },
  {
   "cell_type": "markdown",
   "metadata": {},
   "source": [
    "### Best model table\n",
    "\n",
    "**Due to a higher recall value, we choose the grid search results as the best model**"
   ]
  },
  {
   "cell_type": "code",
   "execution_count": 114,
   "metadata": {},
   "outputs": [
    {
     "data": {
      "text/html": [
       "<div>\n",
       "<style scoped>\n",
       "    .dataframe tbody tr th:only-of-type {\n",
       "        vertical-align: middle;\n",
       "    }\n",
       "\n",
       "    .dataframe tbody tr th {\n",
       "        vertical-align: top;\n",
       "    }\n",
       "\n",
       "    .dataframe thead th {\n",
       "        text-align: right;\n",
       "    }\n",
       "</style>\n",
       "<table border=\"1\" class=\"dataframe\">\n",
       "  <thead>\n",
       "    <tr style=\"text-align: right;\">\n",
       "      <th></th>\n",
       "      <th>Model</th>\n",
       "      <th>C</th>\n",
       "      <th>dual</th>\n",
       "      <th>loss</th>\n",
       "      <th>penalty</th>\n",
       "      <th>max_iter</th>\n",
       "      <th>Recall</th>\n",
       "      <th>Precision</th>\n",
       "      <th>Accuracy</th>\n",
       "    </tr>\n",
       "  </thead>\n",
       "  <tbody>\n",
       "    <tr>\n",
       "      <td>0</td>\n",
       "      <td>Baseline</td>\n",
       "      <td>1.0</td>\n",
       "      <td>True</td>\n",
       "      <td>squared_hinge</td>\n",
       "      <td>l2</td>\n",
       "      <td>1000</td>\n",
       "      <td>0.687874</td>\n",
       "      <td>0.76</td>\n",
       "      <td>0.730794</td>\n",
       "    </tr>\n",
       "    <tr>\n",
       "      <td>1</td>\n",
       "      <td>Grid Search results</td>\n",
       "      <td>0.3</td>\n",
       "      <td>False</td>\n",
       "      <td>squared_hinge</td>\n",
       "      <td>l1</td>\n",
       "      <td>2000</td>\n",
       "      <td>0.688013</td>\n",
       "      <td>0.76</td>\n",
       "      <td>0.730794</td>\n",
       "    </tr>\n",
       "  </tbody>\n",
       "</table>\n",
       "</div>"
      ],
      "text/plain": [
       "                 Model    C   dual           loss penalty  max_iter    Recall  \\\n",
       "0             Baseline  1.0   True  squared_hinge      l2      1000  0.687874   \n",
       "1  Grid Search results  0.3  False  squared_hinge      l1      2000  0.688013   \n",
       "\n",
       "   Precision  Accuracy  \n",
       "0       0.76  0.730794  \n",
       "1       0.76  0.730794  "
      ]
     },
     "execution_count": 114,
     "metadata": {},
     "output_type": "execute_result"
    }
   ],
   "source": [
    "Model_comparison_LinSVM = {'Model':['Baseline','Grid Search results'],\n",
    "        'C' :[1.0,0.3],            \n",
    "        'dual':[True,False],                              \n",
    "        'loss':['squared_hinge','squared_hinge'],\n",
    "        'penalty':['l2','l1'],\n",
    "        'max_iter':[1000,2000],\n",
    "        'Recall': [0.6878741472922177,0.688013364889322],\n",
    "        'Precision': [0.76,0.76],\n",
    "        'Accuracy': [0.7307936507936508,0.7307936507936508]\n",
    "       }\n",
    "pd.DataFrame(Model_comparison_LinSVM)"
   ]
  },
  {
   "cell_type": "markdown",
   "metadata": {},
   "source": [
    "## Non Linear"
   ]
  },
  {
   "cell_type": "markdown",
   "metadata": {},
   "source": [
    "### RBF\n",
    "\n",
    "**The baseline model for non linear support vector machines with RBF returns a recall of 0.69 and an accuracy of 0.74**"
   ]
  },
  {
   "cell_type": "code",
   "execution_count": 88,
   "metadata": {},
   "outputs": [
    {
     "name": "stderr",
     "output_type": "stream",
     "text": [
      "C:\\Users\\Pranav\\Anaconda3\\lib\\site-packages\\sklearn\\svm\\base.py:193: FutureWarning: The default value of gamma will change from 'auto' to 'scale' in version 0.22 to account better for unscaled features. Set gamma explicitly to 'auto' or 'scale' to avoid this warning.\n",
      "  \"avoid this warning.\", FutureWarning)\n"
     ]
    },
    {
     "data": {
      "text/plain": [
       "SVC(C=1.0, cache_size=200, class_weight=None, coef0=0.0,\n",
       "    decision_function_shape='ovr', degree=3, gamma='auto_deprecated',\n",
       "    kernel='rbf', max_iter=-1, probability=False, random_state=42,\n",
       "    shrinking=True, tol=0.001, verbose=False)"
      ]
     },
     "execution_count": 88,
     "metadata": {},
     "output_type": "execute_result"
    }
   ],
   "source": [
    "nlin_clf = svm.SVC(random_state=42)\n",
    "nlin_clf.fit(X_train, y_train)"
   ]
  },
  {
   "cell_type": "code",
   "execution_count": 89,
   "metadata": {},
   "outputs": [],
   "source": [
    "pred = nlin_clf.predict(X_test)"
   ]
  },
  {
   "cell_type": "code",
   "execution_count": 90,
   "metadata": {},
   "outputs": [
    {
     "name": "stdout",
     "output_type": "stream",
     "text": [
      "              precision    recall  f1-score   support\n",
      "\n",
      "           0       0.71      0.78      0.74      6992\n",
      "           1       0.76      0.69      0.73      7183\n",
      "\n",
      "    accuracy                           0.74     14175\n",
      "   macro avg       0.74      0.74      0.74     14175\n",
      "weighted avg       0.74      0.74      0.73     14175\n",
      "\n",
      "Accuracy Score:  0.7353791887125221\n",
      "Recall Score:  0.6923291103995545\n"
     ]
    },
    {
     "data": {
      "text/html": [
       "<div>\n",
       "<style scoped>\n",
       "    .dataframe tbody tr th:only-of-type {\n",
       "        vertical-align: middle;\n",
       "    }\n",
       "\n",
       "    .dataframe tbody tr th {\n",
       "        vertical-align: top;\n",
       "    }\n",
       "\n",
       "    .dataframe thead th {\n",
       "        text-align: right;\n",
       "    }\n",
       "</style>\n",
       "<table border=\"1\" class=\"dataframe\">\n",
       "  <thead>\n",
       "    <tr style=\"text-align: right;\">\n",
       "      <th>Predicted</th>\n",
       "      <th>0</th>\n",
       "      <th>1</th>\n",
       "      <th>All</th>\n",
       "    </tr>\n",
       "    <tr>\n",
       "      <th>True</th>\n",
       "      <th></th>\n",
       "      <th></th>\n",
       "      <th></th>\n",
       "    </tr>\n",
       "  </thead>\n",
       "  <tbody>\n",
       "    <tr>\n",
       "      <td>0</td>\n",
       "      <td>5451</td>\n",
       "      <td>1541</td>\n",
       "      <td>6992</td>\n",
       "    </tr>\n",
       "    <tr>\n",
       "      <td>1</td>\n",
       "      <td>2210</td>\n",
       "      <td>4973</td>\n",
       "      <td>7183</td>\n",
       "    </tr>\n",
       "    <tr>\n",
       "      <td>All</td>\n",
       "      <td>7661</td>\n",
       "      <td>6514</td>\n",
       "      <td>14175</td>\n",
       "    </tr>\n",
       "  </tbody>\n",
       "</table>\n",
       "</div>"
      ],
      "text/plain": [
       "Predicted     0     1    All\n",
       "True                        \n",
       "0          5451  1541   6992\n",
       "1          2210  4973   7183\n",
       "All        7661  6514  14175"
      ]
     },
     "execution_count": 90,
     "metadata": {},
     "output_type": "execute_result"
    }
   ],
   "source": [
    "print(classification_report(y_test,pred))\n",
    "print(\"Accuracy Score: \",accuracy_score(y_test,pred))\n",
    "print(\"Recall Score: \",recall_score(y_test,pred))\n",
    "pd.crosstab(y_test, pred, rownames=['True'], colnames=['Predicted'], margins=True)"
   ]
  },
  {
   "cell_type": "markdown",
   "metadata": {},
   "source": [
    "### Polynomial\n",
    "\n",
    "**The baseline model for non linear support vector machines with polynomial returns a recall of 0.65 and an accuracy of 0.72**"
   ]
  },
  {
   "cell_type": "code",
   "execution_count": 91,
   "metadata": {},
   "outputs": [
    {
     "name": "stderr",
     "output_type": "stream",
     "text": [
      "C:\\Users\\Pranav\\Anaconda3\\lib\\site-packages\\sklearn\\svm\\base.py:193: FutureWarning: The default value of gamma will change from 'auto' to 'scale' in version 0.22 to account better for unscaled features. Set gamma explicitly to 'auto' or 'scale' to avoid this warning.\n",
      "  \"avoid this warning.\", FutureWarning)\n"
     ]
    },
    {
     "data": {
      "text/plain": [
       "SVC(C=1.0, cache_size=200, class_weight=None, coef0=0.0,\n",
       "    decision_function_shape='ovr', degree=3, gamma='auto_deprecated',\n",
       "    kernel='poly', max_iter=-1, probability=False, random_state=42,\n",
       "    shrinking=True, tol=0.001, verbose=False)"
      ]
     },
     "execution_count": 91,
     "metadata": {},
     "output_type": "execute_result"
    }
   ],
   "source": [
    "nlin_clf = svm.SVC(kernel='poly',random_state=42)\n",
    "nlin_clf.fit(X_train, y_train)"
   ]
  },
  {
   "cell_type": "code",
   "execution_count": 92,
   "metadata": {},
   "outputs": [],
   "source": [
    "pred = nlin_clf.predict(X_test)"
   ]
  },
  {
   "cell_type": "code",
   "execution_count": 93,
   "metadata": {},
   "outputs": [
    {
     "name": "stdout",
     "output_type": "stream",
     "text": [
      "              precision    recall  f1-score   support\n",
      "\n",
      "           0       0.69      0.80      0.74      6992\n",
      "           1       0.77      0.65      0.70      7183\n",
      "\n",
      "    accuracy                           0.72     14175\n",
      "   macro avg       0.73      0.72      0.72     14175\n",
      "weighted avg       0.73      0.72      0.72     14175\n",
      "\n",
      "Accuracy Score:  0.7227513227513227\n",
      "Recall Score:  0.6468049561464569\n"
     ]
    },
    {
     "data": {
      "text/html": [
       "<div>\n",
       "<style scoped>\n",
       "    .dataframe tbody tr th:only-of-type {\n",
       "        vertical-align: middle;\n",
       "    }\n",
       "\n",
       "    .dataframe tbody tr th {\n",
       "        vertical-align: top;\n",
       "    }\n",
       "\n",
       "    .dataframe thead th {\n",
       "        text-align: right;\n",
       "    }\n",
       "</style>\n",
       "<table border=\"1\" class=\"dataframe\">\n",
       "  <thead>\n",
       "    <tr style=\"text-align: right;\">\n",
       "      <th>Predicted</th>\n",
       "      <th>0</th>\n",
       "      <th>1</th>\n",
       "      <th>All</th>\n",
       "    </tr>\n",
       "    <tr>\n",
       "      <th>True</th>\n",
       "      <th></th>\n",
       "      <th></th>\n",
       "      <th></th>\n",
       "    </tr>\n",
       "  </thead>\n",
       "  <tbody>\n",
       "    <tr>\n",
       "      <td>0</td>\n",
       "      <td>5599</td>\n",
       "      <td>1393</td>\n",
       "      <td>6992</td>\n",
       "    </tr>\n",
       "    <tr>\n",
       "      <td>1</td>\n",
       "      <td>2537</td>\n",
       "      <td>4646</td>\n",
       "      <td>7183</td>\n",
       "    </tr>\n",
       "    <tr>\n",
       "      <td>All</td>\n",
       "      <td>8136</td>\n",
       "      <td>6039</td>\n",
       "      <td>14175</td>\n",
       "    </tr>\n",
       "  </tbody>\n",
       "</table>\n",
       "</div>"
      ],
      "text/plain": [
       "Predicted     0     1    All\n",
       "True                        \n",
       "0          5599  1393   6992\n",
       "1          2537  4646   7183\n",
       "All        8136  6039  14175"
      ]
     },
     "execution_count": 93,
     "metadata": {},
     "output_type": "execute_result"
    }
   ],
   "source": [
    "print(classification_report(y_test,pred))\n",
    "print(\"Accuracy Score: \",accuracy_score(y_test,pred))\n",
    "print(\"Recall Score: \",recall_score(y_test,pred))\n",
    "pd.crosstab(y_test, pred, rownames=['True'], colnames=['Predicted'], margins=True)"
   ]
  },
  {
   "cell_type": "markdown",
   "metadata": {},
   "source": [
    "## Optimization\n",
    "\n",
    "**The following grid search returns the hyperparameters which provide the best results with a recall of 0.70 and an accuracy of 0.73**\n",
    "\n",
    "**The hyperparameters tuned are**\n",
    "- **C: The cost parameter of the support vector machine**\n",
    "- **gamma: The kernel function to be used to cast the model into a higher dimension**\n",
    "\n",
    "**Note : As grid search on random forest takes a long time to run, I have run grid search iteratively. Therefore, the parameters in the grid below are not a comprehensive list of all parameters tuned using grid search**"
   ]
  },
  {
   "cell_type": "code",
   "execution_count": 398,
   "metadata": {},
   "outputs": [],
   "source": [
    "param_grid = {'C': [0.7,0.75,0.8],\n",
    "              'gamma': [0.25,0.3,0.35],\n",
    "              'kernel': ['rbf']\n",
    "             }\n",
    "\n",
    "gs = GridSearchCV(SVC(), param_grid, scoring='accuracy',cv = 6,verbose = 1)\n",
    "gs.fit(X_train, y_train)"
   ]
  },
  {
   "cell_type": "code",
   "execution_count": null,
   "metadata": {},
   "outputs": [],
   "source": [
    "print(gs.best_score_)"
   ]
  },
  {
   "cell_type": "code",
   "execution_count": null,
   "metadata": {},
   "outputs": [],
   "source": [
    "for hps, values in gs.best_params_.items():\n",
    "    print(f\"{hps}: {values}\")"
   ]
  },
  {
   "cell_type": "code",
   "execution_count": 94,
   "metadata": {},
   "outputs": [
    {
     "data": {
      "text/plain": [
       "SVC(C=0.8, cache_size=200, class_weight=None, coef0=0.0,\n",
       "    decision_function_shape='ovr', degree=3, gamma=0.25, kernel='rbf',\n",
       "    max_iter=-1, probability=True, random_state=42, shrinking=True, tol=0.001,\n",
       "    verbose=False)"
      ]
     },
     "execution_count": 94,
     "metadata": {},
     "output_type": "execute_result"
    }
   ],
   "source": [
    "nlin_clf = svm.SVC(C = 0.8,gamma=0.25,random_state=42,probability=True)\n",
    "nlin_clf.fit(X_train, y_train)"
   ]
  },
  {
   "cell_type": "code",
   "execution_count": 95,
   "metadata": {},
   "outputs": [],
   "source": [
    "pred = nlin_clf.predict(X_test)\n",
    "nlin_clf_pred = pred"
   ]
  },
  {
   "cell_type": "code",
   "execution_count": 96,
   "metadata": {},
   "outputs": [
    {
     "name": "stdout",
     "output_type": "stream",
     "text": [
      "              precision    recall  f1-score   support\n",
      "\n",
      "           0       0.71      0.76      0.74      6992\n",
      "           1       0.75      0.70      0.73      7183\n",
      "\n",
      "    accuracy                           0.73     14175\n",
      "   macro avg       0.73      0.73      0.73     14175\n",
      "weighted avg       0.73      0.73      0.73     14175\n",
      "\n",
      "Accuracy Score:  0.7311463844797178\n",
      "Recall Score:  0.7030488653765836\n"
     ]
    },
    {
     "data": {
      "text/html": [
       "<div>\n",
       "<style scoped>\n",
       "    .dataframe tbody tr th:only-of-type {\n",
       "        vertical-align: middle;\n",
       "    }\n",
       "\n",
       "    .dataframe tbody tr th {\n",
       "        vertical-align: top;\n",
       "    }\n",
       "\n",
       "    .dataframe thead th {\n",
       "        text-align: right;\n",
       "    }\n",
       "</style>\n",
       "<table border=\"1\" class=\"dataframe\">\n",
       "  <thead>\n",
       "    <tr style=\"text-align: right;\">\n",
       "      <th>Predicted</th>\n",
       "      <th>0</th>\n",
       "      <th>1</th>\n",
       "      <th>All</th>\n",
       "    </tr>\n",
       "    <tr>\n",
       "      <th>True</th>\n",
       "      <th></th>\n",
       "      <th></th>\n",
       "      <th></th>\n",
       "    </tr>\n",
       "  </thead>\n",
       "  <tbody>\n",
       "    <tr>\n",
       "      <td>0</td>\n",
       "      <td>5314</td>\n",
       "      <td>1678</td>\n",
       "      <td>6992</td>\n",
       "    </tr>\n",
       "    <tr>\n",
       "      <td>1</td>\n",
       "      <td>2133</td>\n",
       "      <td>5050</td>\n",
       "      <td>7183</td>\n",
       "    </tr>\n",
       "    <tr>\n",
       "      <td>All</td>\n",
       "      <td>7447</td>\n",
       "      <td>6728</td>\n",
       "      <td>14175</td>\n",
       "    </tr>\n",
       "  </tbody>\n",
       "</table>\n",
       "</div>"
      ],
      "text/plain": [
       "Predicted     0     1    All\n",
       "True                        \n",
       "0          5314  1678   6992\n",
       "1          2133  5050   7183\n",
       "All        7447  6728  14175"
      ]
     },
     "execution_count": 96,
     "metadata": {},
     "output_type": "execute_result"
    }
   ],
   "source": [
    "print(classification_report(y_test,pred))\n",
    "print(\"Accuracy Score: \",accuracy_score(y_test,pred))\n",
    "print(\"Recall Score: \",recall_score(y_test,pred))\n",
    "pd.crosstab(y_test, pred, rownames=['True'], colnames=['Predicted'], margins=True)"
   ]
  },
  {
   "cell_type": "markdown",
   "metadata": {},
   "source": [
    "### ROC Curve\n",
    "**The ROC Curve can be seen below, it has an AUC value of 0.786**"
   ]
  },
  {
   "cell_type": "code",
   "execution_count": 97,
   "metadata": {},
   "outputs": [
    {
     "name": "stdout",
     "output_type": "stream",
     "text": [
      "No Skill: ROC AUC=0.500\n",
      "Non Linear SVM: ROC AUC=0.786\n"
     ]
    },
    {
     "data": {
      "image/png": "[encoded data removed]",
      "text/plain": [
       "<Figure size 1152x576 with 1 Axes>"
      ]
     },
     "metadata": {
      "needs_background": "light"
     },
     "output_type": "display_data"
    }
   ],
   "source": [
    "generate_roc(nlin_clf,y_test,\"Non Linear SVM\")"
   ]
  },
  {
   "cell_type": "markdown",
   "metadata": {},
   "source": [
    "### Best model table\n",
    "\n",
    "**We have selected the outcome of the grid search as the best model because we're trying to maximize recall and accuracy**"
   ]
  },
  {
   "cell_type": "code",
   "execution_count": 110,
   "metadata": {},
   "outputs": [
    {
     "data": {
      "text/html": [
       "<div>\n",
       "<style scoped>\n",
       "    .dataframe tbody tr th:only-of-type {\n",
       "        vertical-align: middle;\n",
       "    }\n",
       "\n",
       "    .dataframe tbody tr th {\n",
       "        vertical-align: top;\n",
       "    }\n",
       "\n",
       "    .dataframe thead th {\n",
       "        text-align: right;\n",
       "    }\n",
       "</style>\n",
       "<table border=\"1\" class=\"dataframe\">\n",
       "  <thead>\n",
       "    <tr style=\"text-align: right;\">\n",
       "      <th></th>\n",
       "      <th>Model</th>\n",
       "      <th>C</th>\n",
       "      <th>gamma</th>\n",
       "      <th>kernel</th>\n",
       "      <th>Recall</th>\n",
       "      <th>Precision</th>\n",
       "      <th>Accuracy</th>\n",
       "    </tr>\n",
       "  </thead>\n",
       "  <tbody>\n",
       "    <tr>\n",
       "      <td>0</td>\n",
       "      <td>RBF SVM</td>\n",
       "      <td>1.0</td>\n",
       "      <td>auto_deprecated</td>\n",
       "      <td>rbf</td>\n",
       "      <td>0.69</td>\n",
       "      <td>0.76</td>\n",
       "      <td>0.74</td>\n",
       "    </tr>\n",
       "    <tr>\n",
       "      <td>1</td>\n",
       "      <td>Polynomial SVM</td>\n",
       "      <td>1.0</td>\n",
       "      <td>auto_deprecated</td>\n",
       "      <td>poly</td>\n",
       "      <td>0.65</td>\n",
       "      <td>0.77</td>\n",
       "      <td>0.72</td>\n",
       "    </tr>\n",
       "    <tr>\n",
       "      <td>2</td>\n",
       "      <td>Grid Search results</td>\n",
       "      <td>0.8</td>\n",
       "      <td>0.25</td>\n",
       "      <td>rbf</td>\n",
       "      <td>0.70</td>\n",
       "      <td>0.75</td>\n",
       "      <td>0.73</td>\n",
       "    </tr>\n",
       "  </tbody>\n",
       "</table>\n",
       "</div>"
      ],
      "text/plain": [
       "                 Model    C            gamma kernel  Recall  Precision  \\\n",
       "0              RBF SVM  1.0  auto_deprecated    rbf    0.69       0.76   \n",
       "1       Polynomial SVM  1.0  auto_deprecated   poly    0.65       0.77   \n",
       "2  Grid Search results  0.8             0.25    rbf    0.70       0.75   \n",
       "\n",
       "   Accuracy  \n",
       "0      0.74  \n",
       "1      0.72  \n",
       "2      0.73  "
      ]
     },
     "execution_count": 110,
     "metadata": {},
     "output_type": "execute_result"
    }
   ],
   "source": [
    "Model_comparison_NLinSVM = {'Model':['RBF SVM','Polynomial SVM','Grid Search results'],\n",
    "        'C' :[1.0,1.0,0.8],            \n",
    "        'gamma':['auto_deprecated','auto_deprecated','0.25'],                              \n",
    "        'kernel':['rbf','poly','rbf'],\n",
    "        'Recall': [0.69,0.65,0.70],\n",
    "        'Precision': [0.76,0.77,0.75],\n",
    "        'Accuracy': [0.74,0.72,0.73]\n",
    "       }\n",
    "pd.DataFrame(Model_comparison_NLinSVM)"
   ]
  },
  {
   "cell_type": "markdown",
   "metadata": {},
   "source": [
    "# Majority Voting\n",
    "\n",
    "**In the spirit of ensemble learning, let's apply majority voting to 7 classifiers to see if it improves results**\n",
    "\n",
    "**Majority Voting returns an accuracy of 0.74 and a recall of 0.70**"
   ]
  },
  {
   "cell_type": "code",
   "execution_count": 98,
   "metadata": {},
   "outputs": [],
   "source": [
    "maj_pred = []\n",
    "for i in range(len(y_test)):\n",
    "    vote = 0\n",
    "    if neigh_pred[i] == 1:\n",
    "        vote+= 1\n",
    "    if mnb_pred[i] == 1:\n",
    "        vote+= 1\n",
    "    if rf_pred[i]== 1:\n",
    "        vote+= 1\n",
    "    if gbm_pred[i] == 1:\n",
    "        vote+= 1\n",
    "    if nlin_clf_pred[i] == 1:\n",
    "        vote+= 1\n",
    "    if lin_clf_pred[i] == 1:\n",
    "        vote+= 1\n",
    "    if gnb_pred[i] == 1:\n",
    "        vote+= 1\n",
    "    if vote > 3:\n",
    "        maj_pred.append(1)\n",
    "    else:\n",
    "        maj_pred.append(0)"
   ]
  },
  {
   "cell_type": "code",
   "execution_count": 99,
   "metadata": {},
   "outputs": [
    {
     "name": "stdout",
     "output_type": "stream",
     "text": [
      "              precision    recall  f1-score   support\n",
      "\n",
      "           0       0.71      0.78      0.74      6992\n",
      "           1       0.76      0.70      0.73      7183\n",
      "\n",
      "    accuracy                           0.74     14175\n",
      "   macro avg       0.74      0.74      0.74     14175\n",
      "weighted avg       0.74      0.74      0.74     14175\n",
      "\n",
      "Accuracy Score:  0.7369312169312169\n",
      "Recall Score:  0.6959487679242656\n"
     ]
    },
    {
     "data": {
      "text/html": [
       "<div>\n",
       "<style scoped>\n",
       "    .dataframe tbody tr th:only-of-type {\n",
       "        vertical-align: middle;\n",
       "    }\n",
       "\n",
       "    .dataframe tbody tr th {\n",
       "        vertical-align: top;\n",
       "    }\n",
       "\n",
       "    .dataframe thead th {\n",
       "        text-align: right;\n",
       "    }\n",
       "</style>\n",
       "<table border=\"1\" class=\"dataframe\">\n",
       "  <thead>\n",
       "    <tr style=\"text-align: right;\">\n",
       "      <th>Predicted</th>\n",
       "      <th>0</th>\n",
       "      <th>1</th>\n",
       "      <th>All</th>\n",
       "    </tr>\n",
       "    <tr>\n",
       "      <th>True</th>\n",
       "      <th></th>\n",
       "      <th></th>\n",
       "      <th></th>\n",
       "    </tr>\n",
       "  </thead>\n",
       "  <tbody>\n",
       "    <tr>\n",
       "      <td>0</td>\n",
       "      <td>5314</td>\n",
       "      <td>1678</td>\n",
       "      <td>6992</td>\n",
       "    </tr>\n",
       "    <tr>\n",
       "      <td>1</td>\n",
       "      <td>2133</td>\n",
       "      <td>5050</td>\n",
       "      <td>7183</td>\n",
       "    </tr>\n",
       "    <tr>\n",
       "      <td>All</td>\n",
       "      <td>7447</td>\n",
       "      <td>6728</td>\n",
       "      <td>14175</td>\n",
       "    </tr>\n",
       "  </tbody>\n",
       "</table>\n",
       "</div>"
      ],
      "text/plain": [
       "Predicted     0     1    All\n",
       "True                        \n",
       "0          5314  1678   6992\n",
       "1          2133  5050   7183\n",
       "All        7447  6728  14175"
      ]
     },
     "execution_count": 99,
     "metadata": {},
     "output_type": "execute_result"
    }
   ],
   "source": [
    "print(classification_report(y_test,maj_pred))\n",
    "print(\"Accuracy Score: \",accuracy_score(y_test,maj_pred))\n",
    "print(\"Recall Score: \",recall_score(y_test,maj_pred))\n",
    "pd.crosstab(y_test, pred, rownames=['True'], colnames=['Predicted'], margins=True)"
   ]
  },
  {
   "cell_type": "markdown",
   "metadata": {},
   "source": [
    "# Test Data Predictions"
   ]
  },
  {
   "cell_type": "markdown",
   "metadata": {},
   "source": [
    "## K Nearest Neighbor"
   ]
  },
  {
   "cell_type": "code",
   "execution_count": 100,
   "metadata": {},
   "outputs": [
    {
     "data": {
      "text/plain": [
       "array([0., 0., 1., ..., 0., 1., 0.])"
      ]
     },
     "execution_count": 100,
     "metadata": {},
     "output_type": "execute_result"
    }
   ],
   "source": [
    "knn_pred = neigh.predict(df_test_normalized.drop('ID',axis = 1))\n",
    "knn_pred"
   ]
  },
  {
   "cell_type": "markdown",
   "metadata": {},
   "source": [
    "## Naive Bayes"
   ]
  },
  {
   "cell_type": "code",
   "execution_count": 101,
   "metadata": {},
   "outputs": [
    {
     "data": {
      "text/plain": [
       "array([0, 0, 0, ..., 1, 1, 0], dtype=int64)"
      ]
     },
     "execution_count": 101,
     "metadata": {},
     "output_type": "execute_result"
    }
   ],
   "source": [
    "nb_pred = mnb.predict(df_test_one_hot.drop('ID',axis = 1))\n",
    "nb_pred"
   ]
  },
  {
   "cell_type": "markdown",
   "metadata": {},
   "source": [
    "## Random Forest"
   ]
  },
  {
   "cell_type": "code",
   "execution_count": 102,
   "metadata": {},
   "outputs": [
    {
     "data": {
      "text/plain": [
       "array([0, 0, 1, ..., 0, 1, 0], dtype=int64)"
      ]
     },
     "execution_count": 102,
     "metadata": {},
     "output_type": "execute_result"
    }
   ],
   "source": [
    "rf_pred = rfc.predict(df_test_one_hot.drop('ID',axis = 1))\n",
    "rf_pred"
   ]
  },
  {
   "cell_type": "markdown",
   "metadata": {},
   "source": [
    "## Gradient Boosting"
   ]
  },
  {
   "cell_type": "code",
   "execution_count": 103,
   "metadata": {},
   "outputs": [
    {
     "data": {
      "text/plain": [
       "array([0, 0, 1, ..., 0, 1, 0], dtype=int64)"
      ]
     },
     "execution_count": 103,
     "metadata": {},
     "output_type": "execute_result"
    }
   ],
   "source": [
    "gb_pred = gbm.predict(df_test_one_hot.drop('ID',axis = 1))\n",
    "gb_pred"
   ]
  },
  {
   "cell_type": "markdown",
   "metadata": {},
   "source": [
    "## Linear SVM"
   ]
  },
  {
   "cell_type": "code",
   "execution_count": 104,
   "metadata": {},
   "outputs": [
    {
     "data": {
      "text/plain": [
       "array([0, 0, 1, ..., 1, 1, 1], dtype=int64)"
      ]
     },
     "execution_count": 104,
     "metadata": {},
     "output_type": "execute_result"
    }
   ],
   "source": [
    "linsvm_pred = lin_clf.predict(df_test_standardized.drop('ID',axis = 1))\n",
    "linsvm_pred"
   ]
  },
  {
   "cell_type": "markdown",
   "metadata": {},
   "source": [
    "## Non Linear SVM"
   ]
  },
  {
   "cell_type": "code",
   "execution_count": 105,
   "metadata": {},
   "outputs": [
    {
     "data": {
      "text/plain": [
       "array([0, 0, 0, ..., 0, 1, 0], dtype=int64)"
      ]
     },
     "execution_count": 105,
     "metadata": {},
     "output_type": "execute_result"
    }
   ],
   "source": [
    "nlinsvm_pred = nlin_clf.predict(df_test_standardized.drop('ID',axis = 1))\n",
    "nlinsvm_pred"
   ]
  },
  {
   "cell_type": "markdown",
   "metadata": {},
   "source": [
    "## Exporting Training Data"
   ]
  },
  {
   "cell_type": "code",
   "execution_count": 106,
   "metadata": {},
   "outputs": [
    {
     "data": {
      "text/html": [
       "<div>\n",
       "<style scoped>\n",
       "    .dataframe tbody tr th:only-of-type {\n",
       "        vertical-align: middle;\n",
       "    }\n",
       "\n",
       "    .dataframe tbody tr th {\n",
       "        vertical-align: top;\n",
       "    }\n",
       "\n",
       "    .dataframe thead th {\n",
       "        text-align: right;\n",
       "    }\n",
       "</style>\n",
       "<table border=\"1\" class=\"dataframe\">\n",
       "  <thead>\n",
       "    <tr style=\"text-align: right;\">\n",
       "      <th></th>\n",
       "      <th>ID</th>\n",
       "      <th>NBC</th>\n",
       "      <th>KNN</th>\n",
       "      <th>SVM-Linear</th>\n",
       "      <th>SVM-RBF</th>\n",
       "      <th>RF</th>\n",
       "      <th>GBM</th>\n",
       "    </tr>\n",
       "  </thead>\n",
       "  <tbody>\n",
       "    <tr>\n",
       "      <td>0</td>\n",
       "      <td>0</td>\n",
       "      <td>0</td>\n",
       "      <td>0</td>\n",
       "      <td>0</td>\n",
       "      <td>0</td>\n",
       "      <td>0</td>\n",
       "      <td>0</td>\n",
       "    </tr>\n",
       "    <tr>\n",
       "      <td>1</td>\n",
       "      <td>1</td>\n",
       "      <td>0</td>\n",
       "      <td>0</td>\n",
       "      <td>0</td>\n",
       "      <td>0</td>\n",
       "      <td>0</td>\n",
       "      <td>0</td>\n",
       "    </tr>\n",
       "    <tr>\n",
       "      <td>2</td>\n",
       "      <td>2</td>\n",
       "      <td>0</td>\n",
       "      <td>1</td>\n",
       "      <td>1</td>\n",
       "      <td>0</td>\n",
       "      <td>1</td>\n",
       "      <td>1</td>\n",
       "    </tr>\n",
       "    <tr>\n",
       "      <td>3</td>\n",
       "      <td>3</td>\n",
       "      <td>1</td>\n",
       "      <td>1</td>\n",
       "      <td>1</td>\n",
       "      <td>1</td>\n",
       "      <td>1</td>\n",
       "      <td>1</td>\n",
       "    </tr>\n",
       "    <tr>\n",
       "      <td>4</td>\n",
       "      <td>4</td>\n",
       "      <td>0</td>\n",
       "      <td>0</td>\n",
       "      <td>0</td>\n",
       "      <td>0</td>\n",
       "      <td>0</td>\n",
       "      <td>0</td>\n",
       "    </tr>\n",
       "  </tbody>\n",
       "</table>\n",
       "</div>"
      ],
      "text/plain": [
       "   ID  NBC  KNN  SVM-Linear  SVM-RBF  RF  GBM\n",
       "0   0    0    0           0        0   0    0\n",
       "1   1    0    0           0        0   0    0\n",
       "2   2    0    1           1        0   1    1\n",
       "3   3    1    1           1        1   1    1\n",
       "4   4    0    0           0        0   0    0"
      ]
     },
     "execution_count": 106,
     "metadata": {},
     "output_type": "execute_result"
    }
   ],
   "source": [
    "data1 = {\n",
    "    'ID' : df_testing.ID,\n",
    "    'NBC': nb_pred,\n",
    "    'KNN': knn_pred,\n",
    "    'SVM-Linear' : linsvm_pred,\n",
    "    'SVM-RBF' : nlinsvm_pred,\n",
    "    'RF' : rf_pred,\n",
    "    'GBM': gb_pred\n",
    "}\n",
    "\n",
    "final_result = pd.DataFrame(data1)\n",
    "final_result['KNN'] = final_result['KNN'].astype('int')\n",
    "final_result.head()"
   ]
  },
  {
   "cell_type": "code",
   "execution_count": 107,
   "metadata": {},
   "outputs": [],
   "source": [
    "final_result.to_csv('final.csv',index = False)"
   ]
  },
  {
   "cell_type": "markdown",
   "metadata": {},
   "source": [
    "# Conclusion\n",
    "\n",
    "**In conclusion, all the algorithms work fairly well with accuracy's ranging between 70-74 percent. We find that preprocessing steps such as dropping duplicate values have a big impact on the performance of the models. We find that attributes such as low blood pressure, high blood pressure and age play a big role in predicting whether or not a patient has a disease. The feature engineering process also proved fruitful as the BMI attribute proved to be an important feature. Overall gradient boosting provides the best performance in terms of accuracy and recall**"
   ]
  }
 ],
 "metadata": {
  "kernelspec": {
   "display_name": "Python 3",
   "language": "python",
   "name": "python3"
  },
  "language_info": {
   "codemirror_mode": {
    "name": "ipython",
    "version": 3
   },
   "file_extension": ".py",
   "mimetype": "text/x-python",
   "name": "python",
   "nbconvert_exporter": "python",
   "pygments_lexer": "ipython3",
   "version": "3.7.4"
  }
 },
 "nbformat": 4,
 "nbformat_minor": 2
}
