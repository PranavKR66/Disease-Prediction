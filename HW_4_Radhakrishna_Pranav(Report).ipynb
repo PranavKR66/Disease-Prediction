{
  "nbformat": 4,
  "nbformat_minor": 0,
  "metadata": {
    "kernelspec": {
      "display_name": "Python 3",
      "language": "python",
      "name": "python3"
    },
    "language_info": {
      "codemirror_mode": {
        "name": "ipython",
        "version": 3
      },
      "file_extension": ".py",
      "mimetype": "text/x-python",
      "name": "python",
      "nbconvert_exporter": "python",
      "pygments_lexer": "ipython3",
      "version": "3.7.7"
    },
    "colab": {
      "name": "HW_4_Radhakrishna_Pranav.ipynb",
      "provenance": [],
      "toc_visible": true
    }
  },
  "cells": [
    {
      "cell_type": "markdown",
      "metadata": {
        "id": "xnQEgEA8IWD7",
        "colab_type": "text"
      },
      "source": [
        "<h1><center>IST707 Data Analytics</center></h1>\n",
        "<h2><center>HW4: Statistical Learning, Deep Learning and A Complete Comparison</center></h2>\n",
        "<h3><center>Pranav Kottoli Radhakrishna, April 26th 2020</center></h3>"
      ]
    },
    {
      "cell_type": "markdown",
      "metadata": {
        "id": "hFe9fApOIWD8",
        "colab_type": "text"
      },
      "source": [
        "## Introduction\n",
        "\n",
        "**The purpose of this assignment is to predict whether a patient has a disease based on biological information about the patient such as age and height. We will exlore and process the data in order to prepare it to be used to train machine learning algorithms. This is a binary classification problem. Therefore we will use a number of classification algorithms to make the prediction. We have a training dataset to train the machine learning algorithms and a testing dataset in order to test the predictions made by the algorithms. Additionally, we will compare the results of the models from this assignment with the models in the previous assignment**"
      ]
    },
    {
      "cell_type": "markdown",
      "metadata": {
        "id": "6T9hFrAyIWD9",
        "colab_type": "text"
      },
      "source": [
        "## Executive Summary\n",
        "\n",
        "**We start the asignment by performing feature engineering by adding a new attribute(Body Mass Index). We proceed by performing Exploratory Data analysis where we look at missing values, outliers, correlation and patterns in the data through a combination of visualization and statistical analysis. This is followed by data preparation where we handle outliers and other anomalies that are present in the data. We also scale and one hot encode the data in order to prepare it for our machine learning algorithms**\n",
        "\n",
        "**Next, we model our data using different classification algorithms. We use Logistic Regression, Decision Trees and Artificial Neural Networks. We then compare the results of these algorithms with the results from the previous assignment.**\n",
        "\n",
        "**Finally, we make predictions on the test dataset and export the outcomes to a csv file**"
      ]
    },
    {
      "cell_type": "markdown",
      "metadata": {
        "id": "ncsI4l23IWD9",
        "colab_type": "text"
      },
      "source": [
        "## Import Libraries"
      ]
    },
    {
      "cell_type": "code",
      "metadata": {
        "id": "C5EF1t22IWD-",
        "colab_type": "code",
        "colab": {}
      },
      "source": [
        "import numpy as np\n",
        "import pandas as pd\n",
        "import matplotlib.pyplot as plt\n",
        "import seaborn as sns\n",
        "import missingno as mn\n",
        "from sklearn.model_selection import train_test_split,GridSearchCV\n",
        "from sklearn.metrics import classification_report,f1_score, accuracy_score, recall_score, roc_auc_score, roc_curve\n",
        "from sklearn.preprocessing import MinMaxScaler, StandardScaler, RobustScaler\n",
        "from sklearn.linear_model import LogisticRegression\n",
        "from sklearn.tree import DecisionTreeClassifier\n",
        "from tensorflow.keras.models import Sequential\n",
        "from tensorflow.keras.layers import Dense,Dropout\n",
        "from tensorflow.keras.callbacks import EarlyStopping\n",
        "%matplotlib inline"
      ],
      "execution_count": 0,
      "outputs": []
    },
    {
      "cell_type": "code",
      "metadata": {
        "id": "lP-QNRYZIWEC",
        "colab_type": "code",
        "colab": {}
      },
      "source": [
        "plt.style.use('seaborn-bright')"
      ],
      "execution_count": 0,
      "outputs": []
    },
    {
      "cell_type": "markdown",
      "metadata": {
        "id": "zfRTLAa1IWEG",
        "colab_type": "text"
      },
      "source": [
        "## Import the Data"
      ]
    },
    {
      "cell_type": "code",
      "metadata": {
        "id": "qgND07PEIWEH",
        "colab_type": "code",
        "colab": {}
      },
      "source": [
        "df = pd.read_csv(\"Disease Prediction Training(2).csv\")"
      ],
      "execution_count": 0,
      "outputs": []
    },
    {
      "cell_type": "code",
      "metadata": {
        "id": "uYMRLR7fIWET",
        "colab_type": "code",
        "colab": {}
      },
      "source": [
        "df_testing = pd.read_csv(\"Disease Prediction Testing(2).csv\")"
      ],
      "execution_count": 0,
      "outputs": []
    },
    {
      "cell_type": "markdown",
      "metadata": {
        "id": "3tL9bfyIIWEY",
        "colab_type": "text"
      },
      "source": [
        "# Data Preparation"
      ]
    },
    {
      "cell_type": "markdown",
      "metadata": {
        "id": "D59VjvquIWEZ",
        "colab_type": "text"
      },
      "source": [
        "**Let's start of by adding the attribute body mass index(BMI) to the dataset. BMI can be calculated from height and weight using the formula:**\n",
        "\n",
        "$$ w / h^2$$\n",
        "\n",
        "**Where w is in kilograms and h is in metres. We can see further down that the new attribute has a relatively strong correlation with the target variable**"
      ]
    },
    {
      "cell_type": "code",
      "metadata": {
        "id": "-1gpWz58IWEa",
        "colab_type": "code",
        "colab": {}
      },
      "source": [
        "df['BMI'] = df['Weight']/((df['Height']/100)**2)"
      ],
      "execution_count": 0,
      "outputs": []
    },
    {
      "cell_type": "code",
      "metadata": {
        "id": "3eRNSwX-IWEd",
        "colab_type": "code",
        "colab": {}
      },
      "source": [
        "df_testing['BMI'] = df_testing['Weight']/((df_testing['Height']/100)**2)"
      ],
      "execution_count": 0,
      "outputs": []
    },
    {
      "cell_type": "markdown",
      "metadata": {
        "id": "pMp2APusIWEk",
        "colab_type": "text"
      },
      "source": [
        "## Exploratory Data Analysis"
      ]
    },
    {
      "cell_type": "code",
      "metadata": {
        "id": "NU3_iKkWIWEk",
        "colab_type": "code",
        "outputId": "1f8e913e-f57e-4ce7-c9ff-2a1860a3cf25",
        "colab": {
          "base_uri": "https://localhost:8080/",
          "height": 195
        }
      },
      "source": [
        "df.head()"
      ],
      "execution_count": 7,
      "outputs": [
        {
          "output_type": "execute_result",
          "data": {
            "text/html": [
              "<div>\n",
              "<style scoped>\n",
              "    .dataframe tbody tr th:only-of-type {\n",
              "        vertical-align: middle;\n",
              "    }\n",
              "\n",
              "    .dataframe tbody tr th {\n",
              "        vertical-align: top;\n",
              "    }\n",
              "\n",
              "    .dataframe thead th {\n",
              "        text-align: right;\n",
              "    }\n",
              "</style>\n",
              "<table border=\"1\" class=\"dataframe\">\n",
              "  <thead>\n",
              "    <tr style=\"text-align: right;\">\n",
              "      <th></th>\n",
              "      <th>Age</th>\n",
              "      <th>Gender</th>\n",
              "      <th>Height</th>\n",
              "      <th>Weight</th>\n",
              "      <th>High Blood Pressure</th>\n",
              "      <th>Low Blood Pressure</th>\n",
              "      <th>Cholesterol</th>\n",
              "      <th>Glucose</th>\n",
              "      <th>Smoke</th>\n",
              "      <th>Alcohol</th>\n",
              "      <th>Exercise</th>\n",
              "      <th>Disease</th>\n",
              "      <th>BMI</th>\n",
              "    </tr>\n",
              "  </thead>\n",
              "  <tbody>\n",
              "    <tr>\n",
              "      <th>0</th>\n",
              "      <td>59</td>\n",
              "      <td>female</td>\n",
              "      <td>167</td>\n",
              "      <td>88.0</td>\n",
              "      <td>130</td>\n",
              "      <td>68</td>\n",
              "      <td>normal</td>\n",
              "      <td>normal</td>\n",
              "      <td>0</td>\n",
              "      <td>0</td>\n",
              "      <td>1</td>\n",
              "      <td>0</td>\n",
              "      <td>31.553659</td>\n",
              "    </tr>\n",
              "    <tr>\n",
              "      <th>1</th>\n",
              "      <td>64</td>\n",
              "      <td>female</td>\n",
              "      <td>150</td>\n",
              "      <td>71.0</td>\n",
              "      <td>140</td>\n",
              "      <td>100</td>\n",
              "      <td>normal</td>\n",
              "      <td>normal</td>\n",
              "      <td>0</td>\n",
              "      <td>0</td>\n",
              "      <td>0</td>\n",
              "      <td>1</td>\n",
              "      <td>31.555556</td>\n",
              "    </tr>\n",
              "    <tr>\n",
              "      <th>2</th>\n",
              "      <td>41</td>\n",
              "      <td>female</td>\n",
              "      <td>166</td>\n",
              "      <td>83.0</td>\n",
              "      <td>100</td>\n",
              "      <td>70</td>\n",
              "      <td>normal</td>\n",
              "      <td>normal</td>\n",
              "      <td>0</td>\n",
              "      <td>1</td>\n",
              "      <td>1</td>\n",
              "      <td>0</td>\n",
              "      <td>30.120482</td>\n",
              "    </tr>\n",
              "    <tr>\n",
              "      <th>3</th>\n",
              "      <td>50</td>\n",
              "      <td>male</td>\n",
              "      <td>172</td>\n",
              "      <td>110.0</td>\n",
              "      <td>130</td>\n",
              "      <td>80</td>\n",
              "      <td>normal</td>\n",
              "      <td>normal</td>\n",
              "      <td>1</td>\n",
              "      <td>0</td>\n",
              "      <td>1</td>\n",
              "      <td>0</td>\n",
              "      <td>37.182261</td>\n",
              "    </tr>\n",
              "    <tr>\n",
              "      <th>4</th>\n",
              "      <td>39</td>\n",
              "      <td>female</td>\n",
              "      <td>162</td>\n",
              "      <td>61.0</td>\n",
              "      <td>110</td>\n",
              "      <td>80</td>\n",
              "      <td>high</td>\n",
              "      <td>high</td>\n",
              "      <td>0</td>\n",
              "      <td>0</td>\n",
              "      <td>1</td>\n",
              "      <td>0</td>\n",
              "      <td>23.243408</td>\n",
              "    </tr>\n",
              "  </tbody>\n",
              "</table>\n",
              "</div>"
            ],
            "text/plain": [
              "   Age  Gender  Height  Weight  ...  Alcohol  Exercise Disease        BMI\n",
              "0   59  female     167    88.0  ...        0         1       0  31.553659\n",
              "1   64  female     150    71.0  ...        0         0       1  31.555556\n",
              "2   41  female     166    83.0  ...        1         1       0  30.120482\n",
              "3   50    male     172   110.0  ...        0         1       0  37.182261\n",
              "4   39  female     162    61.0  ...        0         1       0  23.243408\n",
              "\n",
              "[5 rows x 13 columns]"
            ]
          },
          "metadata": {
            "tags": []
          },
          "execution_count": 7
        }
      ]
    },
    {
      "cell_type": "code",
      "metadata": {
        "id": "Gel-MlEDIWEo",
        "colab_type": "code",
        "outputId": "4a204465-cc4a-4a30-c625-000b933f64cc",
        "colab": {
          "base_uri": "https://localhost:8080/",
          "height": 301
        }
      },
      "source": [
        "df.describe()"
      ],
      "execution_count": 8,
      "outputs": [
        {
          "output_type": "execute_result",
          "data": {
            "text/html": [
              "<div>\n",
              "<style scoped>\n",
              "    .dataframe tbody tr th:only-of-type {\n",
              "        vertical-align: middle;\n",
              "    }\n",
              "\n",
              "    .dataframe tbody tr th {\n",
              "        vertical-align: top;\n",
              "    }\n",
              "\n",
              "    .dataframe thead th {\n",
              "        text-align: right;\n",
              "    }\n",
              "</style>\n",
              "<table border=\"1\" class=\"dataframe\">\n",
              "  <thead>\n",
              "    <tr style=\"text-align: right;\">\n",
              "      <th></th>\n",
              "      <th>Age</th>\n",
              "      <th>Height</th>\n",
              "      <th>Weight</th>\n",
              "      <th>High Blood Pressure</th>\n",
              "      <th>Low Blood Pressure</th>\n",
              "      <th>Smoke</th>\n",
              "      <th>Alcohol</th>\n",
              "      <th>Exercise</th>\n",
              "      <th>Disease</th>\n",
              "      <th>BMI</th>\n",
              "    </tr>\n",
              "  </thead>\n",
              "  <tbody>\n",
              "    <tr>\n",
              "      <th>count</th>\n",
              "      <td>49000.000000</td>\n",
              "      <td>49000.000000</td>\n",
              "      <td>49000.000000</td>\n",
              "      <td>49000.000000</td>\n",
              "      <td>49000.000000</td>\n",
              "      <td>49000.000000</td>\n",
              "      <td>49000.000000</td>\n",
              "      <td>49000.000000</td>\n",
              "      <td>49000.000000</td>\n",
              "      <td>49000.000000</td>\n",
              "    </tr>\n",
              "    <tr>\n",
              "      <th>mean</th>\n",
              "      <td>52.853306</td>\n",
              "      <td>164.366878</td>\n",
              "      <td>74.190527</td>\n",
              "      <td>128.698939</td>\n",
              "      <td>96.917367</td>\n",
              "      <td>0.088265</td>\n",
              "      <td>0.054245</td>\n",
              "      <td>0.803204</td>\n",
              "      <td>0.499959</td>\n",
              "      <td>27.550049</td>\n",
              "    </tr>\n",
              "    <tr>\n",
              "      <th>std</th>\n",
              "      <td>6.763065</td>\n",
              "      <td>8.216637</td>\n",
              "      <td>14.329934</td>\n",
              "      <td>147.624582</td>\n",
              "      <td>200.368069</td>\n",
              "      <td>0.283683</td>\n",
              "      <td>0.226503</td>\n",
              "      <td>0.397581</td>\n",
              "      <td>0.500005</td>\n",
              "      <td>6.067360</td>\n",
              "    </tr>\n",
              "    <tr>\n",
              "      <th>min</th>\n",
              "      <td>29.000000</td>\n",
              "      <td>55.000000</td>\n",
              "      <td>10.000000</td>\n",
              "      <td>-150.000000</td>\n",
              "      <td>0.000000</td>\n",
              "      <td>0.000000</td>\n",
              "      <td>0.000000</td>\n",
              "      <td>0.000000</td>\n",
              "      <td>0.000000</td>\n",
              "      <td>3.471784</td>\n",
              "    </tr>\n",
              "    <tr>\n",
              "      <th>25%</th>\n",
              "      <td>48.000000</td>\n",
              "      <td>159.000000</td>\n",
              "      <td>65.000000</td>\n",
              "      <td>120.000000</td>\n",
              "      <td>80.000000</td>\n",
              "      <td>0.000000</td>\n",
              "      <td>0.000000</td>\n",
              "      <td>1.000000</td>\n",
              "      <td>0.000000</td>\n",
              "      <td>23.875115</td>\n",
              "    </tr>\n",
              "    <tr>\n",
              "      <th>50%</th>\n",
              "      <td>53.000000</td>\n",
              "      <td>165.000000</td>\n",
              "      <td>72.000000</td>\n",
              "      <td>120.000000</td>\n",
              "      <td>80.000000</td>\n",
              "      <td>0.000000</td>\n",
              "      <td>0.000000</td>\n",
              "      <td>1.000000</td>\n",
              "      <td>0.000000</td>\n",
              "      <td>26.397977</td>\n",
              "    </tr>\n",
              "    <tr>\n",
              "      <th>75%</th>\n",
              "      <td>58.000000</td>\n",
              "      <td>170.000000</td>\n",
              "      <td>82.000000</td>\n",
              "      <td>140.000000</td>\n",
              "      <td>90.000000</td>\n",
              "      <td>0.000000</td>\n",
              "      <td>0.000000</td>\n",
              "      <td>1.000000</td>\n",
              "      <td>1.000000</td>\n",
              "      <td>30.163746</td>\n",
              "    </tr>\n",
              "    <tr>\n",
              "      <th>max</th>\n",
              "      <td>64.000000</td>\n",
              "      <td>207.000000</td>\n",
              "      <td>200.000000</td>\n",
              "      <td>14020.000000</td>\n",
              "      <td>11000.000000</td>\n",
              "      <td>1.000000</td>\n",
              "      <td>1.000000</td>\n",
              "      <td>1.000000</td>\n",
              "      <td>1.000000</td>\n",
              "      <td>298.666667</td>\n",
              "    </tr>\n",
              "  </tbody>\n",
              "</table>\n",
              "</div>"
            ],
            "text/plain": [
              "                Age        Height  ...       Disease           BMI\n",
              "count  49000.000000  49000.000000  ...  49000.000000  49000.000000\n",
              "mean      52.853306    164.366878  ...      0.499959     27.550049\n",
              "std        6.763065      8.216637  ...      0.500005      6.067360\n",
              "min       29.000000     55.000000  ...      0.000000      3.471784\n",
              "25%       48.000000    159.000000  ...      0.000000     23.875115\n",
              "50%       53.000000    165.000000  ...      0.000000     26.397977\n",
              "75%       58.000000    170.000000  ...      1.000000     30.163746\n",
              "max       64.000000    207.000000  ...      1.000000    298.666667\n",
              "\n",
              "[8 rows x 10 columns]"
            ]
          },
          "metadata": {
            "tags": []
          },
          "execution_count": 8
        }
      ]
    },
    {
      "cell_type": "code",
      "metadata": {
        "id": "mPYFW-8MIWEr",
        "colab_type": "code",
        "outputId": "362852e8-6412-4c42-dfb3-126c6351823e",
        "colab": {
          "base_uri": "https://localhost:8080/",
          "height": 343
        }
      },
      "source": [
        "df.corr()"
      ],
      "execution_count": 9,
      "outputs": [
        {
          "output_type": "execute_result",
          "data": {
            "text/html": [
              "<div>\n",
              "<style scoped>\n",
              "    .dataframe tbody tr th:only-of-type {\n",
              "        vertical-align: middle;\n",
              "    }\n",
              "\n",
              "    .dataframe tbody tr th {\n",
              "        vertical-align: top;\n",
              "    }\n",
              "\n",
              "    .dataframe thead th {\n",
              "        text-align: right;\n",
              "    }\n",
              "</style>\n",
              "<table border=\"1\" class=\"dataframe\">\n",
              "  <thead>\n",
              "    <tr style=\"text-align: right;\">\n",
              "      <th></th>\n",
              "      <th>Age</th>\n",
              "      <th>Height</th>\n",
              "      <th>Weight</th>\n",
              "      <th>High Blood Pressure</th>\n",
              "      <th>Low Blood Pressure</th>\n",
              "      <th>Smoke</th>\n",
              "      <th>Alcohol</th>\n",
              "      <th>Exercise</th>\n",
              "      <th>Disease</th>\n",
              "      <th>BMI</th>\n",
              "    </tr>\n",
              "  </thead>\n",
              "  <tbody>\n",
              "    <tr>\n",
              "      <th>Age</th>\n",
              "      <td>1.000000</td>\n",
              "      <td>-0.077621</td>\n",
              "      <td>0.054611</td>\n",
              "      <td>0.024186</td>\n",
              "      <td>0.015983</td>\n",
              "      <td>-0.050065</td>\n",
              "      <td>-0.028419</td>\n",
              "      <td>-0.011579</td>\n",
              "      <td>0.239784</td>\n",
              "      <td>0.086350</td>\n",
              "    </tr>\n",
              "    <tr>\n",
              "      <th>Height</th>\n",
              "      <td>-0.077621</td>\n",
              "      <td>1.000000</td>\n",
              "      <td>0.291676</td>\n",
              "      <td>0.002917</td>\n",
              "      <td>0.005524</td>\n",
              "      <td>0.186391</td>\n",
              "      <td>0.093549</td>\n",
              "      <td>-0.007061</td>\n",
              "      <td>-0.011022</td>\n",
              "      <td>-0.296359</td>\n",
              "    </tr>\n",
              "    <tr>\n",
              "      <th>Weight</th>\n",
              "      <td>0.054611</td>\n",
              "      <td>0.291676</td>\n",
              "      <td>1.000000</td>\n",
              "      <td>0.031973</td>\n",
              "      <td>0.041933</td>\n",
              "      <td>0.063138</td>\n",
              "      <td>0.061883</td>\n",
              "      <td>-0.017145</td>\n",
              "      <td>0.181836</td>\n",
              "      <td>0.756235</td>\n",
              "    </tr>\n",
              "    <tr>\n",
              "      <th>High Blood Pressure</th>\n",
              "      <td>0.024186</td>\n",
              "      <td>0.002917</td>\n",
              "      <td>0.031973</td>\n",
              "      <td>1.000000</td>\n",
              "      <td>0.016065</td>\n",
              "      <td>-0.000820</td>\n",
              "      <td>0.001555</td>\n",
              "      <td>0.002153</td>\n",
              "      <td>0.053667</td>\n",
              "      <td>0.027014</td>\n",
              "    </tr>\n",
              "    <tr>\n",
              "      <th>Low Blood Pressure</th>\n",
              "      <td>0.015983</td>\n",
              "      <td>0.005524</td>\n",
              "      <td>0.041933</td>\n",
              "      <td>0.016065</td>\n",
              "      <td>1.000000</td>\n",
              "      <td>0.005267</td>\n",
              "      <td>0.012807</td>\n",
              "      <td>0.002568</td>\n",
              "      <td>0.060944</td>\n",
              "      <td>0.033772</td>\n",
              "    </tr>\n",
              "    <tr>\n",
              "      <th>Smoke</th>\n",
              "      <td>-0.050065</td>\n",
              "      <td>0.186391</td>\n",
              "      <td>0.063138</td>\n",
              "      <td>-0.000820</td>\n",
              "      <td>0.005267</td>\n",
              "      <td>1.000000</td>\n",
              "      <td>0.337435</td>\n",
              "      <td>0.026082</td>\n",
              "      <td>-0.014579</td>\n",
              "      <td>-0.031568</td>\n",
              "    </tr>\n",
              "    <tr>\n",
              "      <th>Alcohol</th>\n",
              "      <td>-0.028419</td>\n",
              "      <td>0.093549</td>\n",
              "      <td>0.061883</td>\n",
              "      <td>0.001555</td>\n",
              "      <td>0.012807</td>\n",
              "      <td>0.337435</td>\n",
              "      <td>1.000000</td>\n",
              "      <td>0.026081</td>\n",
              "      <td>-0.004486</td>\n",
              "      <td>0.008615</td>\n",
              "    </tr>\n",
              "    <tr>\n",
              "      <th>Exercise</th>\n",
              "      <td>-0.011579</td>\n",
              "      <td>-0.007061</td>\n",
              "      <td>-0.017145</td>\n",
              "      <td>0.002153</td>\n",
              "      <td>0.002568</td>\n",
              "      <td>0.026082</td>\n",
              "      <td>0.026081</td>\n",
              "      <td>1.000000</td>\n",
              "      <td>-0.035202</td>\n",
              "      <td>-0.014548</td>\n",
              "    </tr>\n",
              "    <tr>\n",
              "      <th>Disease</th>\n",
              "      <td>0.239784</td>\n",
              "      <td>-0.011022</td>\n",
              "      <td>0.181836</td>\n",
              "      <td>0.053667</td>\n",
              "      <td>0.060944</td>\n",
              "      <td>-0.014579</td>\n",
              "      <td>-0.004486</td>\n",
              "      <td>-0.035202</td>\n",
              "      <td>1.000000</td>\n",
              "      <td>0.165530</td>\n",
              "    </tr>\n",
              "    <tr>\n",
              "      <th>BMI</th>\n",
              "      <td>0.086350</td>\n",
              "      <td>-0.296359</td>\n",
              "      <td>0.756235</td>\n",
              "      <td>0.027014</td>\n",
              "      <td>0.033772</td>\n",
              "      <td>-0.031568</td>\n",
              "      <td>0.008615</td>\n",
              "      <td>-0.014548</td>\n",
              "      <td>0.165530</td>\n",
              "      <td>1.000000</td>\n",
              "    </tr>\n",
              "  </tbody>\n",
              "</table>\n",
              "</div>"
            ],
            "text/plain": [
              "                          Age    Height    Weight  ...  Exercise   Disease       BMI\n",
              "Age                  1.000000 -0.077621  0.054611  ... -0.011579  0.239784  0.086350\n",
              "Height              -0.077621  1.000000  0.291676  ... -0.007061 -0.011022 -0.296359\n",
              "Weight               0.054611  0.291676  1.000000  ... -0.017145  0.181836  0.756235\n",
              "High Blood Pressure  0.024186  0.002917  0.031973  ...  0.002153  0.053667  0.027014\n",
              "Low Blood Pressure   0.015983  0.005524  0.041933  ...  0.002568  0.060944  0.033772\n",
              "Smoke               -0.050065  0.186391  0.063138  ...  0.026082 -0.014579 -0.031568\n",
              "Alcohol             -0.028419  0.093549  0.061883  ...  0.026081 -0.004486  0.008615\n",
              "Exercise            -0.011579 -0.007061 -0.017145  ...  1.000000 -0.035202 -0.014548\n",
              "Disease              0.239784 -0.011022  0.181836  ... -0.035202  1.000000  0.165530\n",
              "BMI                  0.086350 -0.296359  0.756235  ... -0.014548  0.165530  1.000000\n",
              "\n",
              "[10 rows x 10 columns]"
            ]
          },
          "metadata": {
            "tags": []
          },
          "execution_count": 9
        }
      ]
    },
    {
      "cell_type": "code",
      "metadata": {
        "id": "ne92G6joIWEu",
        "colab_type": "code",
        "outputId": "f829e841-57dc-4a6b-efd5-6464b256f4c1",
        "colab": {
          "base_uri": "https://localhost:8080/",
          "height": 34
        }
      },
      "source": [
        "df.shape"
      ],
      "execution_count": 10,
      "outputs": [
        {
          "output_type": "execute_result",
          "data": {
            "text/plain": [
              "(49000, 13)"
            ]
          },
          "metadata": {
            "tags": []
          },
          "execution_count": 10
        }
      ]
    },
    {
      "cell_type": "markdown",
      "metadata": {
        "id": "O2S8_-c4IWE1",
        "colab_type": "text"
      },
      "source": [
        "### Search for missing values\n",
        "\n",
        "**The dataset contains no missing values**"
      ]
    },
    {
      "cell_type": "code",
      "metadata": {
        "id": "9AqFN1zCIWE1",
        "colab_type": "code",
        "outputId": "ac5b4761-a9c8-4ff9-c03e-4f550d41e7eb",
        "colab": {
          "base_uri": "https://localhost:8080/",
          "height": 0
        }
      },
      "source": [
        "mn.matrix(df)\n",
        "plt.show()"
      ],
      "execution_count": 11,
      "outputs": [
        {
          "output_type": "display_data",
          "data": {
            "image/png": "[encoded data removed]",
            "text/plain": [
              "<Figure size 1800x720 with 2 Axes>"
            ]
          },
          "metadata": {
            "tags": [],
            "needs_background": "light"
          }
        }
      ]
    },
    {
      "cell_type": "code",
      "metadata": {
        "id": "W3JAbR0mIWE4",
        "colab_type": "code",
        "outputId": "f945d09c-3458-46e7-bbcd-92fec86c485a",
        "colab": {
          "base_uri": "https://localhost:8080/",
          "height": 0
        }
      },
      "source": [
        "df.isna().sum().sum()"
      ],
      "execution_count": 12,
      "outputs": [
        {
          "output_type": "execute_result",
          "data": {
            "text/plain": [
              "0"
            ]
          },
          "metadata": {
            "tags": []
          },
          "execution_count": 12
        }
      ]
    },
    {
      "cell_type": "markdown",
      "metadata": {
        "id": "hVL2P4xxIWE6",
        "colab_type": "text"
      },
      "source": [
        "### Let's Visualize the data"
      ]
    },
    {
      "cell_type": "code",
      "metadata": {
        "id": "lcvJssFeIWE7",
        "colab_type": "code",
        "colab": {}
      },
      "source": [
        "def plot_dist_grid(row,col,cols):\n",
        "    \n",
        "    fig, axes = plt.subplots(nrows=row, ncols=col, figsize=(12,10))\n",
        "    i = 0\n",
        "    for ax in axes.flatten():\n",
        "        sns.distplot(df[cols[i]],ax= ax,kde = False)\n",
        "        i += 1\n",
        "    \n",
        "    # Display the figure object    \n",
        "    fig\n",
        "    plt.tight_layout()"
      ],
      "execution_count": 0,
      "outputs": []
    },
    {
      "cell_type": "code",
      "metadata": {
        "id": "1K6T3VYCIWE-",
        "colab_type": "code",
        "colab": {}
      },
      "source": [
        "def plot_count_grid(row,col,cols):\n",
        "    \n",
        "    fig, axes = plt.subplots(nrows=row, ncols=col, figsize=(12,10))\n",
        "    i = 0\n",
        "    for ax in axes.flatten():\n",
        "        sns.countplot(x = cols[i],ax= ax,data = df)\n",
        "        i += 1\n",
        "    \n",
        "    # Display the figure object    \n",
        "    fig\n",
        "    plt.tight_layout()"
      ],
      "execution_count": 0,
      "outputs": []
    },
    {
      "cell_type": "code",
      "metadata": {
        "id": "Cp4ak6UJIWFA",
        "colab_type": "code",
        "outputId": "9cd86d4c-9cd8-4332-87e1-9ffeadac76cb",
        "colab": {
          "base_uri": "https://localhost:8080/",
          "height": 0
        }
      },
      "source": [
        "plot_dist_grid(3,2,['Age','Height','Weight','BMI','High Blood Pressure','Low Blood Pressure'])"
      ],
      "execution_count": 15,
      "outputs": [
        {
          "output_type": "display_data",
          "data": {
            "image/png": "[encoded data removed]",
            "text/plain": [
              "<Figure size 864x720 with 6 Axes>"
            ]
          },
          "metadata": {
            "tags": [],
            "needs_background": "light"
          }
        }
      ]
    },
    {
      "cell_type": "code",
      "metadata": {
        "id": "WCpkGHiEIWFD",
        "colab_type": "code",
        "outputId": "d3dfa17b-841f-4d08-ae41-d02b04e56a7c",
        "colab": {
          "base_uri": "https://localhost:8080/",
          "height": 0
        }
      },
      "source": [
        "plot_count_grid(3,2,['Gender','Cholesterol','Glucose','Smoke','Alcohol','Exercise'])"
      ],
      "execution_count": 16,
      "outputs": [
        {
          "output_type": "display_data",
          "data": {
            "image/png": "[encoded data removed]",
            "text/plain": [
              "<Figure size 864x720 with 6 Axes>"
            ]
          },
          "metadata": {
            "tags": [],
            "needs_background": "light"
          }
        }
      ]
    },
    {
      "cell_type": "code",
      "metadata": {
        "id": "62oru2QiIWFI",
        "colab_type": "code",
        "outputId": "328a96a9-7527-4cb1-b244-ea999151ab32",
        "colab": {
          "base_uri": "https://localhost:8080/",
          "height": 0
        }
      },
      "source": [
        "sns.countplot('Disease',data = df)"
      ],
      "execution_count": 17,
      "outputs": [
        {
          "output_type": "execute_result",
          "data": {
            "text/plain": [
              "<matplotlib.axes._subplots.AxesSubplot at 0x7f8a86d58518>"
            ]
          },
          "metadata": {
            "tags": []
          },
          "execution_count": 17
        },
        {
          "output_type": "display_data",
          "data": {
            "image/png": "[encoded data removed]",
            "text/plain": [
              "<Figure size 432x288 with 1 Axes>"
            ]
          },
          "metadata": {
            "tags": [],
            "needs_background": "light"
          }
        }
      ]
    },
    {
      "cell_type": "markdown",
      "metadata": {
        "id": "C7r3QFEZIWFL",
        "colab_type": "text"
      },
      "source": [
        "### Handling Outliers\n",
        "\n",
        "**Some attributes like Low Blood Pressure, High Blood Pressure and BMI contain outliers. We deal with this by winsorizing these attributes. The value to which the outliers are winsorized is based on domain knowledge. Additionally, some attributes like High Blood Pressure and low Blood Pressure contain negative values which don't make sense, these values will also be handled by this process.**"
      ]
    },
    {
      "cell_type": "code",
      "metadata": {
        "id": "gOImDjP9IWFL",
        "colab_type": "code",
        "colab": {}
      },
      "source": [
        "def winsorize(data,column,upper,lower):\n",
        "    for j, val in enumerate(column):\n",
        "        Q1 = np.quantile(data[val],0.25)\n",
        "        Q3 = np.quantile(data[val],0.75)\n",
        "        IQR = Q3-Q1\n",
        "\n",
        "        upper_bound = Q3 + (1.5 * IQR)\n",
        "        lower_bound = Q1 - (1.5 * IQR)\n",
        "\n",
        "        high_outliers = data[val][data[val] > upper_bound]\n",
        "        low_outliers  = data[val][data[val] < lower_bound]\n",
        "\n",
        "        upper_value = np.quantile(data[val],upper[j])\n",
        "        lower_value = np.quantile(data[val],lower[j])\n",
        "\n",
        "        for i in high_outliers.index:\n",
        "            data.at[i,val] = upper_value\n",
        "\n",
        "        for i in low_outliers.index:\n",
        "            data.at[i,val] = lower_value\n",
        "    \n",
        "    return data"
      ],
      "execution_count": 0,
      "outputs": []
    },
    {
      "cell_type": "code",
      "metadata": {
        "id": "J7goMRcRIWFN",
        "colab_type": "code",
        "colab": {}
      },
      "source": [
        "df = winsorize(df,['Low Blood Pressure','High Blood Pressure','BMI'],[0.986,0.998,0.97],[0.01,0.01,0.001])"
      ],
      "execution_count": 0,
      "outputs": []
    },
    {
      "cell_type": "code",
      "metadata": {
        "id": "DyLMJztwIWFP",
        "colab_type": "code",
        "colab": {}
      },
      "source": [
        "df_testing = winsorize(df_testing,['Low Blood Pressure','High Blood Pressure','BMI'],[0.9855,0.998,0.97],[0.01,0.01,0.001])"
      ],
      "execution_count": 0,
      "outputs": []
    },
    {
      "cell_type": "markdown",
      "metadata": {
        "id": "VyDZ8XdHIWFT",
        "colab_type": "text"
      },
      "source": [
        "**We find that the value of low blood pressure is higher than high blood pressure in some of the rows. We handle this by reversing the values**"
      ]
    },
    {
      "cell_type": "code",
      "metadata": {
        "id": "TP4kfQkUIWFT",
        "colab_type": "code",
        "colab": {}
      },
      "source": [
        "ind = df[df['Low Blood Pressure'] > df['High Blood Pressure']].index\n",
        "high = df['High Blood Pressure'].iloc[ind]\n",
        "low  = df['Low Blood Pressure'].iloc[ind]\n",
        "for i in ind:\n",
        "    df.at[i,'High Blood Pressure'] = df['Low Blood Pressure'].iloc[i]\n",
        "    df.at[i,'Low Blood Pressure']  = df['High Blood Pressure'].iloc[i]"
      ],
      "execution_count": 0,
      "outputs": []
    },
    {
      "cell_type": "code",
      "metadata": {
        "id": "Hh8KRncpIWFV",
        "colab_type": "code",
        "colab": {}
      },
      "source": [
        "ind = df_testing[df_testing['Low Blood Pressure'] > df_testing['High Blood Pressure']].index\n",
        "high = df_testing['High Blood Pressure'].iloc[ind]\n",
        "low  = df_testing['Low Blood Pressure'].iloc[ind]\n",
        "for i in ind:\n",
        "    df_testing.at[i,'High Blood Pressure'] = df_testing['Low Blood Pressure'].iloc[i]\n",
        "    df_testing.at[i,'Low Blood Pressure']  = df_testing['High Blood Pressure'].iloc[i]"
      ],
      "execution_count": 0,
      "outputs": []
    },
    {
      "cell_type": "markdown",
      "metadata": {
        "id": "o_SwVN32IWFY",
        "colab_type": "text"
      },
      "source": [
        "### Handle Duplicates\n",
        "\n",
        "**The dataset contains some duplicate values. These can be dropped**"
      ]
    },
    {
      "cell_type": "code",
      "metadata": {
        "id": "x346Y4DYIWFY",
        "colab_type": "code",
        "outputId": "796eb864-0639-4301-d13f-8ad900a50fff",
        "colab": {
          "base_uri": "https://localhost:8080/",
          "height": 0
        }
      },
      "source": [
        "df[df.duplicated()].head()"
      ],
      "execution_count": 23,
      "outputs": [
        {
          "output_type": "execute_result",
          "data": {
            "text/html": [
              "<div>\n",
              "<style scoped>\n",
              "    .dataframe tbody tr th:only-of-type {\n",
              "        vertical-align: middle;\n",
              "    }\n",
              "\n",
              "    .dataframe tbody tr th {\n",
              "        vertical-align: top;\n",
              "    }\n",
              "\n",
              "    .dataframe thead th {\n",
              "        text-align: right;\n",
              "    }\n",
              "</style>\n",
              "<table border=\"1\" class=\"dataframe\">\n",
              "  <thead>\n",
              "    <tr style=\"text-align: right;\">\n",
              "      <th></th>\n",
              "      <th>Age</th>\n",
              "      <th>Gender</th>\n",
              "      <th>Height</th>\n",
              "      <th>Weight</th>\n",
              "      <th>High Blood Pressure</th>\n",
              "      <th>Low Blood Pressure</th>\n",
              "      <th>Cholesterol</th>\n",
              "      <th>Glucose</th>\n",
              "      <th>Smoke</th>\n",
              "      <th>Alcohol</th>\n",
              "      <th>Exercise</th>\n",
              "      <th>Disease</th>\n",
              "      <th>BMI</th>\n",
              "    </tr>\n",
              "  </thead>\n",
              "  <tbody>\n",
              "    <tr>\n",
              "      <th>1278</th>\n",
              "      <td>40</td>\n",
              "      <td>female</td>\n",
              "      <td>156</td>\n",
              "      <td>65.0</td>\n",
              "      <td>110</td>\n",
              "      <td>80</td>\n",
              "      <td>normal</td>\n",
              "      <td>normal</td>\n",
              "      <td>0</td>\n",
              "      <td>0</td>\n",
              "      <td>1</td>\n",
              "      <td>0</td>\n",
              "      <td>26.709402</td>\n",
              "    </tr>\n",
              "    <tr>\n",
              "      <th>1581</th>\n",
              "      <td>56</td>\n",
              "      <td>female</td>\n",
              "      <td>160</td>\n",
              "      <td>60.0</td>\n",
              "      <td>120</td>\n",
              "      <td>80</td>\n",
              "      <td>normal</td>\n",
              "      <td>normal</td>\n",
              "      <td>0</td>\n",
              "      <td>0</td>\n",
              "      <td>1</td>\n",
              "      <td>1</td>\n",
              "      <td>23.437500</td>\n",
              "    </tr>\n",
              "    <tr>\n",
              "      <th>1901</th>\n",
              "      <td>54</td>\n",
              "      <td>female</td>\n",
              "      <td>170</td>\n",
              "      <td>80.0</td>\n",
              "      <td>120</td>\n",
              "      <td>80</td>\n",
              "      <td>normal</td>\n",
              "      <td>normal</td>\n",
              "      <td>0</td>\n",
              "      <td>0</td>\n",
              "      <td>1</td>\n",
              "      <td>0</td>\n",
              "      <td>27.681661</td>\n",
              "    </tr>\n",
              "    <tr>\n",
              "      <th>2412</th>\n",
              "      <td>41</td>\n",
              "      <td>female</td>\n",
              "      <td>162</td>\n",
              "      <td>65.0</td>\n",
              "      <td>110</td>\n",
              "      <td>70</td>\n",
              "      <td>normal</td>\n",
              "      <td>normal</td>\n",
              "      <td>0</td>\n",
              "      <td>0</td>\n",
              "      <td>1</td>\n",
              "      <td>0</td>\n",
              "      <td>24.767566</td>\n",
              "    </tr>\n",
              "    <tr>\n",
              "      <th>3027</th>\n",
              "      <td>56</td>\n",
              "      <td>female</td>\n",
              "      <td>169</td>\n",
              "      <td>70.0</td>\n",
              "      <td>120</td>\n",
              "      <td>80</td>\n",
              "      <td>normal</td>\n",
              "      <td>normal</td>\n",
              "      <td>0</td>\n",
              "      <td>0</td>\n",
              "      <td>1</td>\n",
              "      <td>0</td>\n",
              "      <td>24.508946</td>\n",
              "    </tr>\n",
              "  </tbody>\n",
              "</table>\n",
              "</div>"
            ],
            "text/plain": [
              "      Age  Gender  Height  Weight  ...  Alcohol  Exercise Disease        BMI\n",
              "1278   40  female     156    65.0  ...        0         1       0  26.709402\n",
              "1581   56  female     160    60.0  ...        0         1       1  23.437500\n",
              "1901   54  female     170    80.0  ...        0         1       0  27.681661\n",
              "2412   41  female     162    65.0  ...        0         1       0  24.767566\n",
              "3027   56  female     169    70.0  ...        0         1       0  24.508946\n",
              "\n",
              "[5 rows x 13 columns]"
            ]
          },
          "metadata": {
            "tags": []
          },
          "execution_count": 23
        }
      ]
    },
    {
      "cell_type": "code",
      "metadata": {
        "id": "yo3wC6Q1IWFd",
        "colab_type": "code",
        "colab": {}
      },
      "source": [
        "df.drop_duplicates(inplace=True)"
      ],
      "execution_count": 0,
      "outputs": []
    },
    {
      "cell_type": "code",
      "metadata": {
        "id": "1_ZHRZ9iIWFg",
        "colab_type": "code",
        "colab": {}
      },
      "source": [
        "df_testing.drop_duplicates(inplace=True)"
      ],
      "execution_count": 0,
      "outputs": []
    },
    {
      "cell_type": "markdown",
      "metadata": {
        "id": "Yvj5Gw1qIWFl",
        "colab_type": "text"
      },
      "source": [
        "### One hot encoding\n",
        "\n",
        "**Certain algorithms cannot have categorical variables. In order to deal with this we create dummy variables**"
      ]
    },
    {
      "cell_type": "code",
      "metadata": {
        "id": "SJIUKFgWIWFm",
        "colab_type": "code",
        "colab": {}
      },
      "source": [
        "def create_dummies(data,col_list):\n",
        "    \n",
        "    for col_name in col_list:\n",
        "        \n",
        "        drop_first = False\n",
        "        if len(data[col_name].value_counts().index) == 2:\n",
        "            drop_first = True\n",
        "            \n",
        "        tempdf = pd.get_dummies(data[col_name],drop_first = drop_first)\n",
        "        \n",
        "        if not drop_first:\n",
        "            tempdf.columns = [col_name +'_' + str(col) for col in tempdf.columns]\n",
        "        else:\n",
        "            tempdf.columns = [col_name]\n",
        "            \n",
        "        data = data.drop(col_name,axis = 1).join(tempdf)\n",
        "        \n",
        "    return data"
      ],
      "execution_count": 0,
      "outputs": []
    },
    {
      "cell_type": "code",
      "metadata": {
        "id": "y2u6aBLqIWFp",
        "colab_type": "code",
        "colab": {}
      },
      "source": [
        "df_one_hot = create_dummies(df,['Gender','Glucose','Cholesterol'])"
      ],
      "execution_count": 0,
      "outputs": []
    },
    {
      "cell_type": "code",
      "metadata": {
        "id": "MOjz-uy_IWFt",
        "colab_type": "code",
        "colab": {}
      },
      "source": [
        "df_test_one_hot = create_dummies(df_testing,['Gender','Glucose','Cholesterol'])"
      ],
      "execution_count": 0,
      "outputs": []
    },
    {
      "cell_type": "markdown",
      "metadata": {
        "id": "lElnnpNrIWFy",
        "colab_type": "text"
      },
      "source": [
        "### Let's scale the data\n",
        "\n",
        "**Since we are running artificial neural networks, we have to scale the data**"
      ]
    },
    {
      "cell_type": "code",
      "metadata": {
        "id": "1eq-zbq9IWFz",
        "colab_type": "code",
        "colab": {}
      },
      "source": [
        "min_max_scaler = MinMaxScaler()\n",
        "np_scaled = min_max_scaler.fit_transform(df_one_hot)\n",
        "df_normalized = pd.DataFrame(np_scaled, columns=df_one_hot.columns, index=df_one_hot.index)\n",
        "\n",
        "standard_scaler = StandardScaler()\n",
        "np_scaled = standard_scaler.fit_transform(df_one_hot.drop('Disease',axis = 1))\n",
        "\n",
        "df_standardized = pd.DataFrame(np_scaled, columns=df_one_hot.drop('Disease',axis = 1).columns, index=df_one_hot.drop('Disease',axis = 1).index)\n",
        "df_standardized['Disease'] = df_one_hot['Disease']"
      ],
      "execution_count": 0,
      "outputs": []
    },
    {
      "cell_type": "code",
      "metadata": {
        "id": "UJAUFm8PIWF3",
        "colab_type": "code",
        "colab": {}
      },
      "source": [
        "min_max_scaler = MinMaxScaler()\n",
        "np_scaled = min_max_scaler.fit_transform(df_test_one_hot.drop('ID',axis = 1))\n",
        "df_test_normalized = pd.DataFrame(np_scaled, columns=df_test_one_hot.drop('ID',axis = 1).columns, index=df_test_one_hot.drop('ID',axis = 1).index)\n",
        "df_test_normalized['ID'] = df_test_one_hot['ID']\n",
        "\n",
        "standard_scaler = StandardScaler()\n",
        "np_scaled = standard_scaler.fit_transform(df_test_one_hot.drop('ID',axis = 1))\n",
        "\n",
        "df_test_standardized = pd.DataFrame(np_scaled, columns=df_test_one_hot.drop('ID',axis = 1).columns, index=df_test_one_hot.drop('ID',axis = 1).index)\n",
        "df_test_standardized['ID'] = df_test_one_hot['ID']"
      ],
      "execution_count": 0,
      "outputs": []
    },
    {
      "cell_type": "markdown",
      "metadata": {
        "id": "U51lla9jIWF7",
        "colab_type": "text"
      },
      "source": [
        "# Data Modeling\n",
        "\n",
        "**The evaluation metric to be optimized are recall and accuracy. It's important to mininimize False Negatives, since it's better to predict that the patient has the disease and have that be false than to predict that they don't and have someone go undiagnosed**"
      ]
    },
    {
      "cell_type": "markdown",
      "metadata": {
        "id": "Wzq85UdMIWF7",
        "colab_type": "text"
      },
      "source": [
        "**Let's create a function to plot an ROC and calculate the AUC**"
      ]
    },
    {
      "cell_type": "code",
      "metadata": {
        "id": "KoKEk_RyIWF8",
        "colab_type": "code",
        "colab": {}
      },
      "source": [
        "def generate_roc(model,y_test,model_name):\n",
        "    # generate a no skill prediction (majority class)\n",
        "    ns_probs = [0 for _ in range(len(y_test))]\n",
        "\n",
        "    # predict probabilities\n",
        "    lr_probs = model.predict_proba(X_test)\n",
        "    # keep probabilities for the positive outcome only\n",
        "    lr_probs = lr_probs[:, 1]\n",
        "    # calculate scores\n",
        "    ns_auc = roc_auc_score(y_test, ns_probs)\n",
        "    lr_auc = roc_auc_score(y_test, lr_probs)\n",
        "    # summarize scores\n",
        "    print('No Skill: ROC AUC=%.3f' % (ns_auc))\n",
        "    print('{}: ROC AUC=%.3f'.format(model_name) % (lr_auc))\n",
        "    # calculate roc curves\n",
        "    ns_fpr, ns_tpr, _ = roc_curve(y_test, ns_probs)\n",
        "    lr_fpr, lr_tpr, _ = roc_curve(y_test, lr_probs)\n",
        "    # plot the roc curve for the model\n",
        "    plt.figure(figsize=(16,8))\n",
        "    plt.plot(ns_fpr, ns_tpr, linestyle='--', label='No Skill')\n",
        "    plt.plot(lr_fpr, lr_tpr, marker='.', label=model_name)\n",
        "    # axis labels\n",
        "    plt.xlabel('False Positive Rate')\n",
        "    plt.ylabel('True Positive Rate')\n",
        "    # show the legend\n",
        "    plt.legend()\n",
        "    # show the plot\n",
        "    plt.show()"
      ],
      "execution_count": 0,
      "outputs": []
    },
    {
      "cell_type": "code",
      "metadata": {
        "id": "3PwGCfSpg4tM",
        "colab_type": "code",
        "colab": {}
      },
      "source": [
        "def generate_ann_roc(model,y_test,model_name):\n",
        "    # generate a no skill prediction (majority class)\n",
        "    ns_probs = [0 for _ in range(len(y_test))]\n",
        "\n",
        "    # predict probabilities\n",
        "    lr_probs = np.stack(model.predict(X_test),axis =1)[0]\n",
        "\n",
        "    # calculate scores\n",
        "    ns_auc = roc_auc_score(y_test, ns_probs)\n",
        "    lr_auc = roc_auc_score(y_test, lr_probs)\n",
        "    # summarize scores\n",
        "    print('No Skill: ROC AUC=%.3f' % (ns_auc))\n",
        "    print('{}: ROC AUC=%.3f'.format(model_name) % (lr_auc))\n",
        "    # calculate roc curves\n",
        "    ns_fpr, ns_tpr, _ = roc_curve(y_test, ns_probs)\n",
        "    lr_fpr, lr_tpr, _ = roc_curve(y_test, lr_probs)\n",
        "    # plot the roc curve for the model\n",
        "    plt.figure(figsize=(16,8))\n",
        "    plt.plot(ns_fpr, ns_tpr, linestyle='--', label='No Skill')\n",
        "    plt.plot(lr_fpr, lr_tpr, marker='.', label=model_name)\n",
        "    # axis labels\n",
        "    plt.xlabel('False Positive Rate')\n",
        "    plt.ylabel('True Positive Rate')\n",
        "    # show the legend\n",
        "    plt.legend()\n",
        "    # show the plot\n",
        "    plt.show()"
      ],
      "execution_count": 0,
      "outputs": []
    },
    {
      "cell_type": "code",
      "metadata": {
        "id": "xBJfJkiyIWGA",
        "colab_type": "code",
        "colab": {}
      },
      "source": [
        "X = df_standardized.drop('Disease',axis = 1)\n",
        "y = df_standardized['Disease']"
      ],
      "execution_count": 0,
      "outputs": []
    },
    {
      "cell_type": "code",
      "metadata": {
        "id": "LNvHZCXqIWGD",
        "colab_type": "code",
        "colab": {}
      },
      "source": [
        "X_train, X_test, y_train, y_test = train_test_split(X, y, test_size=0.30, random_state=42)"
      ],
      "execution_count": 0,
      "outputs": []
    },
    {
      "cell_type": "markdown",
      "metadata": {
        "id": "yZNQI9lkIWF_",
        "colab_type": "text"
      },
      "source": [
        "## Logistic Regression\n",
        "\n",
        "**The baseline model for Logistic Regression has an accuracy of 0.73 and a recall of 0.69**"
      ]
    },
    {
      "cell_type": "code",
      "metadata": {
        "id": "nCx4RQFrIWGH",
        "colab_type": "code",
        "outputId": "c01bf3e1-3807-4fb6-99c9-bf9218ded7bc",
        "colab": {
          "base_uri": "https://localhost:8080/",
          "height": 101
        }
      },
      "source": [
        "lr = LogisticRegression()                        \n",
        "lr.fit(X_train, y_train)"
      ],
      "execution_count": 107,
      "outputs": [
        {
          "output_type": "execute_result",
          "data": {
            "text/plain": [
              "LogisticRegression(C=1.0, class_weight=None, dual=False, fit_intercept=True,\n",
              "                   intercept_scaling=1, l1_ratio=None, max_iter=100,\n",
              "                   multi_class='auto', n_jobs=None, penalty='l2',\n",
              "                   random_state=None, solver='lbfgs', tol=0.0001, verbose=0,\n",
              "                   warm_start=False)"
            ]
          },
          "metadata": {
            "tags": []
          },
          "execution_count": 107
        }
      ]
    },
    {
      "cell_type": "code",
      "metadata": {
        "id": "VRoSLQWuIWGM",
        "colab_type": "code",
        "colab": {}
      },
      "source": [
        "pred = lr.predict(X_test)"
      ],
      "execution_count": 0,
      "outputs": []
    },
    {
      "cell_type": "code",
      "metadata": {
        "id": "NUnG52fmIWGP",
        "colab_type": "code",
        "outputId": "2d7dab94-d9f6-453d-be5b-ffcc6dc7f39d",
        "colab": {
          "base_uri": "https://localhost:8080/",
          "height": 367
        }
      },
      "source": [
        "print(classification_report(y_test,pred))\n",
        "print(\"Accuracy Score: \",accuracy_score(y_test,pred))\n",
        "print(\"Recall Score: \",recall_score(y_test,pred))\n",
        "print(\"F1 Score: \",f1_score(y_test,pred))\n",
        "pd.crosstab(y_test, pred, rownames=['True'], colnames=['Predicted'], margins=True)"
      ],
      "execution_count": 109,
      "outputs": [
        {
          "output_type": "stream",
          "text": [
            "              precision    recall  f1-score   support\n",
            "\n",
            "           0       0.71      0.77      0.74      6992\n",
            "           1       0.76      0.69      0.72      7183\n",
            "\n",
            "    accuracy                           0.73     14175\n",
            "   macro avg       0.73      0.73      0.73     14175\n",
            "weighted avg       0.73      0.73      0.73     14175\n",
            "\n",
            "Accuracy Score:  0.731358024691358\n",
            "Recall Score:  0.6944173743561186\n",
            "F1 Score:  0.7237376668601276\n"
          ],
          "name": "stdout"
        },
        {
          "output_type": "execute_result",
          "data": {
            "text/html": [
              "<div>\n",
              "<style scoped>\n",
              "    .dataframe tbody tr th:only-of-type {\n",
              "        vertical-align: middle;\n",
              "    }\n",
              "\n",
              "    .dataframe tbody tr th {\n",
              "        vertical-align: top;\n",
              "    }\n",
              "\n",
              "    .dataframe thead th {\n",
              "        text-align: right;\n",
              "    }\n",
              "</style>\n",
              "<table border=\"1\" class=\"dataframe\">\n",
              "  <thead>\n",
              "    <tr style=\"text-align: right;\">\n",
              "      <th>Predicted</th>\n",
              "      <th>0</th>\n",
              "      <th>1</th>\n",
              "      <th>All</th>\n",
              "    </tr>\n",
              "    <tr>\n",
              "      <th>True</th>\n",
              "      <th></th>\n",
              "      <th></th>\n",
              "      <th></th>\n",
              "    </tr>\n",
              "  </thead>\n",
              "  <tbody>\n",
              "    <tr>\n",
              "      <th>0</th>\n",
              "      <td>5379</td>\n",
              "      <td>1613</td>\n",
              "      <td>6992</td>\n",
              "    </tr>\n",
              "    <tr>\n",
              "      <th>1</th>\n",
              "      <td>2195</td>\n",
              "      <td>4988</td>\n",
              "      <td>7183</td>\n",
              "    </tr>\n",
              "    <tr>\n",
              "      <th>All</th>\n",
              "      <td>7574</td>\n",
              "      <td>6601</td>\n",
              "      <td>14175</td>\n",
              "    </tr>\n",
              "  </tbody>\n",
              "</table>\n",
              "</div>"
            ],
            "text/plain": [
              "Predicted     0     1    All\n",
              "True                        \n",
              "0          5379  1613   6992\n",
              "1          2195  4988   7183\n",
              "All        7574  6601  14175"
            ]
          },
          "metadata": {
            "tags": []
          },
          "execution_count": 109
        }
      ]
    },
    {
      "cell_type": "markdown",
      "metadata": {
        "id": "ROdoaPkzIWGS",
        "colab_type": "text"
      },
      "source": [
        "### Optimization\n",
        "\n",
        "**The following grid search returns the hyperparameters which provide the best results with a recall of 0.71 and an accuracy of 0.73**\n",
        "\n",
        "**The hyperparameters tuned are**\n",
        "- **C: This is the inverse of regularization strength**\n",
        "- **solver: Algorithm to be used in gradient descent**\n",
        "- **max_iter: Maximum number of iteration for the solver to converge**\n",
        "- **warm_start: Determines whether the solution to the previous call will be erased or not**"
      ]
    },
    {
      "cell_type": "code",
      "metadata": {
        "id": "ZvmKqKJbIWGS",
        "colab_type": "code",
        "colab": {
          "base_uri": "https://localhost:8080/",
          "height": 638
        },
        "outputId": "dabd3763-fb89-4281-aac4-f895615adaa6"
      },
      "source": [
        "param_grid = {'C': np.logspace(-40, 40,160),\n",
        "              'solver': ['newton-cg', 'lbfgs', 'sag','saga'],\n",
        "              'max_iter': [100,400,500,800],\n",
        "              'warm_start': [True,False]\n",
        "             }\n",
        "lr_gs = GridSearchCV(LogisticRegression(penalty='l2',random_state=42), param_grid, scoring='accuracy',cv = 6,n_jobs = 2,verbose = 1)\n",
        "lr_gs.fit(X_train, y_train)"
      ],
      "execution_count": 110,
      "outputs": [
        {
          "output_type": "stream",
          "text": [
            "Fitting 6 folds for each of 5120 candidates, totalling 30720 fits\n"
          ],
          "name": "stdout"
        },
        {
          "output_type": "stream",
          "text": [
            "[Parallel(n_jobs=2)]: Using backend LokyBackend with 2 concurrent workers.\n",
            "[Parallel(n_jobs=2)]: Done 188 tasks      | elapsed:    8.1s\n",
            "[Parallel(n_jobs=2)]: Done 1388 tasks      | elapsed:   53.2s\n",
            "[Parallel(n_jobs=2)]: Done 3220 tasks      | elapsed:  2.1min\n",
            "[Parallel(n_jobs=2)]: Done 4566 tasks      | elapsed:  3.1min\n",
            "[Parallel(n_jobs=2)]: Done 6366 tasks      | elapsed:  4.2min\n",
            "[Parallel(n_jobs=2)]: Done 8018 tasks      | elapsed:  6.1min\n",
            "[Parallel(n_jobs=2)]: Done 10618 tasks      | elapsed: 10.3min\n",
            "[Parallel(n_jobs=2)]: Done 11950 tasks      | elapsed: 13.5min\n",
            "[Parallel(n_jobs=2)]: Done 13428 tasks      | elapsed: 15.6min\n",
            "[Parallel(n_jobs=2)]: Done 15328 tasks      | elapsed: 18.8min\n",
            "[Parallel(n_jobs=2)]: Done 17428 tasks      | elapsed: 23.2min\n",
            "[Parallel(n_jobs=2)]: Done 19728 tasks      | elapsed: 28.0min\n",
            "[Parallel(n_jobs=2)]: Done 22228 tasks      | elapsed: 33.2min\n",
            "[Parallel(n_jobs=2)]: Done 24928 tasks      | elapsed: 38.8min\n",
            "[Parallel(n_jobs=2)]: Done 27828 tasks      | elapsed: 44.9min\n",
            "[Parallel(n_jobs=2)]: Done 30720 out of 30720 | elapsed: 50.8min finished\n"
          ],
          "name": "stderr"
        },
        {
          "output_type": "execute_result",
          "data": {
            "text/plain": [
              "GridSearchCV(cv=6, error_score=nan,\n",
              "             estimator=LogisticRegression(C=1.0, class_weight=None, dual=False,\n",
              "                                          fit_intercept=True,\n",
              "                                          intercept_scaling=1, l1_ratio=None,\n",
              "                                          max_iter=100, multi_class='auto',\n",
              "                                          n_jobs=None, penalty='l2',\n",
              "                                          random_state=42, solver='lbfgs',\n",
              "                                          tol=0.0001, verbose=0,\n",
              "                                          warm_start=False),\n",
              "             iid='deprecated', n_jobs=2,\n",
              "             param_grid={'C': array([1.00000000e-40, 3.185258...\n",
              "       2.92017451e+34, 9.30151004e+34, 2.96277119e+35, 9.43719149e+35,\n",
              "       3.00598924e+36, 9.57485213e+36, 3.04983771e+37, 9.71452083e+37,\n",
              "       3.09432580e+38, 9.85622688e+38, 3.13946283e+39, 1.00000000e+40]),\n",
              "                         'max_iter': [100, 400, 500, 800],\n",
              "                         'solver': ['newton-cg', 'lbfgs', 'sag', 'saga'],\n",
              "                         'warm_start': [True, False]},\n",
              "             pre_dispatch='2*n_jobs', refit=True, return_train_score=False,\n",
              "             scoring='accuracy', verbose=1)"
            ]
          },
          "metadata": {
            "tags": []
          },
          "execution_count": 110
        }
      ]
    },
    {
      "cell_type": "code",
      "metadata": {
        "id": "gso5G6wcIWGW",
        "colab_type": "code",
        "colab": {
          "base_uri": "https://localhost:8080/",
          "height": 34
        },
        "outputId": "8a13de15-1ced-4a3e-8257-b5e4a180ba7a"
      },
      "source": [
        "print(lr_gs.best_score_)"
      ],
      "execution_count": 111,
      "outputs": [
        {
          "output_type": "stream",
          "text": [
            "0.7275721979565212\n"
          ],
          "name": "stdout"
        }
      ]
    },
    {
      "cell_type": "code",
      "metadata": {
        "id": "qRD3U0diIWGZ",
        "colab_type": "code",
        "colab": {
          "base_uri": "https://localhost:8080/",
          "height": 84
        },
        "outputId": "3efe2f30-eb48-4979-8ed3-75309f818c09"
      },
      "source": [
        "for hps, values in lr_gs.best_params_.items():\n",
        "    print(f\"{hps}: {values}\")"
      ],
      "execution_count": 112,
      "outputs": [
        {
          "output_type": "stream",
          "text": [
            "C: 0.1759069582234977\n",
            "max_iter: 100\n",
            "solver: newton-cg\n",
            "warm_start: True\n"
          ],
          "name": "stdout"
        }
      ]
    },
    {
      "cell_type": "code",
      "metadata": {
        "id": "_dX9HjB12qZ3",
        "colab_type": "code",
        "colab": {}
      },
      "source": [
        "pred = lr_gs.best_estimator_.predict(X_test)\n",
        "lr_pred = pred"
      ],
      "execution_count": 0,
      "outputs": []
    },
    {
      "cell_type": "code",
      "metadata": {
        "id": "WBcDGtXnIWGp",
        "colab_type": "code",
        "outputId": "30ff163f-976a-45d1-cb1c-e05c2ec08cb2",
        "colab": {
          "base_uri": "https://localhost:8080/",
          "height": 367
        }
      },
      "source": [
        "print(classification_report(y_test,pred))\n",
        "print(\"Accuracy Score: \",accuracy_score(y_test,pred))\n",
        "print(\"Recall Score: \",recall_score(y_test,pred))\n",
        "print(\"F1 Score: \",f1_score(y_test,pred))\n",
        "pd.crosstab(y_test, pred, rownames=['True'], colnames=['Predicted'], margins=True)"
      ],
      "execution_count": 114,
      "outputs": [
        {
          "output_type": "stream",
          "text": [
            "              precision    recall  f1-score   support\n",
            "\n",
            "           0       0.71      0.77      0.74      6992\n",
            "           1       0.76      0.69      0.72      7183\n",
            "\n",
            "    accuracy                           0.73     14175\n",
            "   macro avg       0.73      0.73      0.73     14175\n",
            "weighted avg       0.73      0.73      0.73     14175\n",
            "\n",
            "Accuracy Score:  0.7312169312169312\n",
            "Recall Score:  0.6942781567590144\n",
            "F1 Score:  0.723592571096924\n"
          ],
          "name": "stdout"
        },
        {
          "output_type": "execute_result",
          "data": {
            "text/html": [
              "<div>\n",
              "<style scoped>\n",
              "    .dataframe tbody tr th:only-of-type {\n",
              "        vertical-align: middle;\n",
              "    }\n",
              "\n",
              "    .dataframe tbody tr th {\n",
              "        vertical-align: top;\n",
              "    }\n",
              "\n",
              "    .dataframe thead th {\n",
              "        text-align: right;\n",
              "    }\n",
              "</style>\n",
              "<table border=\"1\" class=\"dataframe\">\n",
              "  <thead>\n",
              "    <tr style=\"text-align: right;\">\n",
              "      <th>Predicted</th>\n",
              "      <th>0</th>\n",
              "      <th>1</th>\n",
              "      <th>All</th>\n",
              "    </tr>\n",
              "    <tr>\n",
              "      <th>True</th>\n",
              "      <th></th>\n",
              "      <th></th>\n",
              "      <th></th>\n",
              "    </tr>\n",
              "  </thead>\n",
              "  <tbody>\n",
              "    <tr>\n",
              "      <th>0</th>\n",
              "      <td>5378</td>\n",
              "      <td>1614</td>\n",
              "      <td>6992</td>\n",
              "    </tr>\n",
              "    <tr>\n",
              "      <th>1</th>\n",
              "      <td>2196</td>\n",
              "      <td>4987</td>\n",
              "      <td>7183</td>\n",
              "    </tr>\n",
              "    <tr>\n",
              "      <th>All</th>\n",
              "      <td>7574</td>\n",
              "      <td>6601</td>\n",
              "      <td>14175</td>\n",
              "    </tr>\n",
              "  </tbody>\n",
              "</table>\n",
              "</div>"
            ],
            "text/plain": [
              "Predicted     0     1    All\n",
              "True                        \n",
              "0          5378  1614   6992\n",
              "1          2196  4987   7183\n",
              "All        7574  6601  14175"
            ]
          },
          "metadata": {
            "tags": []
          },
          "execution_count": 114
        }
      ]
    },
    {
      "cell_type": "markdown",
      "metadata": {
        "id": "fOj3E3vgIWGt",
        "colab_type": "text"
      },
      "source": [
        "### ROC Curve\n",
        "**The ROC Curve can be seen below, it has an AUC value of 0.799**"
      ]
    },
    {
      "cell_type": "code",
      "metadata": {
        "id": "77R5iRIRIWGu",
        "colab_type": "code",
        "outputId": "ff0e7409-40f5-413d-ebca-754e5d9d0aeb",
        "colab": {
          "base_uri": "https://localhost:8080/",
          "height": 530
        }
      },
      "source": [
        "generate_roc(lr_gs.best_estimator_,y_test,'Logistic Regression')"
      ],
      "execution_count": 115,
      "outputs": [
        {
          "output_type": "stream",
          "text": [
            "No Skill: ROC AUC=0.500\n",
            "Logistic Regression: ROC AUC=0.799\n"
          ],
          "name": "stdout"
        },
        {
          "output_type": "display_data",
          "data": {
            "image/png": "[encoded data removed]",
            "text/plain": [
              "<Figure size 1152x576 with 1 Axes>"
            ]
          },
          "metadata": {
            "tags": [],
            "needs_background": "light"
          }
        }
      ]
    },
    {
      "cell_type": "markdown",
      "metadata": {
        "id": "3Gmn4Kkej-Dc",
        "colab_type": "text"
      },
      "source": [
        "### Feature Importance\n",
        "\n",
        "**Scikit Learn Does not support the calculation of p-values, therefore the feature importance shown below is based on coefficients alone**"
      ]
    },
    {
      "cell_type": "code",
      "metadata": {
        "id": "9nmDD23UkBw6",
        "colab_type": "code",
        "colab": {}
      },
      "source": [
        "importances = np.absolute(lr_gs.best_estimator_.coef_[0])\n",
        "features = X_train.columns\n",
        "indices = np.argsort(importances)"
      ],
      "execution_count": 0,
      "outputs": []
    },
    {
      "cell_type": "code",
      "metadata": {
        "id": "s0l0QMjJkZv7",
        "colab_type": "code",
        "colab": {
          "base_uri": "https://localhost:8080/",
          "height": 513
        },
        "outputId": "013e4ec3-e2e8-49d4-e03a-42f875a030dc"
      },
      "source": [
        "plt.figure(figsize = (10,8))\n",
        "plt.title('Feature Importances')\n",
        "plt.barh(range(len(indices)), importances[indices], color='b', align='center')\n",
        "plt.yticks(range(len(indices)), [features[i] for i in indices])\n",
        "plt.xlabel('Relative Importance')\n",
        "plt.show()"
      ],
      "execution_count": 285,
      "outputs": [
        {
          "output_type": "display_data",
          "data": {
            "image/png": "[encoded data removed]",
            "text/plain": [
              "<Figure size 720x576 with 1 Axes>"
            ]
          },
          "metadata": {
            "tags": [],
            "needs_background": "light"
          }
        }
      ]
    },
    {
      "cell_type": "markdown",
      "metadata": {
        "id": "QzMTUlqhIWG2",
        "colab_type": "text"
      },
      "source": [
        "### Best model table\n",
        "\n",
        "**Due to a marginally higher value of Recall and accuracy, we choose the baseline model as the best model**"
      ]
    },
    {
      "cell_type": "code",
      "metadata": {
        "id": "mFnvZIVcIWG3",
        "colab_type": "code",
        "outputId": "d75ce0f5-6c25-4ff1-9731-4c0d7b81b257",
        "colab": {
          "base_uri": "https://localhost:8080/",
          "height": 106
        }
      },
      "source": [
        "Model_comparison_LR = {'Model':['Baseline','Grid Search results'],\n",
        "        'C' :[1.0,0.1759069582234977],            \n",
        "        'solver':['lbfgs','newton-cg'],\n",
        "        'max_iter':[100,100],\n",
        "        'warm_start': [False,True],\n",
        "        'Recall': [0.6944173743561186,0.6942781567590144],\n",
        "        'Precision': [0.76,0.76],\n",
        "        'Accuracy': [0.731358024691358,0.7312169312169312]\n",
        "       }\n",
        "pd.DataFrame(Model_comparison_LR)"
      ],
      "execution_count": 154,
      "outputs": [
        {
          "output_type": "execute_result",
          "data": {
            "text/html": [
              "<div>\n",
              "<style scoped>\n",
              "    .dataframe tbody tr th:only-of-type {\n",
              "        vertical-align: middle;\n",
              "    }\n",
              "\n",
              "    .dataframe tbody tr th {\n",
              "        vertical-align: top;\n",
              "    }\n",
              "\n",
              "    .dataframe thead th {\n",
              "        text-align: right;\n",
              "    }\n",
              "</style>\n",
              "<table border=\"1\" class=\"dataframe\">\n",
              "  <thead>\n",
              "    <tr style=\"text-align: right;\">\n",
              "      <th></th>\n",
              "      <th>Model</th>\n",
              "      <th>C</th>\n",
              "      <th>solver</th>\n",
              "      <th>max_iter</th>\n",
              "      <th>warm_start</th>\n",
              "      <th>Recall</th>\n",
              "      <th>Precision</th>\n",
              "      <th>Accuracy</th>\n",
              "    </tr>\n",
              "  </thead>\n",
              "  <tbody>\n",
              "    <tr>\n",
              "      <th>0</th>\n",
              "      <td>Baseline</td>\n",
              "      <td>1.000000</td>\n",
              "      <td>lbfgs</td>\n",
              "      <td>100</td>\n",
              "      <td>False</td>\n",
              "      <td>0.694417</td>\n",
              "      <td>0.76</td>\n",
              "      <td>0.731358</td>\n",
              "    </tr>\n",
              "    <tr>\n",
              "      <th>1</th>\n",
              "      <td>Grid Search results</td>\n",
              "      <td>0.175907</td>\n",
              "      <td>newton-cg</td>\n",
              "      <td>100</td>\n",
              "      <td>True</td>\n",
              "      <td>0.694278</td>\n",
              "      <td>0.76</td>\n",
              "      <td>0.731217</td>\n",
              "    </tr>\n",
              "  </tbody>\n",
              "</table>\n",
              "</div>"
            ],
            "text/plain": [
              "                 Model         C     solver  ...    Recall  Precision  Accuracy\n",
              "0             Baseline  1.000000      lbfgs  ...  0.694417       0.76  0.731358\n",
              "1  Grid Search results  0.175907  newton-cg  ...  0.694278       0.76  0.731217\n",
              "\n",
              "[2 rows x 8 columns]"
            ]
          },
          "metadata": {
            "tags": []
          },
          "execution_count": 154
        }
      ]
    },
    {
      "cell_type": "markdown",
      "metadata": {
        "id": "kRQI_zq9LwsJ",
        "colab_type": "text"
      },
      "source": [
        "## Artificial Neural Networks\n",
        "\n",
        "**Since this is a binary classification problem, we have one output node for all of our Artificial Neural Networks. We use sigmoid as the activation function for our output nodes because the sigmoid function returns a value between 0 and 1. Additionally, we use binary_crossentropy as our loss function.**"
      ]
    },
    {
      "cell_type": "markdown",
      "metadata": {
        "id": "GLdKLlf4W45x",
        "colab_type": "text"
      },
      "source": [
        "### Zero Hidden Layers\n",
        "\n",
        "**The baseline model for zero hidden layers gives us an accuracy of 0.72 and a recall of 0.68**"
      ]
    },
    {
      "cell_type": "code",
      "metadata": {
        "id": "mNiWiAZHGJ8A",
        "colab_type": "code",
        "colab": {}
      },
      "source": [
        "ann0 = Sequential()\n",
        "ann0.add(Dense(1, activation='sigmoid'))\n",
        "\n",
        "ann0.compile(loss='binary_crossentropy', optimizer='sgd')"
      ],
      "execution_count": 0,
      "outputs": []
    },
    {
      "cell_type": "code",
      "metadata": {
        "id": "NKwSEXK_GM3y",
        "colab_type": "code",
        "outputId": "374d906d-4ab6-4d7e-f9c2-8e996272d410",
        "colab": {
          "base_uri": "https://localhost:8080/",
          "height": 171
        }
      },
      "source": [
        "ann0.fit(x=X_train,y = y_train)"
      ],
      "execution_count": 36,
      "outputs": [
        {
          "output_type": "stream",
          "text": [
            "WARNING:tensorflow:Layer dense is casting an input tensor from dtype float64 to the layer's dtype of float32, which is new behavior in TensorFlow 2.  The layer has dtype float32 because it's dtype defaults to floatx.\n",
            "\n",
            "If you intended to run this layer in float32, you can safely ignore this warning. If in doubt, this warning is likely only an issue if you are porting a TensorFlow 1.X model to TensorFlow 2.\n",
            "\n",
            "To change all layers to have dtype float64 by default, call `tf.keras.backend.set_floatx('float64')`. To change just this layer, pass dtype='float64' to the layer constructor. If you are the author of this layer, you can disable autocasting by passing autocast=False to the base Layer constructor.\n",
            "\n",
            "1034/1034 [==============================] - 1s 1ms/step - loss: 0.6148\n"
          ],
          "name": "stdout"
        },
        {
          "output_type": "execute_result",
          "data": {
            "text/plain": [
              "<tensorflow.python.keras.callbacks.History at 0x7f8a86526da0>"
            ]
          },
          "metadata": {
            "tags": []
          },
          "execution_count": 36
        }
      ]
    },
    {
      "cell_type": "code",
      "metadata": {
        "id": "QkQem_6aGVHL",
        "colab_type": "code",
        "outputId": "1a8cc4e0-04ac-4ae2-a32c-893caab22c52",
        "colab": {
          "base_uri": "https://localhost:8080/",
          "height": 438
        }
      },
      "source": [
        "pred = np.stack(ann0.predict_classes(X_test),axis =1)[0]\n",
        "\n",
        "print(classification_report(y_test,pred))\n",
        "print(\"Accuracy Score: \",accuracy_score(y_test,pred))\n",
        "print(\"Recall Score: \",recall_score(y_test,pred))\n",
        "print(\"F1 Score: \",f1_score(y_test,pred))\n",
        "pd.crosstab(y_test, pred, rownames=['True'], colnames=['Predicted'], margins=True)"
      ],
      "execution_count": 37,
      "outputs": [
        {
          "output_type": "stream",
          "text": [
            "WARNING:tensorflow:From <ipython-input-37-7860072ee697>:1: Sequential.predict_classes (from tensorflow.python.keras.engine.sequential) is deprecated and will be removed after 2021-01-01.\n",
            "Instructions for updating:\n",
            "Please use instead:* `np.argmax(model.predict(x), axis=-1)`,   if your model does multi-class classification   (e.g. if it uses a `softmax` last-layer activation).* `(model.predict(x) > 0.5).astype(\"int32\")`,   if your model does binary classification   (e.g. if it uses a `sigmoid` last-layer activation).\n",
            "              precision    recall  f1-score   support\n",
            "\n",
            "           0       0.70      0.76      0.73      6992\n",
            "           1       0.75      0.68      0.71      7183\n",
            "\n",
            "    accuracy                           0.72     14175\n",
            "   macro avg       0.72      0.72      0.72     14175\n",
            "weighted avg       0.72      0.72      0.72     14175\n",
            "\n",
            "Accuracy Score:  0.7211992945326279\n",
            "Recall Score:  0.6814701378254211\n",
            "F1 Score:  0.7124144957065929\n"
          ],
          "name": "stdout"
        },
        {
          "output_type": "execute_result",
          "data": {
            "text/html": [
              "<div>\n",
              "<style scoped>\n",
              "    .dataframe tbody tr th:only-of-type {\n",
              "        vertical-align: middle;\n",
              "    }\n",
              "\n",
              "    .dataframe tbody tr th {\n",
              "        vertical-align: top;\n",
              "    }\n",
              "\n",
              "    .dataframe thead th {\n",
              "        text-align: right;\n",
              "    }\n",
              "</style>\n",
              "<table border=\"1\" class=\"dataframe\">\n",
              "  <thead>\n",
              "    <tr style=\"text-align: right;\">\n",
              "      <th>Predicted</th>\n",
              "      <th>0</th>\n",
              "      <th>1</th>\n",
              "      <th>All</th>\n",
              "    </tr>\n",
              "    <tr>\n",
              "      <th>True</th>\n",
              "      <th></th>\n",
              "      <th></th>\n",
              "      <th></th>\n",
              "    </tr>\n",
              "  </thead>\n",
              "  <tbody>\n",
              "    <tr>\n",
              "      <th>0</th>\n",
              "      <td>5328</td>\n",
              "      <td>1664</td>\n",
              "      <td>6992</td>\n",
              "    </tr>\n",
              "    <tr>\n",
              "      <th>1</th>\n",
              "      <td>2288</td>\n",
              "      <td>4895</td>\n",
              "      <td>7183</td>\n",
              "    </tr>\n",
              "    <tr>\n",
              "      <th>All</th>\n",
              "      <td>7616</td>\n",
              "      <td>6559</td>\n",
              "      <td>14175</td>\n",
              "    </tr>\n",
              "  </tbody>\n",
              "</table>\n",
              "</div>"
            ],
            "text/plain": [
              "Predicted     0     1    All\n",
              "True                        \n",
              "0          5328  1664   6992\n",
              "1          2288  4895   7183\n",
              "All        7616  6559  14175"
            ]
          },
          "metadata": {
            "tags": []
          },
          "execution_count": 37
        }
      ]
    },
    {
      "cell_type": "markdown",
      "metadata": {
        "id": "d-ybwZ9jGHOT",
        "colab_type": "text"
      },
      "source": [
        "#### Optimization\n",
        "\n",
        "**In order to optimize the neural network, the following hyperparameters were tuned:**\n",
        "\n",
        "- **optimizer: We tried various optimizers including sgd,adam,rmsprop and adagrad. We found that sgd and adam produced the best results**\n",
        "- **batch_size: Larger batch sizes seemed to lead to better performance, a batch size of 50 produced the best performance**\n",
        "- **epochs: In order to find the best value for epoch, the early stopping method was used.The early stopping method keeps track of the training loss and the validation loss and stops execution when the model starts to overfit**"
      ]
    },
    {
      "cell_type": "code",
      "metadata": {
        "id": "E5ecrBntLvBE",
        "colab_type": "code",
        "colab": {}
      },
      "source": [
        "ann0 = Sequential()\n",
        "ann0.add(Dense(1, activation='sigmoid'))\n",
        "\n",
        "ann0.compile(loss='binary_crossentropy', optimizer='sgd')"
      ],
      "execution_count": 0,
      "outputs": []
    },
    {
      "cell_type": "code",
      "metadata": {
        "id": "zIFvyeSrVtDq",
        "colab_type": "code",
        "colab": {}
      },
      "source": [
        "early_stop = EarlyStopping(monitor='val_loss',mode=\"min\",patience=20)"
      ],
      "execution_count": 0,
      "outputs": []
    },
    {
      "cell_type": "code",
      "metadata": {
        "id": "NTZcptMmXV4V",
        "colab_type": "code",
        "outputId": "5470f7d6-096d-4c18-e617-28d1aa891706",
        "colab": {
          "base_uri": "https://localhost:8080/",
          "height": 1000
        }
      },
      "source": [
        "ann0.fit(x=X_train,y = y_train,epochs=1000,validation_data=(X_test,y_test),\n",
        "          callbacks = [early_stop],batch_size = 50)"
      ],
      "execution_count": 172,
      "outputs": [
        {
          "output_type": "stream",
          "text": [
            "Epoch 1/1000\n",
            "WARNING:tensorflow:Layer dense_14 is casting an input tensor from dtype float64 to the layer's dtype of float32, which is new behavior in TensorFlow 2.  The layer has dtype float32 because it's dtype defaults to floatx.\n",
            "\n",
            "If you intended to run this layer in float32, you can safely ignore this warning. If in doubt, this warning is likely only an issue if you are porting a TensorFlow 1.X model to TensorFlow 2.\n",
            "\n",
            "To change all layers to have dtype float64 by default, call `tf.keras.backend.set_floatx('float64')`. To change just this layer, pass dtype='float64' to the layer constructor. If you are the author of this layer, you can disable autocasting by passing autocast=False to the base Layer constructor.\n",
            "\n",
            "662/662 [==============================] - 1s 2ms/step - loss: 0.6562 - val_loss: 0.5687\n",
            "Epoch 2/1000\n",
            "662/662 [==============================] - 1s 2ms/step - loss: 0.5676 - val_loss: 0.5584\n",
            "Epoch 3/1000\n",
            "662/662 [==============================] - 1s 2ms/step - loss: 0.5637 - val_loss: 0.5573\n",
            "Epoch 4/1000\n",
            "662/662 [==============================] - 1s 2ms/step - loss: 0.5631 - val_loss: 0.5577\n",
            "Epoch 5/1000\n",
            "662/662 [==============================] - 1s 2ms/step - loss: 0.5630 - val_loss: 0.5572\n",
            "Epoch 6/1000\n",
            "662/662 [==============================] - 1s 2ms/step - loss: 0.5629 - val_loss: 0.5574\n",
            "Epoch 7/1000\n",
            "662/662 [==============================] - 1s 2ms/step - loss: 0.5628 - val_loss: 0.5571\n",
            "Epoch 8/1000\n",
            "662/662 [==============================] - 1s 2ms/step - loss: 0.5628 - val_loss: 0.5571\n",
            "Epoch 9/1000\n",
            "662/662 [==============================] - 1s 2ms/step - loss: 0.5627 - val_loss: 0.5575\n",
            "Epoch 10/1000\n",
            "662/662 [==============================] - 1s 2ms/step - loss: 0.5628 - val_loss: 0.5570\n",
            "Epoch 11/1000\n",
            "662/662 [==============================] - 1s 2ms/step - loss: 0.5629 - val_loss: 0.5571\n",
            "Epoch 12/1000\n",
            "662/662 [==============================] - 1s 2ms/step - loss: 0.5627 - val_loss: 0.5571\n",
            "Epoch 13/1000\n",
            "662/662 [==============================] - 1s 2ms/step - loss: 0.5627 - val_loss: 0.5571\n",
            "Epoch 14/1000\n",
            "662/662 [==============================] - 1s 2ms/step - loss: 0.5630 - val_loss: 0.5571\n",
            "Epoch 15/1000\n",
            "662/662 [==============================] - 1s 2ms/step - loss: 0.5628 - val_loss: 0.5570\n",
            "Epoch 16/1000\n",
            "662/662 [==============================] - 1s 2ms/step - loss: 0.5628 - val_loss: 0.5570\n",
            "Epoch 17/1000\n",
            "662/662 [==============================] - 1s 2ms/step - loss: 0.5630 - val_loss: 0.5574\n",
            "Epoch 18/1000\n",
            "662/662 [==============================] - 1s 2ms/step - loss: 0.5628 - val_loss: 0.5570\n",
            "Epoch 19/1000\n",
            "662/662 [==============================] - 1s 2ms/step - loss: 0.5628 - val_loss: 0.5571\n",
            "Epoch 20/1000\n",
            "662/662 [==============================] - 1s 2ms/step - loss: 0.5627 - val_loss: 0.5568\n",
            "Epoch 21/1000\n",
            "662/662 [==============================] - 1s 2ms/step - loss: 0.5627 - val_loss: 0.5574\n",
            "Epoch 22/1000\n",
            "662/662 [==============================] - 1s 2ms/step - loss: 0.5628 - val_loss: 0.5571\n",
            "Epoch 23/1000\n",
            "662/662 [==============================] - 1s 2ms/step - loss: 0.5627 - val_loss: 0.5568\n",
            "Epoch 24/1000\n",
            "662/662 [==============================] - 1s 2ms/step - loss: 0.5628 - val_loss: 0.5568\n",
            "Epoch 25/1000\n",
            "662/662 [==============================] - 1s 2ms/step - loss: 0.5628 - val_loss: 0.5570\n",
            "Epoch 26/1000\n",
            "662/662 [==============================] - 1s 2ms/step - loss: 0.5627 - val_loss: 0.5568\n",
            "Epoch 27/1000\n",
            "662/662 [==============================] - 1s 2ms/step - loss: 0.5627 - val_loss: 0.5571\n",
            "Epoch 28/1000\n",
            "662/662 [==============================] - 1s 2ms/step - loss: 0.5627 - val_loss: 0.5569\n",
            "Epoch 29/1000\n",
            "662/662 [==============================] - 1s 2ms/step - loss: 0.5627 - val_loss: 0.5569\n",
            "Epoch 30/1000\n",
            "662/662 [==============================] - 1s 2ms/step - loss: 0.5629 - val_loss: 0.5572\n",
            "Epoch 31/1000\n",
            "662/662 [==============================] - 1s 2ms/step - loss: 0.5628 - val_loss: 0.5570\n",
            "Epoch 32/1000\n",
            "662/662 [==============================] - 1s 2ms/step - loss: 0.5627 - val_loss: 0.5572\n",
            "Epoch 33/1000\n",
            "662/662 [==============================] - 1s 2ms/step - loss: 0.5627 - val_loss: 0.5571\n",
            "Epoch 34/1000\n",
            "662/662 [==============================] - 1s 2ms/step - loss: 0.5627 - val_loss: 0.5571\n",
            "Epoch 35/1000\n",
            "662/662 [==============================] - 1s 2ms/step - loss: 0.5627 - val_loss: 0.5568\n",
            "Epoch 36/1000\n",
            "662/662 [==============================] - 1s 2ms/step - loss: 0.5628 - val_loss: 0.5569\n",
            "Epoch 37/1000\n",
            "662/662 [==============================] - 1s 2ms/step - loss: 0.5628 - val_loss: 0.5568\n",
            "Epoch 38/1000\n",
            "662/662 [==============================] - 1s 2ms/step - loss: 0.5627 - val_loss: 0.5572\n",
            "Epoch 39/1000\n",
            "662/662 [==============================] - 1s 2ms/step - loss: 0.5627 - val_loss: 0.5567\n",
            "Epoch 40/1000\n",
            "662/662 [==============================] - 1s 2ms/step - loss: 0.5626 - val_loss: 0.5568\n",
            "Epoch 41/1000\n",
            "662/662 [==============================] - 1s 2ms/step - loss: 0.5628 - val_loss: 0.5569\n",
            "Epoch 42/1000\n",
            "662/662 [==============================] - 1s 2ms/step - loss: 0.5626 - val_loss: 0.5570\n",
            "Epoch 43/1000\n",
            "662/662 [==============================] - 1s 2ms/step - loss: 0.5627 - val_loss: 0.5569\n",
            "Epoch 44/1000\n",
            "662/662 [==============================] - 1s 2ms/step - loss: 0.5628 - val_loss: 0.5568\n",
            "Epoch 45/1000\n",
            "662/662 [==============================] - 1s 2ms/step - loss: 0.5628 - val_loss: 0.5571\n",
            "Epoch 46/1000\n",
            "662/662 [==============================] - 1s 2ms/step - loss: 0.5627 - val_loss: 0.5570\n",
            "Epoch 47/1000\n",
            "662/662 [==============================] - 1s 2ms/step - loss: 0.5629 - val_loss: 0.5569\n",
            "Epoch 48/1000\n",
            "662/662 [==============================] - 1s 2ms/step - loss: 0.5628 - val_loss: 0.5571\n",
            "Epoch 49/1000\n",
            "662/662 [==============================] - 1s 2ms/step - loss: 0.5627 - val_loss: 0.5567\n",
            "Epoch 50/1000\n",
            "662/662 [==============================] - 1s 2ms/step - loss: 0.5628 - val_loss: 0.5568\n",
            "Epoch 51/1000\n",
            "662/662 [==============================] - 1s 2ms/step - loss: 0.5627 - val_loss: 0.5570\n",
            "Epoch 52/1000\n",
            "662/662 [==============================] - 1s 2ms/step - loss: 0.5628 - val_loss: 0.5571\n",
            "Epoch 53/1000\n",
            "662/662 [==============================] - 1s 2ms/step - loss: 0.5628 - val_loss: 0.5570\n",
            "Epoch 54/1000\n",
            "662/662 [==============================] - 1s 2ms/step - loss: 0.5627 - val_loss: 0.5569\n",
            "Epoch 55/1000\n",
            "662/662 [==============================] - 1s 2ms/step - loss: 0.5627 - val_loss: 0.5569\n",
            "Epoch 56/1000\n",
            "662/662 [==============================] - 1s 2ms/step - loss: 0.5628 - val_loss: 0.5569\n",
            "Epoch 57/1000\n",
            "662/662 [==============================] - 1s 2ms/step - loss: 0.5627 - val_loss: 0.5570\n",
            "Epoch 58/1000\n",
            "662/662 [==============================] - 1s 2ms/step - loss: 0.5626 - val_loss: 0.5570\n",
            "Epoch 59/1000\n",
            "662/662 [==============================] - 1s 2ms/step - loss: 0.5627 - val_loss: 0.5568\n"
          ],
          "name": "stdout"
        },
        {
          "output_type": "execute_result",
          "data": {
            "text/plain": [
              "<tensorflow.python.keras.callbacks.History at 0x7f8a75da0860>"
            ]
          },
          "metadata": {
            "tags": []
          },
          "execution_count": 172
        }
      ]
    },
    {
      "cell_type": "markdown",
      "metadata": {
        "id": "u56ldIAIY1xF",
        "colab_type": "text"
      },
      "source": [
        "#### Model Loss\n",
        "\n",
        "**The below figure shows the number of epochs at which the loss values flatten out, we have selected a patience value of 20, which means that the model will continue to execute for 20 epochs after the curve flattens to ensure that there is no subsequent change in loss value**"
      ]
    },
    {
      "cell_type": "code",
      "metadata": {
        "id": "9RaOJu80YqUS",
        "colab_type": "code",
        "colab": {}
      },
      "source": [
        "model_loss = pd.DataFrame(ann0.history.history)"
      ],
      "execution_count": 0,
      "outputs": []
    },
    {
      "cell_type": "code",
      "metadata": {
        "id": "D5Un5FxEYvBQ",
        "colab_type": "code",
        "outputId": "3c3800cc-81dc-467e-e3ac-a121b7901842",
        "colab": {
          "base_uri": "https://localhost:8080/",
          "height": 284
        }
      },
      "source": [
        "model_loss.plot()"
      ],
      "execution_count": 174,
      "outputs": [
        {
          "output_type": "execute_result",
          "data": {
            "text/plain": [
              "<matplotlib.axes._subplots.AxesSubplot at 0x7f8a7c15bf28>"
            ]
          },
          "metadata": {
            "tags": []
          },
          "execution_count": 174
        },
        {
          "output_type": "display_data",
          "data": {
            "image/png": "[encoded data removed]",
            "text/plain": [
              "<Figure size 432x288 with 1 Axes>"
            ]
          },
          "metadata": {
            "tags": [],
            "needs_background": "light"
          }
        }
      ]
    },
    {
      "cell_type": "code",
      "metadata": {
        "id": "M_3MtwiuY7y_",
        "colab_type": "code",
        "colab": {}
      },
      "source": [
        "pred = np.stack(ann0.predict_classes(X_test),axis =1)[0]\n",
        "annpred0 = pred"
      ],
      "execution_count": 0,
      "outputs": []
    },
    {
      "cell_type": "code",
      "metadata": {
        "id": "eF_seMRvY--K",
        "colab_type": "code",
        "outputId": "1134ea32-5b72-430b-8551-b7ff400e4426",
        "colab": {
          "base_uri": "https://localhost:8080/",
          "height": 367
        }
      },
      "source": [
        "print(classification_report(y_test,pred))\n",
        "print(\"Accuracy Score: \",accuracy_score(y_test,pred))\n",
        "print(\"Recall Score: \",recall_score(y_test,pred))\n",
        "print(\"F1 Score: \",f1_score(y_test,pred))\n",
        "pd.crosstab(y_test, pred, rownames=['True'], colnames=['Predicted'], margins=True)"
      ],
      "execution_count": 176,
      "outputs": [
        {
          "output_type": "stream",
          "text": [
            "              precision    recall  f1-score   support\n",
            "\n",
            "           0       0.71      0.77      0.74      6992\n",
            "           1       0.76      0.70      0.72      7183\n",
            "\n",
            "    accuracy                           0.73     14175\n",
            "   macro avg       0.73      0.73      0.73     14175\n",
            "weighted avg       0.73      0.73      0.73     14175\n",
            "\n",
            "Accuracy Score:  0.7321340388007055\n",
            "Recall Score:  0.6959487679242656\n",
            "F1 Score:  0.7247553461399058\n"
          ],
          "name": "stdout"
        },
        {
          "output_type": "execute_result",
          "data": {
            "text/html": [
              "<div>\n",
              "<style scoped>\n",
              "    .dataframe tbody tr th:only-of-type {\n",
              "        vertical-align: middle;\n",
              "    }\n",
              "\n",
              "    .dataframe tbody tr th {\n",
              "        vertical-align: top;\n",
              "    }\n",
              "\n",
              "    .dataframe thead th {\n",
              "        text-align: right;\n",
              "    }\n",
              "</style>\n",
              "<table border=\"1\" class=\"dataframe\">\n",
              "  <thead>\n",
              "    <tr style=\"text-align: right;\">\n",
              "      <th>Predicted</th>\n",
              "      <th>0</th>\n",
              "      <th>1</th>\n",
              "      <th>All</th>\n",
              "    </tr>\n",
              "    <tr>\n",
              "      <th>True</th>\n",
              "      <th></th>\n",
              "      <th></th>\n",
              "      <th></th>\n",
              "    </tr>\n",
              "  </thead>\n",
              "  <tbody>\n",
              "    <tr>\n",
              "      <th>0</th>\n",
              "      <td>5379</td>\n",
              "      <td>1613</td>\n",
              "      <td>6992</td>\n",
              "    </tr>\n",
              "    <tr>\n",
              "      <th>1</th>\n",
              "      <td>2184</td>\n",
              "      <td>4999</td>\n",
              "      <td>7183</td>\n",
              "    </tr>\n",
              "    <tr>\n",
              "      <th>All</th>\n",
              "      <td>7563</td>\n",
              "      <td>6612</td>\n",
              "      <td>14175</td>\n",
              "    </tr>\n",
              "  </tbody>\n",
              "</table>\n",
              "</div>"
            ],
            "text/plain": [
              "Predicted     0     1    All\n",
              "True                        \n",
              "0          5379  1613   6992\n",
              "1          2184  4999   7183\n",
              "All        7563  6612  14175"
            ]
          },
          "metadata": {
            "tags": []
          },
          "execution_count": 176
        }
      ]
    },
    {
      "cell_type": "markdown",
      "metadata": {
        "id": "oCTPl3ClhEAM",
        "colab_type": "text"
      },
      "source": [
        "#### ROC Curve\n",
        "**The ROC Curve can be seen below, it has an AUC value of 0.799**"
      ]
    },
    {
      "cell_type": "code",
      "metadata": {
        "id": "3Z_gf9g6hWbn",
        "colab_type": "code",
        "colab": {
          "base_uri": "https://localhost:8080/",
          "height": 530
        },
        "outputId": "fa81bbc5-ba80-436e-ac87-dbf61180c486"
      },
      "source": [
        "generate_ann_roc(ann0,y_test,'ANN 0')"
      ],
      "execution_count": 52,
      "outputs": [
        {
          "output_type": "stream",
          "text": [
            "No Skill: ROC AUC=0.500\n",
            "ANN 0: ROC AUC=0.799\n"
          ],
          "name": "stdout"
        },
        {
          "output_type": "display_data",
          "data": {
            "image/png": "[encoded data removed]",
            "text/plain": [
              "<Figure size 1152x576 with 1 Axes>"
            ]
          },
          "metadata": {
            "tags": [],
            "needs_background": "light"
          }
        }
      ]
    },
    {
      "cell_type": "markdown",
      "metadata": {
        "id": "mlVN4Yj1ZhVM",
        "colab_type": "text"
      },
      "source": [
        "#### Best Model Table\n",
        "\n",
        "**Due to higher accuracy and recall values, we select the tuned model as the best model**"
      ]
    },
    {
      "cell_type": "code",
      "metadata": {
        "id": "QLQP-h-8ZhuV",
        "colab_type": "code",
        "colab": {
          "base_uri": "https://localhost:8080/",
          "height": 106
        },
        "outputId": "650ba8cc-91cf-4587-ae82-e3f3f655c365"
      },
      "source": [
        "Model_comparison_ANN0 = {'Model':['Baseline','Tuning results'],\n",
        "        'optimizer' :['sgd','sgd'],            \n",
        "        'batch_size':[32,50],                              \n",
        "        'epochs':[1,59],\n",
        "        'Recall': [0.6814701378254211,0.6959487679242656],\n",
        "        'Precision': [0.75,0.76],\n",
        "        'Accuracy': [0.7211992945326279,0.7321340388007055]\n",
        "       }\n",
        "pd.DataFrame(Model_comparison_ANN0)"
      ],
      "execution_count": 177,
      "outputs": [
        {
          "output_type": "execute_result",
          "data": {
            "text/html": [
              "<div>\n",
              "<style scoped>\n",
              "    .dataframe tbody tr th:only-of-type {\n",
              "        vertical-align: middle;\n",
              "    }\n",
              "\n",
              "    .dataframe tbody tr th {\n",
              "        vertical-align: top;\n",
              "    }\n",
              "\n",
              "    .dataframe thead th {\n",
              "        text-align: right;\n",
              "    }\n",
              "</style>\n",
              "<table border=\"1\" class=\"dataframe\">\n",
              "  <thead>\n",
              "    <tr style=\"text-align: right;\">\n",
              "      <th></th>\n",
              "      <th>Model</th>\n",
              "      <th>optimizer</th>\n",
              "      <th>batch_size</th>\n",
              "      <th>epochs</th>\n",
              "      <th>Recall</th>\n",
              "      <th>Precision</th>\n",
              "      <th>Accuracy</th>\n",
              "    </tr>\n",
              "  </thead>\n",
              "  <tbody>\n",
              "    <tr>\n",
              "      <th>0</th>\n",
              "      <td>Baseline</td>\n",
              "      <td>sgd</td>\n",
              "      <td>32</td>\n",
              "      <td>1</td>\n",
              "      <td>0.681470</td>\n",
              "      <td>0.75</td>\n",
              "      <td>0.721199</td>\n",
              "    </tr>\n",
              "    <tr>\n",
              "      <th>1</th>\n",
              "      <td>Tuning results</td>\n",
              "      <td>sgd</td>\n",
              "      <td>50</td>\n",
              "      <td>59</td>\n",
              "      <td>0.695949</td>\n",
              "      <td>0.76</td>\n",
              "      <td>0.732134</td>\n",
              "    </tr>\n",
              "  </tbody>\n",
              "</table>\n",
              "</div>"
            ],
            "text/plain": [
              "            Model optimizer  batch_size  epochs    Recall  Precision  Accuracy\n",
              "0        Baseline       sgd          32       1  0.681470       0.75  0.721199\n",
              "1  Tuning results       sgd          50      59  0.695949       0.76  0.732134"
            ]
          },
          "metadata": {
            "tags": []
          },
          "execution_count": 177
        }
      ]
    },
    {
      "cell_type": "markdown",
      "metadata": {
        "id": "OzPPO1SKaQqQ",
        "colab_type": "text"
      },
      "source": [
        "### One Hidden Layer\n",
        "\n",
        "**The baseline model for zero hidden layers gives us an accuracy of 0.73 and a recall of 0.69**"
      ]
    },
    {
      "cell_type": "code",
      "metadata": {
        "id": "p9KOFbVXG-r_",
        "colab_type": "code",
        "colab": {}
      },
      "source": [
        "ann1 = Sequential()\n",
        "ann1.add(Dense(16))\n",
        "\n",
        "ann1.add(Dense(1, activation='sigmoid'))\n",
        "\n",
        "ann1.compile(loss='binary_crossentropy', optimizer='sgd')"
      ],
      "execution_count": 0,
      "outputs": []
    },
    {
      "cell_type": "code",
      "metadata": {
        "id": "sQ3fwtUCHDjo",
        "colab_type": "code",
        "outputId": "fc9043cf-7dba-42e5-9746-8e1f877caf0d",
        "colab": {
          "base_uri": "https://localhost:8080/",
          "height": 171
        }
      },
      "source": [
        "ann1.fit(x=X_train,y = y_train)"
      ],
      "execution_count": 54,
      "outputs": [
        {
          "output_type": "stream",
          "text": [
            "WARNING:tensorflow:Layer dense_2 is casting an input tensor from dtype float64 to the layer's dtype of float32, which is new behavior in TensorFlow 2.  The layer has dtype float32 because it's dtype defaults to floatx.\n",
            "\n",
            "If you intended to run this layer in float32, you can safely ignore this warning. If in doubt, this warning is likely only an issue if you are porting a TensorFlow 1.X model to TensorFlow 2.\n",
            "\n",
            "To change all layers to have dtype float64 by default, call `tf.keras.backend.set_floatx('float64')`. To change just this layer, pass dtype='float64' to the layer constructor. If you are the author of this layer, you can disable autocasting by passing autocast=False to the base Layer constructor.\n",
            "\n",
            "1034/1034 [==============================] - 1s 1ms/step - loss: 0.5972\n"
          ],
          "name": "stdout"
        },
        {
          "output_type": "execute_result",
          "data": {
            "text/plain": [
              "<tensorflow.python.keras.callbacks.History at 0x7f8a7bfc2c88>"
            ]
          },
          "metadata": {
            "tags": []
          },
          "execution_count": 54
        }
      ]
    },
    {
      "cell_type": "code",
      "metadata": {
        "id": "JRiyUPszHIab",
        "colab_type": "code",
        "outputId": "154e63c5-e37b-4c39-8e04-2f747ea54c66",
        "colab": {
          "base_uri": "https://localhost:8080/",
          "height": 367
        }
      },
      "source": [
        "pred = np.stack(ann1.predict_classes(X_test),axis =1)[0]\n",
        "\n",
        "print(classification_report(y_test,pred))\n",
        "print(\"Accuracy Score: \",accuracy_score(y_test,pred))\n",
        "print(\"Recall Score: \",recall_score(y_test,pred))\n",
        "print(\"F1 Score: \",f1_score(y_test,pred))\n",
        "pd.crosstab(y_test, pred, rownames=['True'], colnames=['Predicted'], margins=True)"
      ],
      "execution_count": 55,
      "outputs": [
        {
          "output_type": "stream",
          "text": [
            "              precision    recall  f1-score   support\n",
            "\n",
            "           0       0.71      0.77      0.74      6992\n",
            "           1       0.76      0.69      0.72      7183\n",
            "\n",
            "    accuracy                           0.73     14175\n",
            "   macro avg       0.73      0.73      0.73     14175\n",
            "weighted avg       0.73      0.73      0.73     14175\n",
            "\n",
            "Accuracy Score:  0.7291005291005291\n",
            "Recall Score:  0.6885702352777391\n",
            "F1 Score:  0.7203612001165162\n"
          ],
          "name": "stdout"
        },
        {
          "output_type": "execute_result",
          "data": {
            "text/html": [
              "<div>\n",
              "<style scoped>\n",
              "    .dataframe tbody tr th:only-of-type {\n",
              "        vertical-align: middle;\n",
              "    }\n",
              "\n",
              "    .dataframe tbody tr th {\n",
              "        vertical-align: top;\n",
              "    }\n",
              "\n",
              "    .dataframe thead th {\n",
              "        text-align: right;\n",
              "    }\n",
              "</style>\n",
              "<table border=\"1\" class=\"dataframe\">\n",
              "  <thead>\n",
              "    <tr style=\"text-align: right;\">\n",
              "      <th>Predicted</th>\n",
              "      <th>0</th>\n",
              "      <th>1</th>\n",
              "      <th>All</th>\n",
              "    </tr>\n",
              "    <tr>\n",
              "      <th>True</th>\n",
              "      <th></th>\n",
              "      <th></th>\n",
              "      <th></th>\n",
              "    </tr>\n",
              "  </thead>\n",
              "  <tbody>\n",
              "    <tr>\n",
              "      <th>0</th>\n",
              "      <td>5389</td>\n",
              "      <td>1603</td>\n",
              "      <td>6992</td>\n",
              "    </tr>\n",
              "    <tr>\n",
              "      <th>1</th>\n",
              "      <td>2237</td>\n",
              "      <td>4946</td>\n",
              "      <td>7183</td>\n",
              "    </tr>\n",
              "    <tr>\n",
              "      <th>All</th>\n",
              "      <td>7626</td>\n",
              "      <td>6549</td>\n",
              "      <td>14175</td>\n",
              "    </tr>\n",
              "  </tbody>\n",
              "</table>\n",
              "</div>"
            ],
            "text/plain": [
              "Predicted     0     1    All\n",
              "True                        \n",
              "0          5389  1603   6992\n",
              "1          2237  4946   7183\n",
              "All        7626  6549  14175"
            ]
          },
          "metadata": {
            "tags": []
          },
          "execution_count": 55
        }
      ]
    },
    {
      "cell_type": "markdown",
      "metadata": {
        "id": "jimmDlHmG_WI",
        "colab_type": "text"
      },
      "source": [
        "#### Optimization\n",
        "\n",
        "**In order to optimize the neural network, the following hyperparameters were tuned:**\n",
        "\n",
        "- **optimizer: We tried various optimizers including sgd,adam,rmsprop and adagrad. We found that sgd and adam produced the best results**\n",
        "- **batch_size: Larger batch sizes seemed to lead to better performance, the default batch size of 32 gives the best results**\n",
        "- **epochs: In order to find the best value for epoch, the early stopping method was used.The early stopping method keeps track of the training loss and the validation loss and stops execution when the model starts to overfit**\n",
        "- **Hidden layer Nodes: The number of nodes in the hidden layer.**"
      ]
    },
    {
      "cell_type": "code",
      "metadata": {
        "id": "ZlwtsOMcaP91",
        "colab_type": "code",
        "colab": {}
      },
      "source": [
        "ann1 = Sequential()\n",
        "ann1.add(Dense(12, activation='relu'))\n",
        "\n",
        "ann1.add(Dense(1, activation='sigmoid'))\n",
        "\n",
        "ann1.compile(loss='binary_crossentropy', optimizer='sgd')"
      ],
      "execution_count": 0,
      "outputs": []
    },
    {
      "cell_type": "code",
      "metadata": {
        "id": "pnOqYKnjbXp6",
        "colab_type": "code",
        "colab": {}
      },
      "source": [
        "early_stop = EarlyStopping(monitor='val_loss',mode=\"min\",verbose=1,patience=25)"
      ],
      "execution_count": 0,
      "outputs": []
    },
    {
      "cell_type": "code",
      "metadata": {
        "id": "5Hh-I4Xpbbz9",
        "colab_type": "code",
        "outputId": "ff0cb397-6dfa-45c0-ec58-5c842fffc4a6",
        "colab": {
          "base_uri": "https://localhost:8080/",
          "height": 1000
        }
      },
      "source": [
        "ann1.fit(x=X_train,y = y_train,epochs=1000,validation_data=(X_test,y_test),\n",
        "          callbacks = [early_stop],batch_size = 32)"
      ],
      "execution_count": 206,
      "outputs": [
        {
          "output_type": "stream",
          "text": [
            "Epoch 1/1000\n",
            "WARNING:tensorflow:Layer dense_21 is casting an input tensor from dtype float64 to the layer's dtype of float32, which is new behavior in TensorFlow 2.  The layer has dtype float32 because it's dtype defaults to floatx.\n",
            "\n",
            "If you intended to run this layer in float32, you can safely ignore this warning. If in doubt, this warning is likely only an issue if you are porting a TensorFlow 1.X model to TensorFlow 2.\n",
            "\n",
            "To change all layers to have dtype float64 by default, call `tf.keras.backend.set_floatx('float64')`. To change just this layer, pass dtype='float64' to the layer constructor. If you are the author of this layer, you can disable autocasting by passing autocast=False to the base Layer constructor.\n",
            "\n",
            "1034/1034 [==============================] - 2s 2ms/step - loss: 0.6106 - val_loss: 0.5748\n",
            "Epoch 2/1000\n",
            "1034/1034 [==============================] - 2s 2ms/step - loss: 0.5754 - val_loss: 0.5636\n",
            "Epoch 3/1000\n",
            "1034/1034 [==============================] - 2s 2ms/step - loss: 0.5682 - val_loss: 0.5583\n",
            "Epoch 4/1000\n",
            "1034/1034 [==============================] - 2s 2ms/step - loss: 0.5640 - val_loss: 0.5553\n",
            "Epoch 5/1000\n",
            "1034/1034 [==============================] - 2s 2ms/step - loss: 0.5614 - val_loss: 0.5529\n",
            "Epoch 6/1000\n",
            "1034/1034 [==============================] - 2s 2ms/step - loss: 0.5595 - val_loss: 0.5513\n",
            "Epoch 7/1000\n",
            "1034/1034 [==============================] - 2s 2ms/step - loss: 0.5579 - val_loss: 0.5503\n",
            "Epoch 8/1000\n",
            "1034/1034 [==============================] - 2s 2ms/step - loss: 0.5568 - val_loss: 0.5496\n",
            "Epoch 9/1000\n",
            "1034/1034 [==============================] - 2s 2ms/step - loss: 0.5557 - val_loss: 0.5493\n",
            "Epoch 10/1000\n",
            "1034/1034 [==============================] - 2s 2ms/step - loss: 0.5549 - val_loss: 0.5478\n",
            "Epoch 11/1000\n",
            "1034/1034 [==============================] - 2s 2ms/step - loss: 0.5542 - val_loss: 0.5475\n",
            "Epoch 12/1000\n",
            "1034/1034 [==============================] - 2s 2ms/step - loss: 0.5537 - val_loss: 0.5473\n",
            "Epoch 13/1000\n",
            "1034/1034 [==============================] - 2s 2ms/step - loss: 0.5532 - val_loss: 0.5463\n",
            "Epoch 14/1000\n",
            "1034/1034 [==============================] - 2s 2ms/step - loss: 0.5527 - val_loss: 0.5461\n",
            "Epoch 15/1000\n",
            "1034/1034 [==============================] - 2s 2ms/step - loss: 0.5523 - val_loss: 0.5457\n",
            "Epoch 16/1000\n",
            "1034/1034 [==============================] - 2s 2ms/step - loss: 0.5517 - val_loss: 0.5453\n",
            "Epoch 17/1000\n",
            "1034/1034 [==============================] - 2s 2ms/step - loss: 0.5513 - val_loss: 0.5448\n",
            "Epoch 18/1000\n",
            "1034/1034 [==============================] - 2s 2ms/step - loss: 0.5511 - val_loss: 0.5446\n",
            "Epoch 19/1000\n",
            "1034/1034 [==============================] - 2s 2ms/step - loss: 0.5509 - val_loss: 0.5451\n",
            "Epoch 20/1000\n",
            "1034/1034 [==============================] - 2s 2ms/step - loss: 0.5508 - val_loss: 0.5443\n",
            "Epoch 21/1000\n",
            "1034/1034 [==============================] - 2s 2ms/step - loss: 0.5506 - val_loss: 0.5445\n",
            "Epoch 22/1000\n",
            "1034/1034 [==============================] - 2s 2ms/step - loss: 0.5504 - val_loss: 0.5440\n",
            "Epoch 23/1000\n",
            "1034/1034 [==============================] - 2s 2ms/step - loss: 0.5503 - val_loss: 0.5442\n",
            "Epoch 24/1000\n",
            "1034/1034 [==============================] - 2s 2ms/step - loss: 0.5502 - val_loss: 0.5439\n",
            "Epoch 25/1000\n",
            "1034/1034 [==============================] - 2s 2ms/step - loss: 0.5500 - val_loss: 0.5441\n",
            "Epoch 26/1000\n",
            "1034/1034 [==============================] - 2s 2ms/step - loss: 0.5499 - val_loss: 0.5443\n",
            "Epoch 27/1000\n",
            "1034/1034 [==============================] - 2s 2ms/step - loss: 0.5499 - val_loss: 0.5440\n",
            "Epoch 28/1000\n",
            "1034/1034 [==============================] - 2s 2ms/step - loss: 0.5500 - val_loss: 0.5434\n",
            "Epoch 29/1000\n",
            "1034/1034 [==============================] - 2s 2ms/step - loss: 0.5496 - val_loss: 0.5435\n",
            "Epoch 30/1000\n",
            "1034/1034 [==============================] - 2s 2ms/step - loss: 0.5496 - val_loss: 0.5437\n",
            "Epoch 31/1000\n",
            "1034/1034 [==============================] - 2s 2ms/step - loss: 0.5495 - val_loss: 0.5435\n",
            "Epoch 32/1000\n",
            "1034/1034 [==============================] - 2s 2ms/step - loss: 0.5495 - val_loss: 0.5434\n",
            "Epoch 33/1000\n",
            "1034/1034 [==============================] - 2s 2ms/step - loss: 0.5494 - val_loss: 0.5433\n",
            "Epoch 34/1000\n",
            "1034/1034 [==============================] - 2s 2ms/step - loss: 0.5494 - val_loss: 0.5433\n",
            "Epoch 35/1000\n",
            "1034/1034 [==============================] - 2s 2ms/step - loss: 0.5493 - val_loss: 0.5436\n",
            "Epoch 36/1000\n",
            "1034/1034 [==============================] - 2s 2ms/step - loss: 0.5492 - val_loss: 0.5431\n",
            "Epoch 37/1000\n",
            "1034/1034 [==============================] - 2s 2ms/step - loss: 0.5491 - val_loss: 0.5433\n",
            "Epoch 38/1000\n",
            "1034/1034 [==============================] - 2s 2ms/step - loss: 0.5490 - val_loss: 0.5428\n",
            "Epoch 39/1000\n",
            "1034/1034 [==============================] - 2s 2ms/step - loss: 0.5489 - val_loss: 0.5431\n",
            "Epoch 40/1000\n",
            "1034/1034 [==============================] - 2s 2ms/step - loss: 0.5489 - val_loss: 0.5429\n",
            "Epoch 41/1000\n",
            "1034/1034 [==============================] - 2s 2ms/step - loss: 0.5488 - val_loss: 0.5429\n",
            "Epoch 42/1000\n",
            "1034/1034 [==============================] - 2s 2ms/step - loss: 0.5485 - val_loss: 0.5426\n",
            "Epoch 43/1000\n",
            "1034/1034 [==============================] - 2s 2ms/step - loss: 0.5484 - val_loss: 0.5429\n",
            "Epoch 44/1000\n",
            "1034/1034 [==============================] - 2s 2ms/step - loss: 0.5484 - val_loss: 0.5426\n",
            "Epoch 45/1000\n",
            "1034/1034 [==============================] - 2s 2ms/step - loss: 0.5483 - val_loss: 0.5428\n",
            "Epoch 46/1000\n",
            "1034/1034 [==============================] - 2s 2ms/step - loss: 0.5482 - val_loss: 0.5423\n",
            "Epoch 47/1000\n",
            "1034/1034 [==============================] - 2s 2ms/step - loss: 0.5480 - val_loss: 0.5422\n",
            "Epoch 48/1000\n",
            "1034/1034 [==============================] - 2s 2ms/step - loss: 0.5480 - val_loss: 0.5424\n",
            "Epoch 49/1000\n",
            "1034/1034 [==============================] - 2s 2ms/step - loss: 0.5479 - val_loss: 0.5422\n",
            "Epoch 50/1000\n",
            "1034/1034 [==============================] - 2s 2ms/step - loss: 0.5479 - val_loss: 0.5422\n",
            "Epoch 51/1000\n",
            "1034/1034 [==============================] - 2s 2ms/step - loss: 0.5476 - val_loss: 0.5418\n",
            "Epoch 52/1000\n",
            "1034/1034 [==============================] - 2s 2ms/step - loss: 0.5477 - val_loss: 0.5419\n",
            "Epoch 53/1000\n",
            "1034/1034 [==============================] - 2s 2ms/step - loss: 0.5475 - val_loss: 0.5425\n",
            "Epoch 54/1000\n",
            "1034/1034 [==============================] - 2s 2ms/step - loss: 0.5474 - val_loss: 0.5417\n",
            "Epoch 55/1000\n",
            "1034/1034 [==============================] - 2s 2ms/step - loss: 0.5473 - val_loss: 0.5420\n",
            "Epoch 56/1000\n",
            "1034/1034 [==============================] - 2s 2ms/step - loss: 0.5472 - val_loss: 0.5418\n",
            "Epoch 57/1000\n",
            "1034/1034 [==============================] - 2s 2ms/step - loss: 0.5471 - val_loss: 0.5418\n",
            "Epoch 58/1000\n",
            "1034/1034 [==============================] - 2s 2ms/step - loss: 0.5469 - val_loss: 0.5412\n",
            "Epoch 59/1000\n",
            "1034/1034 [==============================] - 2s 2ms/step - loss: 0.5470 - val_loss: 0.5413\n",
            "Epoch 60/1000\n",
            "1034/1034 [==============================] - 2s 2ms/step - loss: 0.5467 - val_loss: 0.5424\n",
            "Epoch 61/1000\n",
            "1034/1034 [==============================] - 2s 2ms/step - loss: 0.5468 - val_loss: 0.5413\n",
            "Epoch 62/1000\n",
            "1034/1034 [==============================] - 2s 2ms/step - loss: 0.5466 - val_loss: 0.5415\n",
            "Epoch 63/1000\n",
            "1034/1034 [==============================] - 2s 2ms/step - loss: 0.5463 - val_loss: 0.5406\n",
            "Epoch 64/1000\n",
            "1034/1034 [==============================] - 2s 2ms/step - loss: 0.5463 - val_loss: 0.5409\n",
            "Epoch 65/1000\n",
            "1034/1034 [==============================] - 2s 2ms/step - loss: 0.5464 - val_loss: 0.5408\n",
            "Epoch 66/1000\n",
            "1034/1034 [==============================] - 2s 2ms/step - loss: 0.5459 - val_loss: 0.5407\n",
            "Epoch 67/1000\n",
            "1034/1034 [==============================] - 2s 2ms/step - loss: 0.5459 - val_loss: 0.5413\n",
            "Epoch 68/1000\n",
            "1034/1034 [==============================] - 2s 2ms/step - loss: 0.5458 - val_loss: 0.5409\n",
            "Epoch 69/1000\n",
            "1034/1034 [==============================] - 2s 2ms/step - loss: 0.5457 - val_loss: 0.5403\n",
            "Epoch 70/1000\n",
            "1034/1034 [==============================] - 2s 2ms/step - loss: 0.5455 - val_loss: 0.5411\n",
            "Epoch 71/1000\n",
            "1034/1034 [==============================] - 2s 2ms/step - loss: 0.5454 - val_loss: 0.5408\n",
            "Epoch 72/1000\n",
            "1034/1034 [==============================] - 2s 2ms/step - loss: 0.5452 - val_loss: 0.5403\n",
            "Epoch 73/1000\n",
            "1034/1034 [==============================] - 2s 2ms/step - loss: 0.5449 - val_loss: 0.5413\n",
            "Epoch 74/1000\n",
            "1034/1034 [==============================] - 2s 2ms/step - loss: 0.5450 - val_loss: 0.5399\n",
            "Epoch 75/1000\n",
            "1034/1034 [==============================] - 2s 2ms/step - loss: 0.5449 - val_loss: 0.5400\n",
            "Epoch 76/1000\n",
            "1034/1034 [==============================] - 2s 2ms/step - loss: 0.5446 - val_loss: 0.5403\n",
            "Epoch 77/1000\n",
            "1034/1034 [==============================] - 2s 2ms/step - loss: 0.5445 - val_loss: 0.5402\n",
            "Epoch 78/1000\n",
            "1034/1034 [==============================] - 2s 2ms/step - loss: 0.5445 - val_loss: 0.5396\n",
            "Epoch 79/1000\n",
            "1034/1034 [==============================] - 2s 2ms/step - loss: 0.5442 - val_loss: 0.5405\n",
            "Epoch 80/1000\n",
            "1034/1034 [==============================] - 2s 2ms/step - loss: 0.5441 - val_loss: 0.5402\n",
            "Epoch 81/1000\n",
            "1034/1034 [==============================] - 2s 2ms/step - loss: 0.5440 - val_loss: 0.5394\n",
            "Epoch 82/1000\n",
            "1034/1034 [==============================] - 2s 2ms/step - loss: 0.5439 - val_loss: 0.5389\n",
            "Epoch 83/1000\n",
            "1034/1034 [==============================] - 2s 2ms/step - loss: 0.5437 - val_loss: 0.5390\n",
            "Epoch 84/1000\n",
            "1034/1034 [==============================] - 2s 2ms/step - loss: 0.5437 - val_loss: 0.5390\n",
            "Epoch 85/1000\n",
            "1034/1034 [==============================] - 2s 2ms/step - loss: 0.5436 - val_loss: 0.5384\n",
            "Epoch 86/1000\n",
            "1034/1034 [==============================] - 2s 2ms/step - loss: 0.5434 - val_loss: 0.5390\n",
            "Epoch 87/1000\n",
            "1034/1034 [==============================] - 2s 2ms/step - loss: 0.5434 - val_loss: 0.5390\n",
            "Epoch 88/1000\n",
            "1034/1034 [==============================] - 2s 2ms/step - loss: 0.5433 - val_loss: 0.5394\n",
            "Epoch 89/1000\n",
            "1034/1034 [==============================] - 2s 2ms/step - loss: 0.5432 - val_loss: 0.5388\n",
            "Epoch 90/1000\n",
            "1034/1034 [==============================] - 2s 2ms/step - loss: 0.5430 - val_loss: 0.5383\n",
            "Epoch 91/1000\n",
            "1034/1034 [==============================] - 2s 2ms/step - loss: 0.5430 - val_loss: 0.5386\n",
            "Epoch 92/1000\n",
            "1034/1034 [==============================] - 2s 2ms/step - loss: 0.5427 - val_loss: 0.5380\n",
            "Epoch 93/1000\n",
            "1034/1034 [==============================] - 2s 2ms/step - loss: 0.5429 - val_loss: 0.5381\n",
            "Epoch 94/1000\n",
            "1034/1034 [==============================] - 2s 2ms/step - loss: 0.5427 - val_loss: 0.5389\n",
            "Epoch 95/1000\n",
            "1034/1034 [==============================] - 2s 2ms/step - loss: 0.5425 - val_loss: 0.5379\n",
            "Epoch 96/1000\n",
            "1034/1034 [==============================] - 2s 2ms/step - loss: 0.5424 - val_loss: 0.5376\n",
            "Epoch 97/1000\n",
            "1034/1034 [==============================] - 2s 2ms/step - loss: 0.5425 - val_loss: 0.5381\n",
            "Epoch 98/1000\n",
            "1034/1034 [==============================] - 2s 2ms/step - loss: 0.5423 - val_loss: 0.5381\n",
            "Epoch 99/1000\n",
            "1034/1034 [==============================] - 2s 2ms/step - loss: 0.5424 - val_loss: 0.5385\n",
            "Epoch 100/1000\n",
            "1034/1034 [==============================] - 2s 2ms/step - loss: 0.5423 - val_loss: 0.5380\n",
            "Epoch 101/1000\n",
            "1034/1034 [==============================] - 2s 2ms/step - loss: 0.5424 - val_loss: 0.5379\n",
            "Epoch 102/1000\n",
            "1034/1034 [==============================] - 2s 2ms/step - loss: 0.5420 - val_loss: 0.5379\n",
            "Epoch 103/1000\n",
            "1034/1034 [==============================] - 2s 2ms/step - loss: 0.5422 - val_loss: 0.5390\n",
            "Epoch 104/1000\n",
            "1034/1034 [==============================] - 2s 2ms/step - loss: 0.5420 - val_loss: 0.5383\n",
            "Epoch 105/1000\n",
            "1034/1034 [==============================] - 2s 2ms/step - loss: 0.5421 - val_loss: 0.5378\n",
            "Epoch 106/1000\n",
            "1034/1034 [==============================] - 2s 2ms/step - loss: 0.5419 - val_loss: 0.5384\n",
            "Epoch 107/1000\n",
            "1034/1034 [==============================] - 2s 2ms/step - loss: 0.5419 - val_loss: 0.5386\n",
            "Epoch 108/1000\n",
            "1034/1034 [==============================] - 2s 2ms/step - loss: 0.5417 - val_loss: 0.5375\n",
            "Epoch 109/1000\n",
            "1034/1034 [==============================] - 2s 2ms/step - loss: 0.5418 - val_loss: 0.5383\n",
            "Epoch 110/1000\n",
            "1034/1034 [==============================] - 2s 2ms/step - loss: 0.5418 - val_loss: 0.5384\n",
            "Epoch 111/1000\n",
            "1034/1034 [==============================] - 2s 2ms/step - loss: 0.5417 - val_loss: 0.5381\n",
            "Epoch 112/1000\n",
            "1034/1034 [==============================] - 2s 2ms/step - loss: 0.5418 - val_loss: 0.5371\n",
            "Epoch 113/1000\n",
            "1034/1034 [==============================] - 2s 2ms/step - loss: 0.5417 - val_loss: 0.5375\n",
            "Epoch 114/1000\n",
            "1034/1034 [==============================] - 2s 2ms/step - loss: 0.5416 - val_loss: 0.5384\n",
            "Epoch 115/1000\n",
            "1034/1034 [==============================] - 2s 2ms/step - loss: 0.5414 - val_loss: 0.5377\n",
            "Epoch 116/1000\n",
            "1034/1034 [==============================] - 2s 2ms/step - loss: 0.5415 - val_loss: 0.5377\n",
            "Epoch 117/1000\n",
            "1034/1034 [==============================] - 2s 2ms/step - loss: 0.5416 - val_loss: 0.5379\n",
            "Epoch 118/1000\n",
            "1034/1034 [==============================] - 2s 2ms/step - loss: 0.5416 - val_loss: 0.5379\n",
            "Epoch 119/1000\n",
            "1034/1034 [==============================] - 2s 2ms/step - loss: 0.5414 - val_loss: 0.5380\n",
            "Epoch 120/1000\n",
            "1034/1034 [==============================] - 2s 2ms/step - loss: 0.5414 - val_loss: 0.5387\n",
            "Epoch 121/1000\n",
            "1034/1034 [==============================] - 2s 2ms/step - loss: 0.5413 - val_loss: 0.5375\n",
            "Epoch 122/1000\n",
            "1034/1034 [==============================] - 2s 2ms/step - loss: 0.5414 - val_loss: 0.5377\n",
            "Epoch 123/1000\n",
            "1034/1034 [==============================] - 2s 2ms/step - loss: 0.5415 - val_loss: 0.5383\n",
            "Epoch 124/1000\n",
            "1034/1034 [==============================] - 2s 2ms/step - loss: 0.5414 - val_loss: 0.5380\n",
            "Epoch 125/1000\n",
            "1034/1034 [==============================] - 2s 2ms/step - loss: 0.5412 - val_loss: 0.5379\n",
            "Epoch 126/1000\n",
            "1034/1034 [==============================] - 2s 2ms/step - loss: 0.5412 - val_loss: 0.5384\n",
            "Epoch 127/1000\n",
            "1034/1034 [==============================] - 2s 2ms/step - loss: 0.5413 - val_loss: 0.5381\n",
            "Epoch 128/1000\n",
            "1034/1034 [==============================] - 2s 2ms/step - loss: 0.5412 - val_loss: 0.5376\n",
            "Epoch 129/1000\n",
            "1034/1034 [==============================] - 2s 2ms/step - loss: 0.5412 - val_loss: 0.5382\n",
            "Epoch 130/1000\n",
            "1034/1034 [==============================] - 2s 2ms/step - loss: 0.5410 - val_loss: 0.5378\n",
            "Epoch 131/1000\n",
            "1034/1034 [==============================] - 2s 2ms/step - loss: 0.5412 - val_loss: 0.5378\n",
            "Epoch 132/1000\n",
            "1034/1034 [==============================] - 2s 2ms/step - loss: 0.5409 - val_loss: 0.5386\n",
            "Epoch 133/1000\n",
            "1034/1034 [==============================] - 2s 2ms/step - loss: 0.5412 - val_loss: 0.5379\n",
            "Epoch 134/1000\n",
            "1034/1034 [==============================] - 2s 2ms/step - loss: 0.5409 - val_loss: 0.5372\n",
            "Epoch 135/1000\n",
            "1034/1034 [==============================] - 2s 2ms/step - loss: 0.5410 - val_loss: 0.5369\n",
            "Epoch 136/1000\n",
            "1034/1034 [==============================] - 2s 2ms/step - loss: 0.5408 - val_loss: 0.5378\n",
            "Epoch 137/1000\n",
            "1034/1034 [==============================] - 2s 2ms/step - loss: 0.5408 - val_loss: 0.5378\n",
            "Epoch 138/1000\n",
            "1034/1034 [==============================] - 2s 2ms/step - loss: 0.5409 - val_loss: 0.5379\n",
            "Epoch 139/1000\n",
            "1034/1034 [==============================] - 2s 2ms/step - loss: 0.5410 - val_loss: 0.5380\n",
            "Epoch 140/1000\n",
            "1034/1034 [==============================] - 2s 2ms/step - loss: 0.5409 - val_loss: 0.5376\n",
            "Epoch 141/1000\n",
            "1034/1034 [==============================] - 2s 2ms/step - loss: 0.5409 - val_loss: 0.5377\n",
            "Epoch 142/1000\n",
            "1034/1034 [==============================] - 2s 2ms/step - loss: 0.5410 - val_loss: 0.5381\n",
            "Epoch 143/1000\n",
            "1034/1034 [==============================] - 2s 2ms/step - loss: 0.5408 - val_loss: 0.5377\n",
            "Epoch 144/1000\n",
            "1034/1034 [==============================] - 2s 2ms/step - loss: 0.5409 - val_loss: 0.5378\n",
            "Epoch 145/1000\n",
            "1034/1034 [==============================] - 2s 2ms/step - loss: 0.5408 - val_loss: 0.5381\n",
            "Epoch 146/1000\n",
            "1034/1034 [==============================] - 2s 2ms/step - loss: 0.5408 - val_loss: 0.5385\n",
            "Epoch 147/1000\n",
            "1034/1034 [==============================] - 2s 2ms/step - loss: 0.5409 - val_loss: 0.5375\n",
            "Epoch 148/1000\n",
            "1034/1034 [==============================] - 2s 2ms/step - loss: 0.5410 - val_loss: 0.5379\n",
            "Epoch 149/1000\n",
            "1034/1034 [==============================] - 2s 2ms/step - loss: 0.5407 - val_loss: 0.5379\n",
            "Epoch 150/1000\n",
            "1034/1034 [==============================] - 2s 2ms/step - loss: 0.5408 - val_loss: 0.5389\n",
            "Epoch 151/1000\n",
            "1034/1034 [==============================] - 2s 2ms/step - loss: 0.5405 - val_loss: 0.5385\n",
            "Epoch 152/1000\n",
            "1034/1034 [==============================] - 2s 2ms/step - loss: 0.5408 - val_loss: 0.5387\n",
            "Epoch 153/1000\n",
            "1034/1034 [==============================] - 2s 2ms/step - loss: 0.5406 - val_loss: 0.5375\n",
            "Epoch 154/1000\n",
            "1034/1034 [==============================] - 2s 2ms/step - loss: 0.5407 - val_loss: 0.5386\n",
            "Epoch 155/1000\n",
            "1034/1034 [==============================] - 2s 2ms/step - loss: 0.5407 - val_loss: 0.5377\n",
            "Epoch 156/1000\n",
            "1034/1034 [==============================] - 2s 2ms/step - loss: 0.5406 - val_loss: 0.5377\n",
            "Epoch 157/1000\n",
            "1034/1034 [==============================] - 2s 2ms/step - loss: 0.5407 - val_loss: 0.5375\n",
            "Epoch 158/1000\n",
            "1034/1034 [==============================] - 2s 2ms/step - loss: 0.5407 - val_loss: 0.5378\n",
            "Epoch 159/1000\n",
            "1034/1034 [==============================] - 2s 2ms/step - loss: 0.5405 - val_loss: 0.5370\n",
            "Epoch 160/1000\n",
            "1034/1034 [==============================] - 2s 2ms/step - loss: 0.5407 - val_loss: 0.5378\n",
            "Epoch 00160: early stopping\n"
          ],
          "name": "stdout"
        },
        {
          "output_type": "execute_result",
          "data": {
            "text/plain": [
              "<tensorflow.python.keras.callbacks.History at 0x7f8a7530dcc0>"
            ]
          },
          "metadata": {
            "tags": []
          },
          "execution_count": 206
        }
      ]
    },
    {
      "cell_type": "markdown",
      "metadata": {
        "id": "WN6-xJrjAJ9c",
        "colab_type": "text"
      },
      "source": [
        "#### Model Loss\n",
        "\n",
        "**The below figure shows the number of epochs at which the loss values flatten out, we have selected a patience value of 25, which means that the model will continue to execute for 25 epochs after the curve flattens to ensure that there is no subsequent change in loss value**"
      ]
    },
    {
      "cell_type": "code",
      "metadata": {
        "id": "GZlSWhgabxrj",
        "colab_type": "code",
        "colab": {}
      },
      "source": [
        "model_loss = pd.DataFrame(ann1.history.history)"
      ],
      "execution_count": 0,
      "outputs": []
    },
    {
      "cell_type": "code",
      "metadata": {
        "id": "E8FX0tVjb5hi",
        "colab_type": "code",
        "outputId": "281cead5-36c8-455b-f529-3ffc0a262ab4",
        "colab": {
          "base_uri": "https://localhost:8080/",
          "height": 282
        }
      },
      "source": [
        "model_loss.plot()"
      ],
      "execution_count": 208,
      "outputs": [
        {
          "output_type": "execute_result",
          "data": {
            "text/plain": [
              "<matplotlib.axes._subplots.AxesSubplot at 0x7f8a761583c8>"
            ]
          },
          "metadata": {
            "tags": []
          },
          "execution_count": 208
        },
        {
          "output_type": "display_data",
          "data": {
            "image/png": "[encoded data removed]",
            "text/plain": [
              "<Figure size 432x288 with 1 Axes>"
            ]
          },
          "metadata": {
            "tags": [],
            "needs_background": "light"
          }
        }
      ]
    },
    {
      "cell_type": "code",
      "metadata": {
        "id": "POULDthyb9fY",
        "colab_type": "code",
        "colab": {}
      },
      "source": [
        "pred = np.stack(ann1.predict_classes(X_test),axis =1)[0]\n",
        "annpred1 = pred"
      ],
      "execution_count": 0,
      "outputs": []
    },
    {
      "cell_type": "code",
      "metadata": {
        "id": "Kscimyl2cBxm",
        "colab_type": "code",
        "outputId": "e7a5a8f3-5b5f-4623-fdfd-7db5bdb298be",
        "colab": {
          "base_uri": "https://localhost:8080/",
          "height": 367
        }
      },
      "source": [
        "print(classification_report(y_test,pred))\n",
        "print(\"Accuracy Score: \",accuracy_score(y_test,pred))\n",
        "print(\"Recall Score: \",recall_score(y_test,pred))\n",
        "print(\"F1 Score: \",f1_score(y_test,pred))\n",
        "pd.crosstab(y_test, pred, rownames=['True'], colnames=['Predicted'], margins=True)"
      ],
      "execution_count": 210,
      "outputs": [
        {
          "output_type": "stream",
          "text": [
            "              precision    recall  f1-score   support\n",
            "\n",
            "           0       0.72      0.75      0.74      6992\n",
            "           1       0.75      0.72      0.73      7183\n",
            "\n",
            "    accuracy                           0.74     14175\n",
            "   macro avg       0.74      0.74      0.74     14175\n",
            "weighted avg       0.74      0.74      0.74     14175\n",
            "\n",
            "Accuracy Score:  0.7350970017636684\n",
            "Recall Score:  0.719476541834888\n",
            "F1 Score:  0.7335178482719468\n"
          ],
          "name": "stdout"
        },
        {
          "output_type": "execute_result",
          "data": {
            "text/html": [
              "<div>\n",
              "<style scoped>\n",
              "    .dataframe tbody tr th:only-of-type {\n",
              "        vertical-align: middle;\n",
              "    }\n",
              "\n",
              "    .dataframe tbody tr th {\n",
              "        vertical-align: top;\n",
              "    }\n",
              "\n",
              "    .dataframe thead th {\n",
              "        text-align: right;\n",
              "    }\n",
              "</style>\n",
              "<table border=\"1\" class=\"dataframe\">\n",
              "  <thead>\n",
              "    <tr style=\"text-align: right;\">\n",
              "      <th>Predicted</th>\n",
              "      <th>0</th>\n",
              "      <th>1</th>\n",
              "      <th>All</th>\n",
              "    </tr>\n",
              "    <tr>\n",
              "      <th>True</th>\n",
              "      <th></th>\n",
              "      <th></th>\n",
              "      <th></th>\n",
              "    </tr>\n",
              "  </thead>\n",
              "  <tbody>\n",
              "    <tr>\n",
              "      <th>0</th>\n",
              "      <td>5252</td>\n",
              "      <td>1740</td>\n",
              "      <td>6992</td>\n",
              "    </tr>\n",
              "    <tr>\n",
              "      <th>1</th>\n",
              "      <td>2015</td>\n",
              "      <td>5168</td>\n",
              "      <td>7183</td>\n",
              "    </tr>\n",
              "    <tr>\n",
              "      <th>All</th>\n",
              "      <td>7267</td>\n",
              "      <td>6908</td>\n",
              "      <td>14175</td>\n",
              "    </tr>\n",
              "  </tbody>\n",
              "</table>\n",
              "</div>"
            ],
            "text/plain": [
              "Predicted     0     1    All\n",
              "True                        \n",
              "0          5252  1740   6992\n",
              "1          2015  5168   7183\n",
              "All        7267  6908  14175"
            ]
          },
          "metadata": {
            "tags": []
          },
          "execution_count": 210
        }
      ]
    },
    {
      "cell_type": "markdown",
      "metadata": {
        "id": "oIqvgPP7jQ7A",
        "colab_type": "text"
      },
      "source": [
        "#### ROC Curve\n",
        "**The ROC Curve can be seen below, it has an AUC value of 0.805**"
      ]
    },
    {
      "cell_type": "code",
      "metadata": {
        "id": "bt2B6F51jgTw",
        "colab_type": "code",
        "colab": {
          "base_uri": "https://localhost:8080/",
          "height": 530
        },
        "outputId": "82deaeb5-cfba-4eb5-b557-0946b2f4520f"
      },
      "source": [
        "generate_ann_roc(ann1,y_test,'ANN 1')"
      ],
      "execution_count": 213,
      "outputs": [
        {
          "output_type": "stream",
          "text": [
            "No Skill: ROC AUC=0.500\n",
            "ANN 1: ROC AUC=0.805\n"
          ],
          "name": "stdout"
        },
        {
          "output_type": "display_data",
          "data": {
            "image/png": "[encoded data removed]",
            "text/plain": [
              "<Figure size 1152x576 with 1 Axes>"
            ]
          },
          "metadata": {
            "tags": [],
            "needs_background": "light"
          }
        }
      ]
    },
    {
      "cell_type": "markdown",
      "metadata": {
        "id": "6DxYJT_zazm-",
        "colab_type": "text"
      },
      "source": [
        "#### Best Model Table\n",
        "\n",
        "**Due to higher accuracy and recall values, we select the tuned model as the best model**"
      ]
    },
    {
      "cell_type": "code",
      "metadata": {
        "id": "i_-VW42Fa0Me",
        "colab_type": "code",
        "colab": {
          "base_uri": "https://localhost:8080/",
          "height": 106
        },
        "outputId": "1854caac-de07-4b93-ce75-c9aa57e72325"
      },
      "source": [
        "Model_comparison_ANN1 = {'Model':['Baseline','Tuning results'],\n",
        "        'optimizer' :['sgd','sgd'],            \n",
        "        'batch_size':[32,32],                              \n",
        "        'epochs':[1,160],\n",
        "        'Hidden Layer Nodes':[16,12],\n",
        "        'Recall': [0.6885702352777391,0.719476541834888],\n",
        "        'Precision': [0.76,0.75],\n",
        "        'Accuracy': [0.7291005291005291,0.7350970017636684]\n",
        "       }\n",
        "pd.DataFrame(Model_comparison_ANN1)"
      ],
      "execution_count": 226,
      "outputs": [
        {
          "output_type": "execute_result",
          "data": {
            "text/html": [
              "<div>\n",
              "<style scoped>\n",
              "    .dataframe tbody tr th:only-of-type {\n",
              "        vertical-align: middle;\n",
              "    }\n",
              "\n",
              "    .dataframe tbody tr th {\n",
              "        vertical-align: top;\n",
              "    }\n",
              "\n",
              "    .dataframe thead th {\n",
              "        text-align: right;\n",
              "    }\n",
              "</style>\n",
              "<table border=\"1\" class=\"dataframe\">\n",
              "  <thead>\n",
              "    <tr style=\"text-align: right;\">\n",
              "      <th></th>\n",
              "      <th>Model</th>\n",
              "      <th>optimizer</th>\n",
              "      <th>batch_size</th>\n",
              "      <th>epochs</th>\n",
              "      <th>Hidden Layer Nodes</th>\n",
              "      <th>Recall</th>\n",
              "      <th>Precision</th>\n",
              "      <th>Accuracy</th>\n",
              "    </tr>\n",
              "  </thead>\n",
              "  <tbody>\n",
              "    <tr>\n",
              "      <th>0</th>\n",
              "      <td>Baseline</td>\n",
              "      <td>sgd</td>\n",
              "      <td>32</td>\n",
              "      <td>1</td>\n",
              "      <td>16</td>\n",
              "      <td>0.688570</td>\n",
              "      <td>0.76</td>\n",
              "      <td>0.729101</td>\n",
              "    </tr>\n",
              "    <tr>\n",
              "      <th>1</th>\n",
              "      <td>Tuning results</td>\n",
              "      <td>sgd</td>\n",
              "      <td>32</td>\n",
              "      <td>160</td>\n",
              "      <td>12</td>\n",
              "      <td>0.719477</td>\n",
              "      <td>0.75</td>\n",
              "      <td>0.735097</td>\n",
              "    </tr>\n",
              "  </tbody>\n",
              "</table>\n",
              "</div>"
            ],
            "text/plain": [
              "            Model optimizer  batch_size  ...    Recall  Precision  Accuracy\n",
              "0        Baseline       sgd          32  ...  0.688570       0.76  0.729101\n",
              "1  Tuning results       sgd          32  ...  0.719477       0.75  0.735097\n",
              "\n",
              "[2 rows x 8 columns]"
            ]
          },
          "metadata": {
            "tags": []
          },
          "execution_count": 226
        }
      ]
    },
    {
      "cell_type": "markdown",
      "metadata": {
        "id": "29lP_qVhde8_",
        "colab_type": "text"
      },
      "source": [
        "### Two Hidden Layers\n",
        "\n",
        "**The baseline model for zero hidden layers gives us an accuracy of 0.73 and a recall of 0.71**"
      ]
    },
    {
      "cell_type": "code",
      "metadata": {
        "id": "fKKy3WNoZYR8",
        "colab_type": "code",
        "colab": {}
      },
      "source": [
        "ann2 = Sequential()\n",
        "ann2.add(Dense(16))\n",
        "ann2.add(Dense(16))\n",
        "\n",
        "ann2.add(Dense(1, activation='sigmoid'))\n",
        "\n",
        "ann2.compile(loss='binary_crossentropy', optimizer='sgd')"
      ],
      "execution_count": 0,
      "outputs": []
    },
    {
      "cell_type": "code",
      "metadata": {
        "id": "BDSt1EMzZYFp",
        "colab_type": "code",
        "outputId": "e53f35c6-c16e-420b-c42a-e5abc789e25f",
        "colab": {
          "base_uri": "https://localhost:8080/",
          "height": 171
        }
      },
      "source": [
        "ann2.fit(x=X_train,y = y_train)"
      ],
      "execution_count": 215,
      "outputs": [
        {
          "output_type": "stream",
          "text": [
            "WARNING:tensorflow:Layer dense_23 is casting an input tensor from dtype float64 to the layer's dtype of float32, which is new behavior in TensorFlow 2.  The layer has dtype float32 because it's dtype defaults to floatx.\n",
            "\n",
            "If you intended to run this layer in float32, you can safely ignore this warning. If in doubt, this warning is likely only an issue if you are porting a TensorFlow 1.X model to TensorFlow 2.\n",
            "\n",
            "To change all layers to have dtype float64 by default, call `tf.keras.backend.set_floatx('float64')`. To change just this layer, pass dtype='float64' to the layer constructor. If you are the author of this layer, you can disable autocasting by passing autocast=False to the base Layer constructor.\n",
            "\n",
            "1034/1034 [==============================] - 1s 1ms/step - loss: 0.5766\n"
          ],
          "name": "stdout"
        },
        {
          "output_type": "execute_result",
          "data": {
            "text/plain": [
              "<tensorflow.python.keras.callbacks.History at 0x7f8a74f1fcf8>"
            ]
          },
          "metadata": {
            "tags": []
          },
          "execution_count": 215
        }
      ]
    },
    {
      "cell_type": "code",
      "metadata": {
        "id": "0nj7Y_9CZX5Y",
        "colab_type": "code",
        "outputId": "524158ac-c48a-4fbd-f230-cde192006f8a",
        "colab": {
          "base_uri": "https://localhost:8080/",
          "height": 367
        }
      },
      "source": [
        "pred = np.stack(ann2.predict_classes(X_test),axis =1)[0]\n",
        "\n",
        "print(classification_report(y_test,pred))\n",
        "print(\"Accuracy Score: \",accuracy_score(y_test,pred))\n",
        "print(\"Recall Score: \",recall_score(y_test,pred))\n",
        "print(\"F1 Score: \",f1_score(y_test,pred))\n",
        "pd.crosstab(y_test, pred, rownames=['True'], colnames=['Predicted'], margins=True)"
      ],
      "execution_count": 216,
      "outputs": [
        {
          "output_type": "stream",
          "text": [
            "              precision    recall  f1-score   support\n",
            "\n",
            "           0       0.72      0.75      0.73      6992\n",
            "           1       0.75      0.71      0.73      7183\n",
            "\n",
            "    accuracy                           0.73     14175\n",
            "   macro avg       0.73      0.73      0.73     14175\n",
            "weighted avg       0.73      0.73      0.73     14175\n",
            "\n",
            "Accuracy Score:  0.730652557319224\n",
            "Recall Score:  0.708339134066546\n",
            "F1 Score:  0.7271687866228383\n"
          ],
          "name": "stdout"
        },
        {
          "output_type": "execute_result",
          "data": {
            "text/html": [
              "<div>\n",
              "<style scoped>\n",
              "    .dataframe tbody tr th:only-of-type {\n",
              "        vertical-align: middle;\n",
              "    }\n",
              "\n",
              "    .dataframe tbody tr th {\n",
              "        vertical-align: top;\n",
              "    }\n",
              "\n",
              "    .dataframe thead th {\n",
              "        text-align: right;\n",
              "    }\n",
              "</style>\n",
              "<table border=\"1\" class=\"dataframe\">\n",
              "  <thead>\n",
              "    <tr style=\"text-align: right;\">\n",
              "      <th>Predicted</th>\n",
              "      <th>0</th>\n",
              "      <th>1</th>\n",
              "      <th>All</th>\n",
              "    </tr>\n",
              "    <tr>\n",
              "      <th>True</th>\n",
              "      <th></th>\n",
              "      <th></th>\n",
              "      <th></th>\n",
              "    </tr>\n",
              "  </thead>\n",
              "  <tbody>\n",
              "    <tr>\n",
              "      <th>0</th>\n",
              "      <td>5269</td>\n",
              "      <td>1723</td>\n",
              "      <td>6992</td>\n",
              "    </tr>\n",
              "    <tr>\n",
              "      <th>1</th>\n",
              "      <td>2095</td>\n",
              "      <td>5088</td>\n",
              "      <td>7183</td>\n",
              "    </tr>\n",
              "    <tr>\n",
              "      <th>All</th>\n",
              "      <td>7364</td>\n",
              "      <td>6811</td>\n",
              "      <td>14175</td>\n",
              "    </tr>\n",
              "  </tbody>\n",
              "</table>\n",
              "</div>"
            ],
            "text/plain": [
              "Predicted     0     1    All\n",
              "True                        \n",
              "0          5269  1723   6992\n",
              "1          2095  5088   7183\n",
              "All        7364  6811  14175"
            ]
          },
          "metadata": {
            "tags": []
          },
          "execution_count": 216
        }
      ]
    },
    {
      "cell_type": "markdown",
      "metadata": {
        "id": "tw_NC8_qZTKE",
        "colab_type": "text"
      },
      "source": [
        "#### Optimization\n",
        "\n",
        "**In order to optimize the neural network, the following hyperparameters were tuned:**\n",
        "\n",
        "- **optimizer: We tried various optimizers including sgd,adam,rmsprop and adagrad. We found that sgd and adam produced the best results**\n",
        "- **batch_size: Larger batch sizes seemed to lead to better performance, the default batch size of 32 gives the best results**\n",
        "- **epochs: In order to find the best value for epoch, the early stopping method was used.The early stopping method keeps track of the training loss and the validation loss and stops execution when the model starts to overfit**\n",
        "- **Hidden layer Nodes: The number of nodes in each of the hidden layers.**"
      ]
    },
    {
      "cell_type": "code",
      "metadata": {
        "id": "DdbnGSyTdlup",
        "colab_type": "code",
        "colab": {}
      },
      "source": [
        "ann2 = Sequential()\n",
        "ann2.add(Dense(12, activation='relu'))\n",
        "ann2.add(Dense(12, activation='relu'))\n",
        "\n",
        "ann2.add(Dense(1, activation='sigmoid'))\n",
        "\n",
        "ann2.compile(loss='binary_crossentropy', optimizer='sgd')"
      ],
      "execution_count": 0,
      "outputs": []
    },
    {
      "cell_type": "code",
      "metadata": {
        "id": "Q9xQBgl0dll1",
        "colab_type": "code",
        "colab": {}
      },
      "source": [
        "early_stop = EarlyStopping(monitor='val_loss',mode=\"min\",verbose=1,patience=15)"
      ],
      "execution_count": 0,
      "outputs": []
    },
    {
      "cell_type": "code",
      "metadata": {
        "id": "sbh40-CwdlJ0",
        "colab_type": "code",
        "outputId": "e366e9e1-8afe-4919-8cf5-935af61ad32a",
        "colab": {
          "base_uri": "https://localhost:8080/",
          "height": 1000
        }
      },
      "source": [
        "ann2.fit(x=X_train,y = y_train,epochs=1000,validation_data=(X_test,y_test),\n",
        "          callbacks = [early_stop],batch_size = 32)"
      ],
      "execution_count": 255,
      "outputs": [
        {
          "output_type": "stream",
          "text": [
            "Epoch 1/1000\n",
            "WARNING:tensorflow:Layer dense_38 is casting an input tensor from dtype float64 to the layer's dtype of float32, which is new behavior in TensorFlow 2.  The layer has dtype float32 because it's dtype defaults to floatx.\n",
            "\n",
            "If you intended to run this layer in float32, you can safely ignore this warning. If in doubt, this warning is likely only an issue if you are porting a TensorFlow 1.X model to TensorFlow 2.\n",
            "\n",
            "To change all layers to have dtype float64 by default, call `tf.keras.backend.set_floatx('float64')`. To change just this layer, pass dtype='float64' to the layer constructor. If you are the author of this layer, you can disable autocasting by passing autocast=False to the base Layer constructor.\n",
            "\n",
            "1034/1034 [==============================] - 2s 2ms/step - loss: 0.6374 - val_loss: 0.5890\n",
            "Epoch 2/1000\n",
            "1034/1034 [==============================] - 2s 2ms/step - loss: 0.5835 - val_loss: 0.5625\n",
            "Epoch 3/1000\n",
            "1034/1034 [==============================] - 2s 2ms/step - loss: 0.5677 - val_loss: 0.5536\n",
            "Epoch 4/1000\n",
            "1034/1034 [==============================] - 2s 2ms/step - loss: 0.5623 - val_loss: 0.5507\n",
            "Epoch 5/1000\n",
            "1034/1034 [==============================] - 2s 2ms/step - loss: 0.5593 - val_loss: 0.5492\n",
            "Epoch 6/1000\n",
            "1034/1034 [==============================] - 2s 2ms/step - loss: 0.5571 - val_loss: 0.5476\n",
            "Epoch 7/1000\n",
            "1034/1034 [==============================] - 2s 2ms/step - loss: 0.5553 - val_loss: 0.5464\n",
            "Epoch 8/1000\n",
            "1034/1034 [==============================] - 2s 2ms/step - loss: 0.5540 - val_loss: 0.5456\n",
            "Epoch 9/1000\n",
            "1034/1034 [==============================] - 2s 2ms/step - loss: 0.5527 - val_loss: 0.5448\n",
            "Epoch 10/1000\n",
            "1034/1034 [==============================] - 2s 2ms/step - loss: 0.5518 - val_loss: 0.5438\n",
            "Epoch 11/1000\n",
            "1034/1034 [==============================] - 2s 2ms/step - loss: 0.5509 - val_loss: 0.5432\n",
            "Epoch 12/1000\n",
            "1034/1034 [==============================] - 2s 2ms/step - loss: 0.5502 - val_loss: 0.5433\n",
            "Epoch 13/1000\n",
            "1034/1034 [==============================] - 2s 2ms/step - loss: 0.5496 - val_loss: 0.5427\n",
            "Epoch 14/1000\n",
            "1034/1034 [==============================] - 2s 2ms/step - loss: 0.5489 - val_loss: 0.5419\n",
            "Epoch 15/1000\n",
            "1034/1034 [==============================] - 2s 2ms/step - loss: 0.5484 - val_loss: 0.5430\n",
            "Epoch 16/1000\n",
            "1034/1034 [==============================] - 2s 2ms/step - loss: 0.5479 - val_loss: 0.5412\n",
            "Epoch 17/1000\n",
            "1034/1034 [==============================] - 2s 2ms/step - loss: 0.5474 - val_loss: 0.5413\n",
            "Epoch 18/1000\n",
            "1034/1034 [==============================] - 2s 2ms/step - loss: 0.5471 - val_loss: 0.5427\n",
            "Epoch 19/1000\n",
            "1034/1034 [==============================] - 2s 2ms/step - loss: 0.5466 - val_loss: 0.5416\n",
            "Epoch 20/1000\n",
            "1034/1034 [==============================] - 2s 2ms/step - loss: 0.5461 - val_loss: 0.5405\n",
            "Epoch 21/1000\n",
            "1034/1034 [==============================] - 2s 2ms/step - loss: 0.5459 - val_loss: 0.5408\n",
            "Epoch 22/1000\n",
            "1034/1034 [==============================] - 2s 2ms/step - loss: 0.5455 - val_loss: 0.5412\n",
            "Epoch 23/1000\n",
            "1034/1034 [==============================] - 2s 2ms/step - loss: 0.5453 - val_loss: 0.5403\n",
            "Epoch 24/1000\n",
            "1034/1034 [==============================] - 2s 2ms/step - loss: 0.5449 - val_loss: 0.5398\n",
            "Epoch 25/1000\n",
            "1034/1034 [==============================] - 2s 2ms/step - loss: 0.5447 - val_loss: 0.5400\n",
            "Epoch 26/1000\n",
            "1034/1034 [==============================] - 2s 2ms/step - loss: 0.5447 - val_loss: 0.5401\n",
            "Epoch 27/1000\n",
            "1034/1034 [==============================] - 2s 2ms/step - loss: 0.5444 - val_loss: 0.5396\n",
            "Epoch 28/1000\n",
            "1034/1034 [==============================] - 2s 2ms/step - loss: 0.5442 - val_loss: 0.5400\n",
            "Epoch 29/1000\n",
            "1034/1034 [==============================] - 2s 2ms/step - loss: 0.5438 - val_loss: 0.5397\n",
            "Epoch 30/1000\n",
            "1034/1034 [==============================] - 2s 2ms/step - loss: 0.5437 - val_loss: 0.5394\n",
            "Epoch 31/1000\n",
            "1034/1034 [==============================] - 2s 2ms/step - loss: 0.5434 - val_loss: 0.5401\n",
            "Epoch 32/1000\n",
            "1034/1034 [==============================] - 2s 2ms/step - loss: 0.5434 - val_loss: 0.5400\n",
            "Epoch 33/1000\n",
            "1034/1034 [==============================] - 2s 2ms/step - loss: 0.5433 - val_loss: 0.5390\n",
            "Epoch 34/1000\n",
            "1034/1034 [==============================] - 2s 2ms/step - loss: 0.5431 - val_loss: 0.5397\n",
            "Epoch 35/1000\n",
            "1034/1034 [==============================] - 2s 2ms/step - loss: 0.5430 - val_loss: 0.5394\n",
            "Epoch 36/1000\n",
            "1034/1034 [==============================] - 2s 2ms/step - loss: 0.5429 - val_loss: 0.5391\n",
            "Epoch 37/1000\n",
            "1034/1034 [==============================] - 2s 2ms/step - loss: 0.5427 - val_loss: 0.5391\n",
            "Epoch 38/1000\n",
            "1034/1034 [==============================] - 2s 2ms/step - loss: 0.5425 - val_loss: 0.5393\n",
            "Epoch 39/1000\n",
            "1034/1034 [==============================] - 2s 2ms/step - loss: 0.5426 - val_loss: 0.5394\n",
            "Epoch 40/1000\n",
            "1034/1034 [==============================] - 2s 2ms/step - loss: 0.5424 - val_loss: 0.5386\n",
            "Epoch 41/1000\n",
            "1034/1034 [==============================] - 2s 2ms/step - loss: 0.5421 - val_loss: 0.5390\n",
            "Epoch 42/1000\n",
            "1034/1034 [==============================] - 2s 2ms/step - loss: 0.5422 - val_loss: 0.5388\n",
            "Epoch 43/1000\n",
            "1034/1034 [==============================] - 2s 2ms/step - loss: 0.5420 - val_loss: 0.5389\n",
            "Epoch 44/1000\n",
            "1034/1034 [==============================] - 2s 2ms/step - loss: 0.5419 - val_loss: 0.5388\n",
            "Epoch 45/1000\n",
            "1034/1034 [==============================] - 2s 2ms/step - loss: 0.5418 - val_loss: 0.5387\n",
            "Epoch 46/1000\n",
            "1034/1034 [==============================] - 2s 2ms/step - loss: 0.5416 - val_loss: 0.5385\n",
            "Epoch 47/1000\n",
            "1034/1034 [==============================] - 2s 2ms/step - loss: 0.5415 - val_loss: 0.5384\n",
            "Epoch 48/1000\n",
            "1034/1034 [==============================] - 2s 2ms/step - loss: 0.5413 - val_loss: 0.5386\n",
            "Epoch 49/1000\n",
            "1034/1034 [==============================] - 2s 2ms/step - loss: 0.5413 - val_loss: 0.5389\n",
            "Epoch 50/1000\n",
            "1034/1034 [==============================] - 2s 2ms/step - loss: 0.5415 - val_loss: 0.5399\n",
            "Epoch 51/1000\n",
            "1034/1034 [==============================] - 2s 2ms/step - loss: 0.5412 - val_loss: 0.5390\n",
            "Epoch 52/1000\n",
            "1034/1034 [==============================] - 2s 2ms/step - loss: 0.5411 - val_loss: 0.5383\n",
            "Epoch 53/1000\n",
            "1034/1034 [==============================] - 2s 2ms/step - loss: 0.5410 - val_loss: 0.5390\n",
            "Epoch 54/1000\n",
            "1034/1034 [==============================] - 2s 2ms/step - loss: 0.5410 - val_loss: 0.5380\n",
            "Epoch 55/1000\n",
            "1034/1034 [==============================] - 2s 2ms/step - loss: 0.5408 - val_loss: 0.5398\n",
            "Epoch 56/1000\n",
            "1034/1034 [==============================] - 2s 2ms/step - loss: 0.5408 - val_loss: 0.5381\n",
            "Epoch 57/1000\n",
            "1034/1034 [==============================] - 2s 2ms/step - loss: 0.5408 - val_loss: 0.5393\n",
            "Epoch 58/1000\n",
            "1034/1034 [==============================] - 2s 2ms/step - loss: 0.5406 - val_loss: 0.5381\n",
            "Epoch 59/1000\n",
            "1034/1034 [==============================] - 2s 2ms/step - loss: 0.5406 - val_loss: 0.5380\n",
            "Epoch 60/1000\n",
            "1034/1034 [==============================] - 2s 2ms/step - loss: 0.5406 - val_loss: 0.5378\n",
            "Epoch 61/1000\n",
            "1034/1034 [==============================] - 2s 2ms/step - loss: 0.5407 - val_loss: 0.5387\n",
            "Epoch 62/1000\n",
            "1034/1034 [==============================] - 2s 2ms/step - loss: 0.5406 - val_loss: 0.5387\n",
            "Epoch 63/1000\n",
            "1034/1034 [==============================] - 2s 2ms/step - loss: 0.5406 - val_loss: 0.5380\n",
            "Epoch 64/1000\n",
            "1034/1034 [==============================] - 2s 2ms/step - loss: 0.5405 - val_loss: 0.5383\n",
            "Epoch 65/1000\n",
            "1034/1034 [==============================] - 2s 2ms/step - loss: 0.5404 - val_loss: 0.5382\n",
            "Epoch 66/1000\n",
            "1034/1034 [==============================] - 2s 2ms/step - loss: 0.5402 - val_loss: 0.5383\n",
            "Epoch 67/1000\n",
            "1034/1034 [==============================] - 2s 2ms/step - loss: 0.5402 - val_loss: 0.5386\n",
            "Epoch 68/1000\n",
            "1034/1034 [==============================] - 2s 2ms/step - loss: 0.5402 - val_loss: 0.5380\n",
            "Epoch 69/1000\n",
            "1034/1034 [==============================] - 2s 2ms/step - loss: 0.5403 - val_loss: 0.5381\n",
            "Epoch 70/1000\n",
            "1034/1034 [==============================] - 2s 2ms/step - loss: 0.5400 - val_loss: 0.5383\n",
            "Epoch 71/1000\n",
            "1034/1034 [==============================] - 2s 2ms/step - loss: 0.5399 - val_loss: 0.5379\n",
            "Epoch 72/1000\n",
            "1034/1034 [==============================] - 2s 2ms/step - loss: 0.5401 - val_loss: 0.5382\n",
            "Epoch 73/1000\n",
            "1034/1034 [==============================] - 2s 2ms/step - loss: 0.5399 - val_loss: 0.5377\n",
            "Epoch 74/1000\n",
            "1034/1034 [==============================] - 2s 2ms/step - loss: 0.5400 - val_loss: 0.5378\n",
            "Epoch 75/1000\n",
            "1034/1034 [==============================] - 2s 2ms/step - loss: 0.5402 - val_loss: 0.5380\n",
            "Epoch 76/1000\n",
            "1034/1034 [==============================] - 2s 2ms/step - loss: 0.5401 - val_loss: 0.5382\n",
            "Epoch 77/1000\n",
            "1034/1034 [==============================] - 2s 2ms/step - loss: 0.5400 - val_loss: 0.5379\n",
            "Epoch 78/1000\n",
            "1034/1034 [==============================] - 2s 2ms/step - loss: 0.5400 - val_loss: 0.5381\n",
            "Epoch 79/1000\n",
            "1034/1034 [==============================] - 2s 2ms/step - loss: 0.5399 - val_loss: 0.5388\n",
            "Epoch 80/1000\n",
            "1034/1034 [==============================] - 2s 2ms/step - loss: 0.5398 - val_loss: 0.5381\n",
            "Epoch 81/1000\n",
            "1034/1034 [==============================] - 2s 2ms/step - loss: 0.5397 - val_loss: 0.5382\n",
            "Epoch 82/1000\n",
            "1034/1034 [==============================] - 2s 2ms/step - loss: 0.5399 - val_loss: 0.5384\n",
            "Epoch 83/1000\n",
            "1034/1034 [==============================] - 2s 2ms/step - loss: 0.5398 - val_loss: 0.5386\n",
            "Epoch 84/1000\n",
            "1034/1034 [==============================] - 2s 2ms/step - loss: 0.5396 - val_loss: 0.5380\n",
            "Epoch 85/1000\n",
            "1034/1034 [==============================] - 2s 2ms/step - loss: 0.5396 - val_loss: 0.5381\n",
            "Epoch 86/1000\n",
            "1034/1034 [==============================] - 2s 2ms/step - loss: 0.5397 - val_loss: 0.5379\n",
            "Epoch 87/1000\n",
            "1034/1034 [==============================] - 2s 2ms/step - loss: 0.5397 - val_loss: 0.5380\n",
            "Epoch 88/1000\n",
            "1034/1034 [==============================] - 2s 2ms/step - loss: 0.5396 - val_loss: 0.5380\n",
            "Epoch 00088: early stopping\n"
          ],
          "name": "stdout"
        },
        {
          "output_type": "execute_result",
          "data": {
            "text/plain": [
              "<tensorflow.python.keras.callbacks.History at 0x7f8a74d88668>"
            ]
          },
          "metadata": {
            "tags": []
          },
          "execution_count": 255
        }
      ]
    },
    {
      "cell_type": "markdown",
      "metadata": {
        "id": "_DjtGZXdA07Q",
        "colab_type": "text"
      },
      "source": [
        "#### Model Loss\n",
        "\n",
        "**The below figure shows the number of epochs at which the loss values flatten out, we have selected a patience value of 25, which means that the model will continue to execute for 25 epochs after the curve flattens to ensure that there is no subsequent change in loss value**"
      ]
    },
    {
      "cell_type": "code",
      "metadata": {
        "id": "INqI2ViCd3lx",
        "colab_type": "code",
        "colab": {}
      },
      "source": [
        "model_loss = pd.DataFrame(ann2.history.history)"
      ],
      "execution_count": 0,
      "outputs": []
    },
    {
      "cell_type": "code",
      "metadata": {
        "id": "uDMItCadd7mW",
        "colab_type": "code",
        "outputId": "24cf4799-b9c4-491f-9f4d-cdddefe24155",
        "colab": {
          "base_uri": "https://localhost:8080/",
          "height": 282
        }
      },
      "source": [
        "model_loss.plot()"
      ],
      "execution_count": 257,
      "outputs": [
        {
          "output_type": "execute_result",
          "data": {
            "text/plain": [
              "<matplotlib.axes._subplots.AxesSubplot at 0x7f8a61d64128>"
            ]
          },
          "metadata": {
            "tags": []
          },
          "execution_count": 257
        },
        {
          "output_type": "display_data",
          "data": {
            "image/png": "[encoded data removed]",
            "text/plain": [
              "<Figure size 432x288 with 1 Axes>"
            ]
          },
          "metadata": {
            "tags": [],
            "needs_background": "light"
          }
        }
      ]
    },
    {
      "cell_type": "code",
      "metadata": {
        "id": "tPUyvbZqd9JW",
        "colab_type": "code",
        "colab": {}
      },
      "source": [
        "pred = np.stack(ann2.predict_classes(X_test),axis =1)[0]\n",
        "annpred2 = pred"
      ],
      "execution_count": 0,
      "outputs": []
    },
    {
      "cell_type": "code",
      "metadata": {
        "id": "o_hIQnwMeC3h",
        "colab_type": "code",
        "outputId": "45f531b5-e60e-4572-ce89-e88209286cc6",
        "colab": {
          "base_uri": "https://localhost:8080/",
          "height": 367
        }
      },
      "source": [
        "print(classification_report(y_test,pred))\n",
        "print(\"Accuracy Score: \",accuracy_score(y_test,pred))\n",
        "print(\"Recall Score: \",recall_score(y_test,pred))\n",
        "print(\"F1 Score: \",f1_score(y_test,pred))\n",
        "pd.crosstab(y_test, pred, rownames=['True'], colnames=['Predicted'], margins=True)"
      ],
      "execution_count": 259,
      "outputs": [
        {
          "output_type": "stream",
          "text": [
            "              precision    recall  f1-score   support\n",
            "\n",
            "           0       0.72      0.77      0.75      6992\n",
            "           1       0.76      0.71      0.73      7183\n",
            "\n",
            "    accuracy                           0.74     14175\n",
            "   macro avg       0.74      0.74      0.74     14175\n",
            "weighted avg       0.74      0.74      0.74     14175\n",
            "\n",
            "Accuracy Score:  0.7391887125220459\n",
            "Recall Score:  0.7061116525128777\n",
            "F1 Score:  0.7328950220359801\n"
          ],
          "name": "stdout"
        },
        {
          "output_type": "execute_result",
          "data": {
            "text/html": [
              "<div>\n",
              "<style scoped>\n",
              "    .dataframe tbody tr th:only-of-type {\n",
              "        vertical-align: middle;\n",
              "    }\n",
              "\n",
              "    .dataframe tbody tr th {\n",
              "        vertical-align: top;\n",
              "    }\n",
              "\n",
              "    .dataframe thead th {\n",
              "        text-align: right;\n",
              "    }\n",
              "</style>\n",
              "<table border=\"1\" class=\"dataframe\">\n",
              "  <thead>\n",
              "    <tr style=\"text-align: right;\">\n",
              "      <th>Predicted</th>\n",
              "      <th>0</th>\n",
              "      <th>1</th>\n",
              "      <th>All</th>\n",
              "    </tr>\n",
              "    <tr>\n",
              "      <th>True</th>\n",
              "      <th></th>\n",
              "      <th></th>\n",
              "      <th></th>\n",
              "    </tr>\n",
              "  </thead>\n",
              "  <tbody>\n",
              "    <tr>\n",
              "      <th>0</th>\n",
              "      <td>5406</td>\n",
              "      <td>1586</td>\n",
              "      <td>6992</td>\n",
              "    </tr>\n",
              "    <tr>\n",
              "      <th>1</th>\n",
              "      <td>2111</td>\n",
              "      <td>5072</td>\n",
              "      <td>7183</td>\n",
              "    </tr>\n",
              "    <tr>\n",
              "      <th>All</th>\n",
              "      <td>7517</td>\n",
              "      <td>6658</td>\n",
              "      <td>14175</td>\n",
              "    </tr>\n",
              "  </tbody>\n",
              "</table>\n",
              "</div>"
            ],
            "text/plain": [
              "Predicted     0     1    All\n",
              "True                        \n",
              "0          5406  1586   6992\n",
              "1          2111  5072   7183\n",
              "All        7517  6658  14175"
            ]
          },
          "metadata": {
            "tags": []
          },
          "execution_count": 259
        }
      ]
    },
    {
      "cell_type": "markdown",
      "metadata": {
        "id": "50JpJ9rUkalw",
        "colab_type": "text"
      },
      "source": [
        "#### ROC Curve\n",
        "**The ROC Curve can be seen below, it has an AUC value of 0.804**"
      ]
    },
    {
      "cell_type": "code",
      "metadata": {
        "id": "tvVqlFEwkZT2",
        "colab_type": "code",
        "colab": {
          "base_uri": "https://localhost:8080/",
          "height": 530
        },
        "outputId": "6cfcd8f6-0bfd-4676-f74f-49691b67ff4a"
      },
      "source": [
        "generate_ann_roc(ann2,y_test,'ANN 2')"
      ],
      "execution_count": 260,
      "outputs": [
        {
          "output_type": "stream",
          "text": [
            "No Skill: ROC AUC=0.500\n",
            "ANN 2: ROC AUC=0.804\n"
          ],
          "name": "stdout"
        },
        {
          "output_type": "display_data",
          "data": {
            "image/png": "[encoded data removed]",
            "text/plain": [
              "<Figure size 1152x576 with 1 Axes>"
            ]
          },
          "metadata": {
            "tags": [],
            "needs_background": "light"
          }
        }
      ]
    },
    {
      "cell_type": "markdown",
      "metadata": {
        "id": "KwoyyoksA6lZ",
        "colab_type": "text"
      },
      "source": [
        "#### Best Model Table\n",
        "\n",
        "**Due to higher accuracy values, we select the tuned model as the best model**"
      ]
    },
    {
      "cell_type": "code",
      "metadata": {
        "id": "QgcE1o-zA6Uk",
        "colab_type": "code",
        "colab": {
          "base_uri": "https://localhost:8080/",
          "height": 106
        },
        "outputId": "6fd8b711-de41-4821-fc7e-81f25f4e8a52"
      },
      "source": [
        "Model_comparison_ANN2 = {'Model':['Baseline','Tuning results'],\n",
        "        'optimizer' :['sgd','sgd'],            \n",
        "        'batch_size':[32,32],                              \n",
        "        'epochs':[1,160],\n",
        "        'Hidden Layer 1 Nodes':[16,12],\n",
        "        'Hidden Layer 2 Nodes':[16,12],\n",
        "        'Recall': [0.708339134066546,0.7061116525128777],\n",
        "        'Precision': [0.75,0.76],\n",
        "        'Accuracy': [0.730652557319224,0.7391887125220459]\n",
        "       }\n",
        "pd.DataFrame(Model_comparison_ANN2)"
      ],
      "execution_count": 261,
      "outputs": [
        {
          "output_type": "execute_result",
          "data": {
            "text/html": [
              "<div>\n",
              "<style scoped>\n",
              "    .dataframe tbody tr th:only-of-type {\n",
              "        vertical-align: middle;\n",
              "    }\n",
              "\n",
              "    .dataframe tbody tr th {\n",
              "        vertical-align: top;\n",
              "    }\n",
              "\n",
              "    .dataframe thead th {\n",
              "        text-align: right;\n",
              "    }\n",
              "</style>\n",
              "<table border=\"1\" class=\"dataframe\">\n",
              "  <thead>\n",
              "    <tr style=\"text-align: right;\">\n",
              "      <th></th>\n",
              "      <th>Model</th>\n",
              "      <th>optimizer</th>\n",
              "      <th>batch_size</th>\n",
              "      <th>epochs</th>\n",
              "      <th>Hidden Layer 1 Nodes</th>\n",
              "      <th>Hidden Layer 2 Nodes</th>\n",
              "      <th>Recall</th>\n",
              "      <th>Precision</th>\n",
              "      <th>Accuracy</th>\n",
              "    </tr>\n",
              "  </thead>\n",
              "  <tbody>\n",
              "    <tr>\n",
              "      <th>0</th>\n",
              "      <td>Baseline</td>\n",
              "      <td>sgd</td>\n",
              "      <td>32</td>\n",
              "      <td>1</td>\n",
              "      <td>16</td>\n",
              "      <td>16</td>\n",
              "      <td>0.708339</td>\n",
              "      <td>0.75</td>\n",
              "      <td>0.730653</td>\n",
              "    </tr>\n",
              "    <tr>\n",
              "      <th>1</th>\n",
              "      <td>Tuning results</td>\n",
              "      <td>sgd</td>\n",
              "      <td>32</td>\n",
              "      <td>160</td>\n",
              "      <td>12</td>\n",
              "      <td>12</td>\n",
              "      <td>0.706112</td>\n",
              "      <td>0.76</td>\n",
              "      <td>0.739189</td>\n",
              "    </tr>\n",
              "  </tbody>\n",
              "</table>\n",
              "</div>"
            ],
            "text/plain": [
              "            Model optimizer  batch_size  ...    Recall  Precision  Accuracy\n",
              "0        Baseline       sgd          32  ...  0.708339       0.75  0.730653\n",
              "1  Tuning results       sgd          32  ...  0.706112       0.76  0.739189\n",
              "\n",
              "[2 rows x 9 columns]"
            ]
          },
          "metadata": {
            "tags": []
          },
          "execution_count": 261
        }
      ]
    },
    {
      "cell_type": "markdown",
      "metadata": {
        "id": "VTPLfPBfE5L0",
        "colab_type": "text"
      },
      "source": [
        "## Decision Trees\n",
        "\n",
        "**The baseline model for Decision Trees has an accuracy of 0.62 and a recall of 0.63**"
      ]
    },
    {
      "cell_type": "code",
      "metadata": {
        "id": "i2rBKmkgE4mq",
        "colab_type": "code",
        "colab": {}
      },
      "source": [
        "X = df_one_hot.drop('Disease',axis = 1)\n",
        "y = df_one_hot['Disease']"
      ],
      "execution_count": 0,
      "outputs": []
    },
    {
      "cell_type": "code",
      "metadata": {
        "id": "MngKxG-RFswN",
        "colab_type": "code",
        "colab": {}
      },
      "source": [
        "X_train, X_test, y_train, y_test = train_test_split(X, y, test_size=0.3, random_state=101)"
      ],
      "execution_count": 0,
      "outputs": []
    },
    {
      "cell_type": "code",
      "metadata": {
        "id": "_wTtZVT0FwAa",
        "colab_type": "code",
        "outputId": "4771ab0f-46ef-43b5-95e1-230855ab09f7",
        "colab": {
          "base_uri": "https://localhost:8080/",
          "height": 118
        }
      },
      "source": [
        "dtree = DecisionTreeClassifier()                        \n",
        "dtree.fit(X_train, y_train)"
      ],
      "execution_count": 118,
      "outputs": [
        {
          "output_type": "execute_result",
          "data": {
            "text/plain": [
              "DecisionTreeClassifier(ccp_alpha=0.0, class_weight=None, criterion='gini',\n",
              "                       max_depth=None, max_features=None, max_leaf_nodes=None,\n",
              "                       min_impurity_decrease=0.0, min_impurity_split=None,\n",
              "                       min_samples_leaf=1, min_samples_split=2,\n",
              "                       min_weight_fraction_leaf=0.0, presort='deprecated',\n",
              "                       random_state=None, splitter='best')"
            ]
          },
          "metadata": {
            "tags": []
          },
          "execution_count": 118
        }
      ]
    },
    {
      "cell_type": "code",
      "metadata": {
        "id": "HSOnE5RXHuVh",
        "colab_type": "code",
        "outputId": "6b943de1-6717-4cab-a14d-4f1d08adb3e4",
        "colab": {
          "base_uri": "https://localhost:8080/",
          "height": 367
        }
      },
      "source": [
        "pred = dtree.predict(X_test)\n",
        "dt_pred = pred\n",
        "\n",
        "print(classification_report(y_test,pred))\n",
        "print(\"Accuracy Score: \",accuracy_score(y_test,pred))\n",
        "print(\"Recall Score: \",recall_score(y_test,pred))\n",
        "print(\"F1 Score: \",f1_score(y_test,pred))\n",
        "pd.crosstab(y_test, pred, rownames=['True'], colnames=['Predicted'], margins=True)"
      ],
      "execution_count": 119,
      "outputs": [
        {
          "output_type": "stream",
          "text": [
            "              precision    recall  f1-score   support\n",
            "\n",
            "           0       0.62      0.61      0.61      6964\n",
            "           1       0.63      0.64      0.63      7211\n",
            "\n",
            "    accuracy                           0.62     14175\n",
            "   macro avg       0.62      0.62      0.62     14175\n",
            "weighted avg       0.62      0.62      0.62     14175\n",
            "\n",
            "Accuracy Score:  0.6234215167548501\n",
            "Recall Score:  0.6358341422826238\n",
            "F1 Score:  0.6320650675489384\n"
          ],
          "name": "stdout"
        },
        {
          "output_type": "execute_result",
          "data": {
            "text/html": [
              "<div>\n",
              "<style scoped>\n",
              "    .dataframe tbody tr th:only-of-type {\n",
              "        vertical-align: middle;\n",
              "    }\n",
              "\n",
              "    .dataframe tbody tr th {\n",
              "        vertical-align: top;\n",
              "    }\n",
              "\n",
              "    .dataframe thead th {\n",
              "        text-align: right;\n",
              "    }\n",
              "</style>\n",
              "<table border=\"1\" class=\"dataframe\">\n",
              "  <thead>\n",
              "    <tr style=\"text-align: right;\">\n",
              "      <th>Predicted</th>\n",
              "      <th>0</th>\n",
              "      <th>1</th>\n",
              "      <th>All</th>\n",
              "    </tr>\n",
              "    <tr>\n",
              "      <th>True</th>\n",
              "      <th></th>\n",
              "      <th></th>\n",
              "      <th></th>\n",
              "    </tr>\n",
              "  </thead>\n",
              "  <tbody>\n",
              "    <tr>\n",
              "      <th>0</th>\n",
              "      <td>4252</td>\n",
              "      <td>2712</td>\n",
              "      <td>6964</td>\n",
              "    </tr>\n",
              "    <tr>\n",
              "      <th>1</th>\n",
              "      <td>2626</td>\n",
              "      <td>4585</td>\n",
              "      <td>7211</td>\n",
              "    </tr>\n",
              "    <tr>\n",
              "      <th>All</th>\n",
              "      <td>6878</td>\n",
              "      <td>7297</td>\n",
              "      <td>14175</td>\n",
              "    </tr>\n",
              "  </tbody>\n",
              "</table>\n",
              "</div>"
            ],
            "text/plain": [
              "Predicted     0     1    All\n",
              "True                        \n",
              "0          4252  2712   6964\n",
              "1          2626  4585   7211\n",
              "All        6878  7297  14175"
            ]
          },
          "metadata": {
            "tags": []
          },
          "execution_count": 119
        }
      ]
    },
    {
      "cell_type": "markdown",
      "metadata": {
        "id": "g-dFuEY_ICPb",
        "colab_type": "text"
      },
      "source": [
        "### Optimization\n",
        "\n",
        "**The following grid search returns the hyperparameters which provide the best results with a recall of 0.70 and an accuracy of 0.73**\n",
        "\n",
        "**The hyperparameters tuned are**\n",
        "- **criterion: The function used to measure the quality of a split.**\n",
        "- **min_samples_split: The minimum number of samples required to split an internal node**\n",
        "- **max_depth: Maximum number of levels that the decision tree can have**\n",
        "- **min_samples_leaf: he minimum number of samples required to be at a leaf node.**\n",
        "- **max_leaf_nodes: The maximum number of leaf nodes that the decision tree is allowed to have**"
      ]
    },
    {
      "cell_type": "code",
      "metadata": {
        "id": "ajOEhmrIIBhx",
        "colab_type": "code",
        "outputId": "af2c4957-c715-4a7a-d508-c7d438b242e8",
        "colab": {
          "base_uri": "https://localhost:8080/",
          "height": 722
        }
      },
      "source": [
        "param_grid = {'criterion': ['gini', 'entropy'],\n",
        "              'min_samples_split': [2, 10, 20],\n",
        "              'max_depth': [5, 10, 20, 25, 30],\n",
        "              'min_samples_leaf': [1, 5, 10],\n",
        "              'max_leaf_nodes': list(range(25,50))}\n",
        "dt_gs = GridSearchCV(DecisionTreeClassifier(), param_grid, scoring='recall',cv = 6,n_jobs=4,verbose=1)\n",
        "dt_gs.fit(X_train, y_train)"
      ],
      "execution_count": 120,
      "outputs": [
        {
          "output_type": "stream",
          "text": [
            "Fitting 6 folds for each of 2250 candidates, totalling 13500 fits\n"
          ],
          "name": "stdout"
        },
        {
          "output_type": "stream",
          "text": [
            "[Parallel(n_jobs=4)]: Using backend LokyBackend with 4 concurrent workers.\n",
            "[Parallel(n_jobs=4)]: Done  42 tasks      | elapsed:    3.6s\n",
            "[Parallel(n_jobs=4)]: Done 192 tasks      | elapsed:   11.8s\n",
            "[Parallel(n_jobs=4)]: Done 442 tasks      | elapsed:   25.7s\n",
            "[Parallel(n_jobs=4)]: Done 792 tasks      | elapsed:   45.1s\n",
            "[Parallel(n_jobs=4)]: Done 1242 tasks      | elapsed:  1.2min\n",
            "[Parallel(n_jobs=4)]: Done 1792 tasks      | elapsed:  1.7min\n",
            "[Parallel(n_jobs=4)]: Done 2442 tasks      | elapsed:  2.5min\n",
            "[Parallel(n_jobs=4)]: Done 3192 tasks      | elapsed:  3.3min\n",
            "[Parallel(n_jobs=4)]: Done 4042 tasks      | elapsed:  4.2min\n",
            "[Parallel(n_jobs=4)]: Done 4992 tasks      | elapsed:  5.3min\n",
            "[Parallel(n_jobs=4)]: Done 6042 tasks      | elapsed:  6.4min\n",
            "[Parallel(n_jobs=4)]: Done 7192 tasks      | elapsed:  7.6min\n",
            "[Parallel(n_jobs=4)]: Done 8442 tasks      | elapsed:  8.9min\n",
            "[Parallel(n_jobs=4)]: Done 9792 tasks      | elapsed: 10.5min\n",
            "[Parallel(n_jobs=4)]: Done 11242 tasks      | elapsed: 12.3min\n",
            "[Parallel(n_jobs=4)]: Done 12792 tasks      | elapsed: 14.1min\n",
            "[Parallel(n_jobs=4)]: Done 13500 out of 13500 | elapsed: 15.0min finished\n"
          ],
          "name": "stderr"
        },
        {
          "output_type": "execute_result",
          "data": {
            "text/plain": [
              "GridSearchCV(cv=6, error_score=nan,\n",
              "             estimator=DecisionTreeClassifier(ccp_alpha=0.0, class_weight=None,\n",
              "                                              criterion='gini', max_depth=None,\n",
              "                                              max_features=None,\n",
              "                                              max_leaf_nodes=None,\n",
              "                                              min_impurity_decrease=0.0,\n",
              "                                              min_impurity_split=None,\n",
              "                                              min_samples_leaf=1,\n",
              "                                              min_samples_split=2,\n",
              "                                              min_weight_fraction_leaf=0.0,\n",
              "                                              presort='deprecated',\n",
              "                                              random_state=None,\n",
              "                                              splitter='best'),\n",
              "             iid='deprecated', n_jobs=4,\n",
              "             param_grid={'criterion': ['gini', 'entropy'],\n",
              "                         'max_depth': [5, 10, 20, 25, 30],\n",
              "                         'max_leaf_nodes': [25, 26, 27, 28, 29, 30, 31, 32, 33,\n",
              "                                            34, 35, 36, 37, 38, 39, 40, 41, 42,\n",
              "                                            43, 44, 45, 46, 47, 48, 49],\n",
              "                         'min_samples_leaf': [1, 5, 10],\n",
              "                         'min_samples_split': [2, 10, 20]},\n",
              "             pre_dispatch='2*n_jobs', refit=True, return_train_score=False,\n",
              "             scoring='recall', verbose=1)"
            ]
          },
          "metadata": {
            "tags": []
          },
          "execution_count": 120
        }
      ]
    },
    {
      "cell_type": "code",
      "metadata": {
        "id": "1oua4gh3IP4m",
        "colab_type": "code",
        "outputId": "e976bc97-fb57-4f59-fb6c-def2847be003",
        "colab": {
          "base_uri": "https://localhost:8080/",
          "height": 34
        }
      },
      "source": [
        "print(dt_gs.best_score_)"
      ],
      "execution_count": 121,
      "outputs": [
        {
          "output_type": "stream",
          "text": [
            "0.699969046362093\n"
          ],
          "name": "stdout"
        }
      ]
    },
    {
      "cell_type": "code",
      "metadata": {
        "id": "iq_ICqToIW4B",
        "colab_type": "code",
        "outputId": "33cc980a-3b65-4de7-a2e0-225ae86e1640",
        "colab": {
          "base_uri": "https://localhost:8080/",
          "height": 101
        }
      },
      "source": [
        "for hps, values in dt_gs.best_params_.items():\n",
        "    print(f\"{hps}: {values}\")"
      ],
      "execution_count": 122,
      "outputs": [
        {
          "output_type": "stream",
          "text": [
            "criterion: gini\n",
            "max_depth: 20\n",
            "max_leaf_nodes: 49\n",
            "min_samples_leaf: 10\n",
            "min_samples_split: 2\n"
          ],
          "name": "stdout"
        }
      ]
    },
    {
      "cell_type": "code",
      "metadata": {
        "id": "4Ep9WM87NPLc",
        "colab_type": "code",
        "colab": {}
      },
      "source": [
        "pred = dt_gs.best_estimator_.predict(X_test)\n",
        "dt_pred = pred"
      ],
      "execution_count": 0,
      "outputs": []
    },
    {
      "cell_type": "code",
      "metadata": {
        "id": "71r11lz8IdOD",
        "colab_type": "code",
        "outputId": "21f21bd8-c9ac-406c-81a4-e8e27f2b532f",
        "colab": {
          "base_uri": "https://localhost:8080/",
          "height": 367
        }
      },
      "source": [
        "print(classification_report(y_test,pred))\n",
        "print(\"Accuracy Score: \",accuracy_score(y_test,pred))\n",
        "print(\"Recall Score: \",recall_score(y_test,pred))\n",
        "print(\"F1 Score: \",f1_score(y_test,pred))\n",
        "pd.crosstab(y_test, pred, rownames=['True'], colnames=['Predicted'], margins=True)"
      ],
      "execution_count": 124,
      "outputs": [
        {
          "output_type": "stream",
          "text": [
            "              precision    recall  f1-score   support\n",
            "\n",
            "           0       0.71      0.76      0.73      6964\n",
            "           1       0.75      0.70      0.73      7211\n",
            "\n",
            "    accuracy                           0.73     14175\n",
            "   macro avg       0.73      0.73      0.73     14175\n",
            "weighted avg       0.73      0.73      0.73     14175\n",
            "\n",
            "Accuracy Score:  0.729594356261023\n",
            "Recall Score:  0.7035085286368049\n",
            "F1 Score:  0.7258029901995852\n"
          ],
          "name": "stdout"
        },
        {
          "output_type": "execute_result",
          "data": {
            "text/html": [
              "<div>\n",
              "<style scoped>\n",
              "    .dataframe tbody tr th:only-of-type {\n",
              "        vertical-align: middle;\n",
              "    }\n",
              "\n",
              "    .dataframe tbody tr th {\n",
              "        vertical-align: top;\n",
              "    }\n",
              "\n",
              "    .dataframe thead th {\n",
              "        text-align: right;\n",
              "    }\n",
              "</style>\n",
              "<table border=\"1\" class=\"dataframe\">\n",
              "  <thead>\n",
              "    <tr style=\"text-align: right;\">\n",
              "      <th>Predicted</th>\n",
              "      <th>0</th>\n",
              "      <th>1</th>\n",
              "      <th>All</th>\n",
              "    </tr>\n",
              "    <tr>\n",
              "      <th>True</th>\n",
              "      <th></th>\n",
              "      <th></th>\n",
              "      <th></th>\n",
              "    </tr>\n",
              "  </thead>\n",
              "  <tbody>\n",
              "    <tr>\n",
              "      <th>0</th>\n",
              "      <td>5269</td>\n",
              "      <td>1695</td>\n",
              "      <td>6964</td>\n",
              "    </tr>\n",
              "    <tr>\n",
              "      <th>1</th>\n",
              "      <td>2138</td>\n",
              "      <td>5073</td>\n",
              "      <td>7211</td>\n",
              "    </tr>\n",
              "    <tr>\n",
              "      <th>All</th>\n",
              "      <td>7407</td>\n",
              "      <td>6768</td>\n",
              "      <td>14175</td>\n",
              "    </tr>\n",
              "  </tbody>\n",
              "</table>\n",
              "</div>"
            ],
            "text/plain": [
              "Predicted     0     1    All\n",
              "True                        \n",
              "0          5269  1695   6964\n",
              "1          2138  5073   7211\n",
              "All        7407  6768  14175"
            ]
          },
          "metadata": {
            "tags": []
          },
          "execution_count": 124
        }
      ]
    },
    {
      "cell_type": "markdown",
      "metadata": {
        "id": "y0LnitrASfOJ",
        "colab_type": "text"
      },
      "source": [
        "### ROC Curve\n",
        "**The ROC Curve can be seen below, it has an AUC value of 0.795**"
      ]
    },
    {
      "cell_type": "code",
      "metadata": {
        "id": "LW3CM7VkSeOx",
        "colab_type": "code",
        "outputId": "329a6d28-c35c-440f-dc1a-5e4a5146f0c7",
        "colab": {
          "base_uri": "https://localhost:8080/",
          "height": 530
        }
      },
      "source": [
        "generate_roc(dt_gs.best_estimator_,y_test,'Decision Trees')"
      ],
      "execution_count": 125,
      "outputs": [
        {
          "output_type": "stream",
          "text": [
            "No Skill: ROC AUC=0.500\n",
            "Decision Trees: ROC AUC=0.795\n"
          ],
          "name": "stdout"
        },
        {
          "output_type": "display_data",
          "data": {
            "image/png": "[encoded data removed]",
            "text/plain": [
              "<Figure size 1152x576 with 1 Axes>"
            ]
          },
          "metadata": {
            "tags": [],
            "needs_background": "light"
          }
        }
      ]
    },
    {
      "cell_type": "markdown",
      "metadata": {
        "id": "Y5hoWZnOlliR",
        "colab_type": "text"
      },
      "source": [
        "### Feature Importance"
      ]
    },
    {
      "cell_type": "code",
      "metadata": {
        "id": "jXoVYTiLlvgA",
        "colab_type": "code",
        "colab": {}
      },
      "source": [
        "importances = dt_gs.best_estimator_.feature_importances_\n",
        "features = X_train.columns\n",
        "indices = np.argsort(importances)"
      ],
      "execution_count": 0,
      "outputs": []
    },
    {
      "cell_type": "code",
      "metadata": {
        "id": "5i0AA_7fllF_",
        "colab_type": "code",
        "colab": {
          "base_uri": "https://localhost:8080/",
          "height": 513
        },
        "outputId": "1c6f5129-d939-44f1-c065-73d7bf654c08"
      },
      "source": [
        "plt.figure(figsize = (10,8))\n",
        "plt.title('Feature Importances')\n",
        "plt.barh(range(len(indices)), importances[indices], color='b', align='center')\n",
        "plt.yticks(range(len(indices)), [features[i] for i in indices])\n",
        "plt.xlabel('Relative Importance')\n",
        "plt.show()"
      ],
      "execution_count": 127,
      "outputs": [
        {
          "output_type": "display_data",
          "data": {
            "image/png": "[encoded data removed]",
            "text/plain": [
              "<Figure size 720x576 with 1 Axes>"
            ]
          },
          "metadata": {
            "tags": [],
            "needs_background": "light"
          }
        }
      ]
    },
    {
      "cell_type": "markdown",
      "metadata": {
        "id": "jIAAgXA9RpNS",
        "colab_type": "text"
      },
      "source": [
        "### Best model table\n",
        "**Due to a higher recall and accuracy values, we choose the grid search results as the best model**"
      ]
    },
    {
      "cell_type": "code",
      "metadata": {
        "id": "1VbyxaH3RmBp",
        "colab_type": "code",
        "colab": {
          "base_uri": "https://localhost:8080/",
          "height": 106
        },
        "outputId": "815b0d81-71dc-450f-d5f4-faa050acc2ab"
      },
      "source": [
        "Model_comparison_DT = {'Model':['Baseline','Grid Search results'],\n",
        "        'criterion' :['gini','gini'],            \n",
        "        'min_samples_split':[2,2],                              \n",
        "        'max_depth':[None,20],\n",
        "        'min_samples_leaf':[1,10],\n",
        "        'max_leaf_nodes':[None,49],\n",
        "        'Recall': [0.6358341422826238,0.7035085286368049],\n",
        "        'Precision': [0.63,0.75],\n",
        "        'Accuracy': [0.6234215167548501,0.729594356261023]\n",
        "       }\n",
        "pd.DataFrame(Model_comparison_DT)"
      ],
      "execution_count": 157,
      "outputs": [
        {
          "output_type": "execute_result",
          "data": {
            "text/html": [
              "<div>\n",
              "<style scoped>\n",
              "    .dataframe tbody tr th:only-of-type {\n",
              "        vertical-align: middle;\n",
              "    }\n",
              "\n",
              "    .dataframe tbody tr th {\n",
              "        vertical-align: top;\n",
              "    }\n",
              "\n",
              "    .dataframe thead th {\n",
              "        text-align: right;\n",
              "    }\n",
              "</style>\n",
              "<table border=\"1\" class=\"dataframe\">\n",
              "  <thead>\n",
              "    <tr style=\"text-align: right;\">\n",
              "      <th></th>\n",
              "      <th>Model</th>\n",
              "      <th>criterion</th>\n",
              "      <th>min_samples_split</th>\n",
              "      <th>max_depth</th>\n",
              "      <th>min_samples_leaf</th>\n",
              "      <th>max_leaf_nodes</th>\n",
              "      <th>Recall</th>\n",
              "      <th>Precision</th>\n",
              "      <th>Accuracy</th>\n",
              "    </tr>\n",
              "  </thead>\n",
              "  <tbody>\n",
              "    <tr>\n",
              "      <th>0</th>\n",
              "      <td>Baseline</td>\n",
              "      <td>gini</td>\n",
              "      <td>2</td>\n",
              "      <td>NaN</td>\n",
              "      <td>1</td>\n",
              "      <td>NaN</td>\n",
              "      <td>0.635834</td>\n",
              "      <td>0.63</td>\n",
              "      <td>0.623422</td>\n",
              "    </tr>\n",
              "    <tr>\n",
              "      <th>1</th>\n",
              "      <td>Grid Search results</td>\n",
              "      <td>gini</td>\n",
              "      <td>2</td>\n",
              "      <td>20.0</td>\n",
              "      <td>10</td>\n",
              "      <td>49.0</td>\n",
              "      <td>0.703509</td>\n",
              "      <td>0.75</td>\n",
              "      <td>0.729594</td>\n",
              "    </tr>\n",
              "  </tbody>\n",
              "</table>\n",
              "</div>"
            ],
            "text/plain": [
              "                 Model criterion  ...  Precision  Accuracy\n",
              "0             Baseline      gini  ...       0.63  0.623422\n",
              "1  Grid Search results      gini  ...       0.75  0.729594\n",
              "\n",
              "[2 rows x 9 columns]"
            ]
          },
          "metadata": {
            "tags": []
          },
          "execution_count": 157
        }
      ]
    },
    {
      "cell_type": "markdown",
      "metadata": {
        "id": "gTOFAPlpThs5",
        "colab_type": "text"
      },
      "source": [
        "# Model Comparison\n",
        "\n",
        "**The below table compares the different models**"
      ]
    },
    {
      "cell_type": "code",
      "metadata": {
        "id": "9L5E8_piTlK1",
        "colab_type": "code",
        "colab": {
          "base_uri": "https://localhost:8080/",
          "height": 373
        },
        "outputId": "260fce5e-b15c-48d0-f8bb-0cfa37d1a26a"
      },
      "source": [
        "Model_comparison_GBM = {'Model':['Logistic Regression','Decision Tree','ANN0','ANN1','ANN2','K Nearest Neighbor','Naive bayes','Random Forest'\\\n",
        "                                 ,'Gradient Boosting','Linear Support Vector Machines','Non Linear Support Vector Machines'],\n",
        "        'Accuracy':[0.731358024691358,0.729594356261023,0.7321340388007055,0.7350970017636684,0.7391887125220459,0.7300176366843033,\\\n",
        "                    0.712804,0.738765,0.737496,0.730794,0.7311463844797178],            \n",
        "        'Recall':[0.6944173743561186,0.7035085286368049,0.719476541834888,0.719476541834888,0.7061116525128777,0.6931922398589065,\\\n",
        "                  0.653627,0.688113,0.713629,0.688013,0.7030488653765836],\n",
        "        'Hyperparameters':['solver,C,solver,max_iter,warm_start','criterion,min_samples,max_depth,min_samples_leaf,max_leaf_nodes',\\\n",
        "                           'optimizer,batch_size,epochs','optimizer,batch_size,epochs,Hidden Layer Nodes',\\\n",
        "                           'optimizer,batch_size,epochs,Hidden Layer 1 Nodes,Hidden Layer 2 Nodes','n_neighbors,weights,algorithm,p',\\\n",
        "                           'alpha,fit_prior','n_estimators,max_depth,min_samples_split,criterion,min_samples_leaf',\\\n",
        "                           'n_estimators,loss,learning_rate,max_depth,min_samples_split,max_features,subsample',\\\n",
        "                           'C,dual,loss,penalty,max_iter','C,gamma,kernel'],\n",
        "        'Time':['15 seconds','15 seconds','30 seconds','2 minutes','3 minutes','1 minute','15 seconds','1 minute','5 minutes','10 minutes',\\\n",
        "                '15 mins']\n",
        "       }\n",
        "pd.DataFrame(Model_comparison_GBM).sort_values(by='Accuracy',ascending=False)"
      ],
      "execution_count": 286,
      "outputs": [
        {
          "output_type": "execute_result",
          "data": {
            "text/html": [
              "<div>\n",
              "<style scoped>\n",
              "    .dataframe tbody tr th:only-of-type {\n",
              "        vertical-align: middle;\n",
              "    }\n",
              "\n",
              "    .dataframe tbody tr th {\n",
              "        vertical-align: top;\n",
              "    }\n",
              "\n",
              "    .dataframe thead th {\n",
              "        text-align: right;\n",
              "    }\n",
              "</style>\n",
              "<table border=\"1\" class=\"dataframe\">\n",
              "  <thead>\n",
              "    <tr style=\"text-align: right;\">\n",
              "      <th></th>\n",
              "      <th>Model</th>\n",
              "      <th>Accuracy</th>\n",
              "      <th>Recall</th>\n",
              "      <th>Hyperparameters</th>\n",
              "      <th>Time</th>\n",
              "    </tr>\n",
              "  </thead>\n",
              "  <tbody>\n",
              "    <tr>\n",
              "      <th>4</th>\n",
              "      <td>ANN2</td>\n",
              "      <td>0.739189</td>\n",
              "      <td>0.706112</td>\n",
              "      <td>optimizer,batch_size,epochs,Hidden Layer 1 Nod...</td>\n",
              "      <td>3 minutes</td>\n",
              "    </tr>\n",
              "    <tr>\n",
              "      <th>7</th>\n",
              "      <td>Random Forest</td>\n",
              "      <td>0.738765</td>\n",
              "      <td>0.688113</td>\n",
              "      <td>n_estimators,max_depth,min_samples_split,crite...</td>\n",
              "      <td>1 minute</td>\n",
              "    </tr>\n",
              "    <tr>\n",
              "      <th>8</th>\n",
              "      <td>Gradient Boosting</td>\n",
              "      <td>0.737496</td>\n",
              "      <td>0.713629</td>\n",
              "      <td>n_estimators,loss,learning_rate,max_depth,min_...</td>\n",
              "      <td>5 minutes</td>\n",
              "    </tr>\n",
              "    <tr>\n",
              "      <th>3</th>\n",
              "      <td>ANN1</td>\n",
              "      <td>0.735097</td>\n",
              "      <td>0.719477</td>\n",
              "      <td>optimizer,batch_size,epochs,Hidden Layer Nodes</td>\n",
              "      <td>2 minutes</td>\n",
              "    </tr>\n",
              "    <tr>\n",
              "      <th>2</th>\n",
              "      <td>ANN0</td>\n",
              "      <td>0.732134</td>\n",
              "      <td>0.719477</td>\n",
              "      <td>optimizer,batch_size,epochs</td>\n",
              "      <td>30 seconds</td>\n",
              "    </tr>\n",
              "    <tr>\n",
              "      <th>0</th>\n",
              "      <td>Logistic Regression</td>\n",
              "      <td>0.731358</td>\n",
              "      <td>0.694417</td>\n",
              "      <td>solver,C,solver,max_iter,warm_start</td>\n",
              "      <td>15 seconds</td>\n",
              "    </tr>\n",
              "    <tr>\n",
              "      <th>10</th>\n",
              "      <td>Non Linear Support Vector Machines</td>\n",
              "      <td>0.731146</td>\n",
              "      <td>0.703049</td>\n",
              "      <td>C,gamma,kernel</td>\n",
              "      <td>15 mins</td>\n",
              "    </tr>\n",
              "    <tr>\n",
              "      <th>9</th>\n",
              "      <td>Linear Support Vector Machines</td>\n",
              "      <td>0.730794</td>\n",
              "      <td>0.688013</td>\n",
              "      <td>C,dual,loss,penalty,max_iter</td>\n",
              "      <td>10 minutes</td>\n",
              "    </tr>\n",
              "    <tr>\n",
              "      <th>5</th>\n",
              "      <td>K Nearest Neighbor</td>\n",
              "      <td>0.730018</td>\n",
              "      <td>0.693192</td>\n",
              "      <td>n_neighbors,weights,algorithm,p</td>\n",
              "      <td>1 minute</td>\n",
              "    </tr>\n",
              "    <tr>\n",
              "      <th>1</th>\n",
              "      <td>Decision Tree</td>\n",
              "      <td>0.729594</td>\n",
              "      <td>0.703509</td>\n",
              "      <td>criterion,min_samples,max_depth,min_samples_le...</td>\n",
              "      <td>15 seconds</td>\n",
              "    </tr>\n",
              "    <tr>\n",
              "      <th>6</th>\n",
              "      <td>Naive bayes</td>\n",
              "      <td>0.712804</td>\n",
              "      <td>0.653627</td>\n",
              "      <td>alpha,fit_prior</td>\n",
              "      <td>15 seconds</td>\n",
              "    </tr>\n",
              "  </tbody>\n",
              "</table>\n",
              "</div>"
            ],
            "text/plain": [
              "                                 Model  ...        Time\n",
              "4                                 ANN2  ...   3 minutes\n",
              "7                        Random Forest  ...    1 minute\n",
              "8                    Gradient Boosting  ...   5 minutes\n",
              "3                                 ANN1  ...   2 minutes\n",
              "2                                 ANN0  ...  30 seconds\n",
              "0                  Logistic Regression  ...  15 seconds\n",
              "10  Non Linear Support Vector Machines  ...     15 mins\n",
              "9       Linear Support Vector Machines  ...  10 minutes\n",
              "5                   K Nearest Neighbor  ...    1 minute\n",
              "1                        Decision Tree  ...  15 seconds\n",
              "6                          Naive bayes  ...  15 seconds\n",
              "\n",
              "[11 rows x 5 columns]"
            ]
          },
          "metadata": {
            "tags": []
          },
          "execution_count": 286
        }
      ]
    },
    {
      "cell_type": "markdown",
      "metadata": {
        "id": "TynYq5p7StGf",
        "colab_type": "text"
      },
      "source": [
        "## Comparison between Decision Tree, Logistic Regression and Ensemble Learning\n",
        "\n",
        "- **Decision Tree and Gradient Boosting are nearly identical in terms of the most important features, both models list High Blood Pressure, Low Blood Pressure, BMI, Cholesterol too high and age among the most important features**\n",
        "- **Decision Tree and Random Forest are also similar in terms of important features, both models list High Blood Pressure, Low Blood Pressure, BMI, Age, Weight and Cholesterol too high among the most important features**\n",
        "- **Decision Tree and Logistic Regression have similar feature importance, both models list High Blood Pressure,age,BMI and Cholesterol too high among the most important features. However, logistic regression finds some attributes like cholesterol normal to be important whereas decision tree does not**\n",
        "\n",
        "**Overall the four models are in general agreement over which features are the most important. High Blood pressure,Low Blood Pressure, Age, BMI and Cholesterol too high seem to be important across all the models**"
      ]
    },
    {
      "cell_type": "markdown",
      "metadata": {
        "id": "UKV-X1h-x-zk",
        "colab_type": "text"
      },
      "source": [
        "## Comparison between Logistic Regression, Linear SVM and Single Layer Perceptron\n",
        "\n",
        "**The three models have similar performances in terms of accuracy. Linear SVM and Perceptron are similar because both models attempt to classify data by drawing a linear hyperplane through the data in ordert to classify into different categories. Logistic regression is also a linear combination between the independant variables which draws a linear plane.**\n",
        "\n",
        "\n",
        "**Additionally, logistic regression and ANN0 both find a linear combination of variables and apply the sigmoid function**"
      ]
    },
    {
      "cell_type": "markdown",
      "metadata": {
        "id": "YVO_JEpUIWG6",
        "colab_type": "text"
      },
      "source": [
        "# Test Data Predictions"
      ]
    },
    {
      "cell_type": "markdown",
      "metadata": {
        "id": "DF7pklJ6IWG6",
        "colab_type": "text"
      },
      "source": [
        "## Logistic Regression"
      ]
    },
    {
      "cell_type": "code",
      "metadata": {
        "id": "t9mmO4c0IWG6",
        "colab_type": "code",
        "colab": {
          "base_uri": "https://localhost:8080/",
          "height": 34
        },
        "outputId": "9e98adc3-5833-4486-8021-06bb51255cc2"
      },
      "source": [
        "lr_pred = lr_gs.best_estimator_.predict(df_test_standardized.drop('ID',axis = 1))\n",
        "lr_pred"
      ],
      "execution_count": 262,
      "outputs": [
        {
          "output_type": "execute_result",
          "data": {
            "text/plain": [
              "array([0, 0, 1, ..., 1, 1, 1])"
            ]
          },
          "metadata": {
            "tags": []
          },
          "execution_count": 262
        }
      ]
    },
    {
      "cell_type": "markdown",
      "metadata": {
        "id": "EVmDpvwmIWG_",
        "colab_type": "text"
      },
      "source": [
        "## Decision Tree"
      ]
    },
    {
      "cell_type": "code",
      "metadata": {
        "id": "lJM4sOgxIWHB",
        "colab_type": "code",
        "colab": {
          "base_uri": "https://localhost:8080/",
          "height": 34
        },
        "outputId": "8c6d4187-9b9c-41af-9602-b251c65de8db"
      },
      "source": [
        "dt_pred = dt_gs.best_estimator_.predict(df_test_one_hot.drop('ID',axis = 1))\n",
        "dt_pred"
      ],
      "execution_count": 263,
      "outputs": [
        {
          "output_type": "execute_result",
          "data": {
            "text/plain": [
              "array([0, 0, 0, ..., 0, 1, 1])"
            ]
          },
          "metadata": {
            "tags": []
          },
          "execution_count": 263
        }
      ]
    },
    {
      "cell_type": "markdown",
      "metadata": {
        "id": "fuwTxDKiHVCo",
        "colab_type": "text"
      },
      "source": [
        "## Artificial Neural Network (Zero Hidden Layers)"
      ]
    },
    {
      "cell_type": "code",
      "metadata": {
        "id": "kRkZAchKHVkF",
        "colab_type": "code",
        "colab": {
          "base_uri": "https://localhost:8080/",
          "height": 34
        },
        "outputId": "0e32068e-fc33-4460-a234-2ccd32914776"
      },
      "source": [
        "ann0_pred = np.stack(ann0.predict_classes(df_test_standardized.drop('ID',axis = 1)),axis =1)[0]\n",
        "ann0_pred"
      ],
      "execution_count": 264,
      "outputs": [
        {
          "output_type": "execute_result",
          "data": {
            "text/plain": [
              "array([0, 0, 1, ..., 1, 1, 1], dtype=int32)"
            ]
          },
          "metadata": {
            "tags": []
          },
          "execution_count": 264
        }
      ]
    },
    {
      "cell_type": "markdown",
      "metadata": {
        "id": "rsdNv_BiHtc6",
        "colab_type": "text"
      },
      "source": [
        "## Artificial Neural Network (One Hidden Layer)"
      ]
    },
    {
      "cell_type": "code",
      "metadata": {
        "id": "tIs7V0oGHtyX",
        "colab_type": "code",
        "colab": {
          "base_uri": "https://localhost:8080/",
          "height": 34
        },
        "outputId": "8b99daff-0111-4d65-f4e6-f7aa7b656261"
      },
      "source": [
        "ann1_pred = np.stack(ann1.predict_classes(df_test_standardized.drop('ID',axis = 1)),axis =1)[0]\n",
        "ann1_pred"
      ],
      "execution_count": 265,
      "outputs": [
        {
          "output_type": "execute_result",
          "data": {
            "text/plain": [
              "array([0, 0, 0, ..., 0, 1, 0], dtype=int32)"
            ]
          },
          "metadata": {
            "tags": []
          },
          "execution_count": 265
        }
      ]
    },
    {
      "cell_type": "markdown",
      "metadata": {
        "id": "xAbWvAUvH0i_",
        "colab_type": "text"
      },
      "source": [
        "## Artificial Neural Network (Two Hidden Layers)"
      ]
    },
    {
      "cell_type": "code",
      "metadata": {
        "id": "yRB7nr44H0QV",
        "colab_type": "code",
        "colab": {
          "base_uri": "https://localhost:8080/",
          "height": 34
        },
        "outputId": "fd9ed131-1606-4608-950f-b2ef385e644b"
      },
      "source": [
        "ann2_pred = np.stack(ann2.predict_classes(df_test_standardized.drop('ID',axis = 1)),axis =1)[0]\n",
        "ann2_pred"
      ],
      "execution_count": 266,
      "outputs": [
        {
          "output_type": "execute_result",
          "data": {
            "text/plain": [
              "array([0, 0, 1, ..., 0, 1, 0], dtype=int32)"
            ]
          },
          "metadata": {
            "tags": []
          },
          "execution_count": 266
        }
      ]
    },
    {
      "cell_type": "markdown",
      "metadata": {
        "id": "VBm1HZtpIWHD",
        "colab_type": "text"
      },
      "source": [
        "## Exporting Training Data"
      ]
    },
    {
      "cell_type": "code",
      "metadata": {
        "id": "Z5ETc8S_IWHE",
        "colab_type": "code",
        "colab": {
          "base_uri": "https://localhost:8080/",
          "height": 195
        },
        "outputId": "679b1ca7-8643-49eb-ed28-e71acd866a59"
      },
      "source": [
        "data1 = {\n",
        "    'ID' : df_testing.ID,\n",
        "    'DT': dt_pred,\n",
        "    'LR': lr_pred,\n",
        "    'ANN0' : ann0_pred,\n",
        "    'ANN1' : ann1_pred,\n",
        "    'ANN2' : ann2_pred\n",
        "}\n",
        "\n",
        "final_result = pd.DataFrame(data1)\n",
        "final_result.head()"
      ],
      "execution_count": 267,
      "outputs": [
        {
          "output_type": "execute_result",
          "data": {
            "text/html": [
              "<div>\n",
              "<style scoped>\n",
              "    .dataframe tbody tr th:only-of-type {\n",
              "        vertical-align: middle;\n",
              "    }\n",
              "\n",
              "    .dataframe tbody tr th {\n",
              "        vertical-align: top;\n",
              "    }\n",
              "\n",
              "    .dataframe thead th {\n",
              "        text-align: right;\n",
              "    }\n",
              "</style>\n",
              "<table border=\"1\" class=\"dataframe\">\n",
              "  <thead>\n",
              "    <tr style=\"text-align: right;\">\n",
              "      <th></th>\n",
              "      <th>ID</th>\n",
              "      <th>DT</th>\n",
              "      <th>LR</th>\n",
              "      <th>ANN0</th>\n",
              "      <th>ANN1</th>\n",
              "      <th>ANN2</th>\n",
              "    </tr>\n",
              "  </thead>\n",
              "  <tbody>\n",
              "    <tr>\n",
              "      <th>0</th>\n",
              "      <td>0</td>\n",
              "      <td>0</td>\n",
              "      <td>0</td>\n",
              "      <td>0</td>\n",
              "      <td>0</td>\n",
              "      <td>0</td>\n",
              "    </tr>\n",
              "    <tr>\n",
              "      <th>1</th>\n",
              "      <td>1</td>\n",
              "      <td>0</td>\n",
              "      <td>0</td>\n",
              "      <td>0</td>\n",
              "      <td>0</td>\n",
              "      <td>0</td>\n",
              "    </tr>\n",
              "    <tr>\n",
              "      <th>2</th>\n",
              "      <td>2</td>\n",
              "      <td>0</td>\n",
              "      <td>1</td>\n",
              "      <td>1</td>\n",
              "      <td>0</td>\n",
              "      <td>1</td>\n",
              "    </tr>\n",
              "    <tr>\n",
              "      <th>3</th>\n",
              "      <td>3</td>\n",
              "      <td>1</td>\n",
              "      <td>1</td>\n",
              "      <td>1</td>\n",
              "      <td>1</td>\n",
              "      <td>1</td>\n",
              "    </tr>\n",
              "    <tr>\n",
              "      <th>4</th>\n",
              "      <td>4</td>\n",
              "      <td>0</td>\n",
              "      <td>0</td>\n",
              "      <td>0</td>\n",
              "      <td>0</td>\n",
              "      <td>0</td>\n",
              "    </tr>\n",
              "  </tbody>\n",
              "</table>\n",
              "</div>"
            ],
            "text/plain": [
              "   ID  DT  LR  ANN0  ANN1  ANN2\n",
              "0   0   0   0     0     0     0\n",
              "1   1   0   0     0     0     0\n",
              "2   2   0   1     1     0     1\n",
              "3   3   1   1     1     1     1\n",
              "4   4   0   0     0     0     0"
            ]
          },
          "metadata": {
            "tags": []
          },
          "execution_count": 267
        }
      ]
    },
    {
      "cell_type": "code",
      "metadata": {
        "id": "YAR1qRUvIWHJ",
        "colab_type": "code",
        "colab": {}
      },
      "source": [
        "final_result.to_csv('final.csv',index = False)"
      ],
      "execution_count": 0,
      "outputs": []
    },
    {
      "cell_type": "markdown",
      "metadata": {
        "id": "sKFGjLBMIWHO",
        "colab_type": "text"
      },
      "source": [
        "# Conclusion\n",
        "\n",
        "**In conclusion, all the algorithms work fairly well with accuracy's ranging between 72-74 percent. We find that Artificial Neural Networs and logistic Regression are among the best performing models for this dataset. The two ensemble learning models also proved to be highly effective in predicting whether or not a patient has the disease**"
      ]
    }
  ]
}